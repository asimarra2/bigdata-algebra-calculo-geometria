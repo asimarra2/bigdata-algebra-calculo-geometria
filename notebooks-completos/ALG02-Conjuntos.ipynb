{
 "cells": [
  {
   "cell_type": "markdown",
   "id": "619d0b4d",
   "metadata": {},
   "source": [
    "<img src=\"images/keepcoding.png\" width=200 align=\"left\">"
   ]
  },
  {
   "cell_type": "markdown",
   "id": "34308f8d",
   "metadata": {},
   "source": [
    "# Módulo de Álgebra: Conjuntos"
   ]
  },
  {
   "cell_type": "markdown",
   "id": "b636dba3",
   "metadata": {},
   "source": [
    "## 1. Definición y ejemplos\n",
    "\n",
    "Un conjunto es una colección de elementos. Se dice que un elemento (o miembro) pertenece al conjunto si está definido como incluido de algún modo dentro de él.\n",
    "\n",
    "Por ejemplo: \n",
    "\n",
    "- Los colores azul, verde y rojo\n",
    "- Los números naturales menores que 5\n",
    "- Los días de la semana\n",
    "- Todas las frases de El Quijote\n",
    "- Los dos conjuntos anteriores\n",
    "\n",
    "\n",
    "Los conjuntos pueden ser finitos o infinitos, y en caso de ser finitos tienen cardinal (número de elementos).\n",
    "\n",
    "\n",
    "<img src=\"images/PersonsSet.svg.png\" width=400 align=\"center\">\n",
    "\n",
    "El cardinal de este conjunto de personas es 8, y el orden no es relevante."
   ]
  },
  {
   "cell_type": "markdown",
   "id": "caf53f33",
   "metadata": {},
   "source": [
    "## 2 Representación de conjuntos y propiedades\n",
    "### 2.1 Representación matemática y con python\n",
    "\n",
    "En notación matemática, los representamos por llaves.\n",
    "\n",
    "$$\n",
    "A=\\{1,2,3\\}\n",
    "$$\n",
    "\n",
    "En [python](https://docs.python.org/3/library/stdtypes.html#set-types-set-frozenset), podemos usar esta misma notación:"
   ]
  },
  {
   "cell_type": "code",
   "execution_count": 4,
   "id": "c37716a1",
   "metadata": {},
   "outputs": [],
   "source": [
    "# Definimos un conjunto (set) en python\n",
    "A = {1, 2, 3}"
   ]
  },
  {
   "cell_type": "code",
   "execution_count": 5,
   "id": "73810b2c",
   "metadata": {},
   "outputs": [
    {
     "name": "stdout",
     "output_type": "stream",
     "text": [
      "3\n"
     ]
    }
   ],
   "source": [
    "# Podemos conocer su longitud\n",
    "print(len(A))"
   ]
  },
  {
   "cell_type": "markdown",
   "id": "f0e56a58",
   "metadata": {},
   "source": [
    "### 2.2 Algunas propiedades\n",
    "\n",
    "Los **duplicados** no se tienen en cuenta y el orden de los miembros no importa dentro del conjunto, los elementos (en cualquier orden) ya definen el conjunto."
   ]
  },
  {
   "cell_type": "code",
   "execution_count": 6,
   "id": "33f2a82a",
   "metadata": {},
   "outputs": [],
   "source": [
    "# ¿Qué pasa si hay duplicados?\n",
    "B = {1, 1, 2, 3}"
   ]
  },
  {
   "cell_type": "code",
   "execution_count": 7,
   "id": "12c87890",
   "metadata": {},
   "outputs": [
    {
     "data": {
      "text/plain": [
       "{1, 2, 3}"
      ]
     },
     "execution_count": 7,
     "metadata": {},
     "output_type": "execute_result"
    }
   ],
   "source": [
    "B"
   ]
  },
  {
   "cell_type": "code",
   "execution_count": 8,
   "id": "34949e1e",
   "metadata": {},
   "outputs": [
    {
     "data": {
      "text/plain": [
       "True"
      ]
     },
     "execution_count": 8,
     "metadata": {},
     "output_type": "execute_result"
    }
   ],
   "source": [
    "# Comprobamos si A es igual a B\n",
    "A == B"
   ]
  },
  {
   "cell_type": "code",
   "execution_count": 11,
   "id": "0a5eb120-73f4-4702-9681-6491d5fcb9ed",
   "metadata": {},
   "outputs": [
    {
     "name": "stdout",
     "output_type": "stream",
     "text": [
      "{1, 2, 3}\n"
     ]
    }
   ],
   "source": [
    "# Comprobamos si A es distinto de B\n",
    "A != B\n",
    "\n",
    "# También podemos pasarle una operación matemática\n",
    "C = {1, 2, 1+2}\n",
    "print(C)"
   ]
  },
  {
   "cell_type": "code",
   "execution_count": 13,
   "id": "82b477dd",
   "metadata": {},
   "outputs": [
    {
     "name": "stdout",
     "output_type": "stream",
     "text": [
      "True\n",
      "False\n"
     ]
    }
   ],
   "source": [
    "# Podemos ver si un elemento pertenece o no a un conjunto\n",
    "print(1 in A)\n",
    "print(4 in A)"
   ]
  },
  {
   "cell_type": "code",
   "execution_count": 15,
   "id": "b6ca2a93",
   "metadata": {},
   "outputs": [
    {
     "data": {
      "text/plain": [
       "{('azul', 'verde'), -1.23, 4, True, 'rojo'}"
      ]
     },
     "execution_count": 15,
     "metadata": {},
     "output_type": "execute_result"
    }
   ],
   "source": [
    "# Los elementos de los conjuntos no tienen que ser del mismo tipo\n",
    "E = {4, -1.23, \"rojo\", True, ('azul', 'verde')}\n",
    "E"
   ]
  },
  {
   "cell_type": "markdown",
   "id": "d1e93cf2",
   "metadata": {},
   "source": [
    "Otra forma de construir un conjunto en python es usando el **constructor** set() (!!Siempre usando doble paréntesis).\n",
    "\n",
    "Es posible **añadir elementos** a un conjunto mediante add() o update(), dependiendo de si quieremos añadir un elemento o varios (un iterable). También es posible **quitar elementos** usando remove() o discard(), dependiendo de si queremos o no un error si el elemento no existe.\n",
    "\n",
    "Tenemos también la forma frozenset() del constructor, que crea un **conjunto que no puede ser modificado**. Esto es importante porque si no, no podríamos hacer conjuntos con objetos mutables como son las listas, diccionarios o los propios conjuntos."
   ]
  },
  {
   "cell_type": "code",
   "execution_count": 16,
   "id": "faa06bdc",
   "metadata": {},
   "outputs": [
    {
     "name": "stdout",
     "output_type": "stream",
     "text": [
      "<class 'set'>\n"
     ]
    }
   ],
   "source": [
    "# Otra forma de construir conjuntos, el constructor set\n",
    "A = set((1, 2, 3))\n",
    "print(type(A))"
   ]
  },
  {
   "cell_type": "code",
   "execution_count": null,
   "id": "1590eb28",
   "metadata": {},
   "outputs": [],
   "source": []
  },
  {
   "cell_type": "code",
   "execution_count": 17,
   "id": "b5adab78",
   "metadata": {},
   "outputs": [
    {
     "data": {
      "text/plain": [
       "{1, 2, 3, 4}"
      ]
     },
     "execution_count": 17,
     "metadata": {},
     "output_type": "execute_result"
    }
   ],
   "source": [
    "# También podemos usar el constructor set() para crear un conjunto en python, y añadir un elemento después de crearlo\n",
    "A.add(4)\n",
    "A"
   ]
  },
  {
   "cell_type": "code",
   "execution_count": 19,
   "id": "a9799fbe",
   "metadata": {},
   "outputs": [
    {
     "data": {
      "text/plain": [
       "{1, 2, 3, 5}"
      ]
     },
     "execution_count": 19,
     "metadata": {},
     "output_type": "execute_result"
    }
   ],
   "source": [
    "# Este método sirve aunque creemos el conjunto sin el constructor\n",
    "B.add(5)\n",
    "B"
   ]
  },
  {
   "cell_type": "code",
   "execution_count": 20,
   "id": "fe619a76",
   "metadata": {},
   "outputs": [
    {
     "data": {
      "text/plain": [
       "{1, 2, 3, 4, 'blanco', 'verde'}"
      ]
     },
     "execution_count": 20,
     "metadata": {},
     "output_type": "execute_result"
    }
   ],
   "source": [
    "# Podemos añadir varios elementos \n",
    "A.update({'blanco', 'verde'})\n",
    "# A se ha modificado\n",
    "A"
   ]
  },
  {
   "cell_type": "code",
   "execution_count": 22,
   "id": "9d8ee086",
   "metadata": {},
   "outputs": [
    {
     "ename": "KeyError",
     "evalue": "4",
     "output_type": "error",
     "traceback": [
      "\u001b[0;31m---------------------------------------------------------------------------\u001b[0m",
      "\u001b[0;31mKeyError\u001b[0m                                  Traceback (most recent call last)",
      "Cell \u001b[0;32mIn[22], line 2\u001b[0m\n\u001b[1;32m      1\u001b[0m \u001b[38;5;66;03m# Quitar un elemento\u001b[39;00m\n\u001b[0;32m----> 2\u001b[0m \u001b[43mA\u001b[49m\u001b[38;5;241;43m.\u001b[39;49m\u001b[43mremove\u001b[49m\u001b[43m(\u001b[49m\u001b[38;5;241;43m4\u001b[39;49m\u001b[43m)\u001b[49m\n\u001b[1;32m      3\u001b[0m A\n\u001b[1;32m      4\u001b[0m \u001b[38;5;66;03m# Da error si no existe\u001b[39;00m\n",
      "\u001b[0;31mKeyError\u001b[0m: 4"
     ]
    }
   ],
   "source": [
    "# Quitar un elemento\n",
    "A.remove(4)\n",
    "A\n",
    "# Da error si no existe"
   ]
  },
  {
   "cell_type": "code",
   "execution_count": 23,
   "id": "d7dac475",
   "metadata": {},
   "outputs": [],
   "source": [
    "# lo mismo pero sin lanzar error\n",
    "A.discard(4)"
   ]
  },
  {
   "cell_type": "code",
   "execution_count": 24,
   "id": "9851e3bb",
   "metadata": {},
   "outputs": [
    {
     "data": {
      "text/plain": [
       "{1, 2, 3, 'blanco', 'verde'}"
      ]
     },
     "execution_count": 24,
     "metadata": {},
     "output_type": "execute_result"
    }
   ],
   "source": [
    "A"
   ]
  },
  {
   "cell_type": "code",
   "execution_count": 25,
   "id": "ef1d0efe",
   "metadata": {},
   "outputs": [
    {
     "data": {
      "text/plain": [
       "1"
      ]
     },
     "execution_count": 25,
     "metadata": {},
     "output_type": "execute_result"
    }
   ],
   "source": [
    "# También podemos eliminar un elemento al azar \n",
    "A.pop()"
   ]
  },
  {
   "cell_type": "code",
   "execution_count": 26,
   "id": "02c49b79",
   "metadata": {},
   "outputs": [
    {
     "data": {
      "text/plain": [
       "2"
      ]
     },
     "execution_count": 26,
     "metadata": {},
     "output_type": "execute_result"
    }
   ],
   "source": [
    "A.pop()"
   ]
  },
  {
   "cell_type": "code",
   "execution_count": 27,
   "id": "e4f3b953",
   "metadata": {},
   "outputs": [
    {
     "data": {
      "text/plain": [
       "set()"
      ]
     },
     "execution_count": 27,
     "metadata": {},
     "output_type": "execute_result"
    }
   ],
   "source": [
    "# Podemos borrar todos los elementos\n",
    "A.clear()\n",
    "A"
   ]
  },
  {
   "cell_type": "code",
   "execution_count": 28,
   "id": "5623df98",
   "metadata": {},
   "outputs": [
    {
     "name": "stdout",
     "output_type": "stream",
     "text": [
      "<class 'frozenset'>\n",
      "frozenset({1, 2, 3})\n"
     ]
    }
   ],
   "source": [
    "# Creamos un frozenset\n",
    "A = frozenset((1, 2, 3))\n",
    "print(type(A))\n",
    "print(A)"
   ]
  },
  {
   "cell_type": "code",
   "execution_count": 29,
   "id": "d0230185",
   "metadata": {},
   "outputs": [
    {
     "ename": "AttributeError",
     "evalue": "'frozenset' object has no attribute 'add'",
     "output_type": "error",
     "traceback": [
      "\u001b[0;31m---------------------------------------------------------------------------\u001b[0m",
      "\u001b[0;31mAttributeError\u001b[0m                            Traceback (most recent call last)",
      "Cell \u001b[0;32mIn[29], line 2\u001b[0m\n\u001b[1;32m      1\u001b[0m \u001b[38;5;66;03m# Intentamos añadir un elemento\u001b[39;00m\n\u001b[0;32m----> 2\u001b[0m \u001b[43mA\u001b[49m\u001b[38;5;241;43m.\u001b[39;49m\u001b[43madd\u001b[49m(\u001b[38;5;241m4\u001b[39m)\n",
      "\u001b[0;31mAttributeError\u001b[0m: 'frozenset' object has no attribute 'add'"
     ]
    }
   ],
   "source": [
    "# Intentamos añadir un elemento\n",
    "A.add(4)"
   ]
  },
  {
   "cell_type": "markdown",
   "id": "86f9d1ae",
   "metadata": {},
   "source": [
    "Para **recorrer los elementos** de un conjunto, podemos usar un bucle for:"
   ]
  },
  {
   "cell_type": "code",
   "execution_count": 31,
   "id": "150cd1fe",
   "metadata": {},
   "outputs": [
    {
     "name": "stdout",
     "output_type": "stream",
     "text": [
      "1\n",
      "2\n",
      "3\n"
     ]
    }
   ],
   "source": [
    "for elemento in A:\n",
    "    print(elemento)"
   ]
  },
  {
   "cell_type": "code",
   "execution_count": 32,
   "id": "b3650123",
   "metadata": {},
   "outputs": [
    {
     "ename": "TypeError",
     "evalue": "'frozenset' object is not subscriptable",
     "output_type": "error",
     "traceback": [
      "\u001b[0;31m---------------------------------------------------------------------------\u001b[0m",
      "\u001b[0;31mTypeError\u001b[0m                                 Traceback (most recent call last)",
      "Cell \u001b[0;32mIn[32], line 2\u001b[0m\n\u001b[1;32m      1\u001b[0m \u001b[38;5;66;03m# No podemos indexar un set\u001b[39;00m\n\u001b[0;32m----> 2\u001b[0m \u001b[43mA\u001b[49m\u001b[43m[\u001b[49m\u001b[38;5;241;43m0\u001b[39;49m\u001b[43m]\u001b[49m\n",
      "\u001b[0;31mTypeError\u001b[0m: 'frozenset' object is not subscriptable"
     ]
    }
   ],
   "source": [
    "# No podemos indexar un set\n",
    "A[0]"
   ]
  },
  {
   "cell_type": "code",
   "execution_count": 33,
   "id": "6da614cb",
   "metadata": {},
   "outputs": [
    {
     "ename": "TypeError",
     "evalue": "unhashable type: 'list'",
     "output_type": "error",
     "traceback": [
      "\u001b[0;31m---------------------------------------------------------------------------\u001b[0m",
      "\u001b[0;31mTypeError\u001b[0m                                 Traceback (most recent call last)",
      "Cell \u001b[0;32mIn[33], line 2\u001b[0m\n\u001b[1;32m      1\u001b[0m \u001b[38;5;66;03m# Tampoco podemos añadir una lista a un set\u001b[39;00m\n\u001b[0;32m----> 2\u001b[0m A \u001b[38;5;241m=\u001b[39m {\u001b[38;5;241m1\u001b[39m, [\u001b[38;5;241m2\u001b[39m, \u001b[38;5;241m3\u001b[39m]}\n",
      "\u001b[0;31mTypeError\u001b[0m: unhashable type: 'list'"
     ]
    }
   ],
   "source": [
    "# Tampoco podemos añadir una lista a un set\n",
    "A = {1, [2, 3]}"
   ]
  },
  {
   "cell_type": "code",
   "execution_count": 34,
   "id": "38bdcf6c",
   "metadata": {},
   "outputs": [],
   "source": [
    "# Pero sí una tupla\n",
    "A = {1, (2, 3)}"
   ]
  },
  {
   "cell_type": "code",
   "execution_count": 35,
   "id": "3852f19f",
   "metadata": {},
   "outputs": [
    {
     "ename": "TypeError",
     "evalue": "'set' object is not subscriptable",
     "output_type": "error",
     "traceback": [
      "\u001b[0;31m---------------------------------------------------------------------------\u001b[0m",
      "\u001b[0;31mTypeError\u001b[0m                                 Traceback (most recent call last)",
      "Cell \u001b[0;32mIn[35], line 2\u001b[0m\n\u001b[1;32m      1\u001b[0m \u001b[38;5;66;03m# Intentamos acceder a un elemento, pero no están ordenados\u001b[39;00m\n\u001b[0;32m----> 2\u001b[0m \u001b[43mA\u001b[49m\u001b[43m[\u001b[49m\u001b[38;5;241;43m1\u001b[39;49m\u001b[43m]\u001b[49m\n",
      "\u001b[0;31mTypeError\u001b[0m: 'set' object is not subscriptable"
     ]
    }
   ],
   "source": [
    "# Intentamos acceder a un elemento, pero no están ordenados\n",
    "A[1]"
   ]
  },
  {
   "cell_type": "markdown",
   "id": "4b8087e1",
   "metadata": {},
   "source": [
    "El **conjunto vacío** se representa matemáticamente por $\\emptyset$ o simplemente $\\{\\}$.\n",
    "En python, no lo podemos definir con llaves y tenemos que usar el constructor."
   ]
  },
  {
   "cell_type": "code",
   "execution_count": 37,
   "id": "fc8861e5",
   "metadata": {},
   "outputs": [
    {
     "data": {
      "text/plain": [
       "dict"
      ]
     },
     "execution_count": 37,
     "metadata": {},
     "output_type": "execute_result"
    }
   ],
   "source": [
    "# Si intentamos definir el conjunto vacío con llaves no obtendremos lo que buscamos\n",
    "vacio = {}\n",
    "type(vacio)"
   ]
  },
  {
   "cell_type": "code",
   "execution_count": 38,
   "id": "3cdaf3d7",
   "metadata": {},
   "outputs": [
    {
     "data": {
      "text/plain": [
       "set()"
      ]
     },
     "execution_count": 38,
     "metadata": {},
     "output_type": "execute_result"
    }
   ],
   "source": [
    "# Sí que podemos usar el constructor\n",
    "set()"
   ]
  },
  {
   "cell_type": "markdown",
   "id": "53eabb9d",
   "metadata": {},
   "source": [
    "### 2.3 Conjuntos a partir de sus propiedades\n",
    "\n",
    "Una manera de definir los conjuntos es listando todos sus elementos explícitamente, como hemos hecho en el apartado anterior. Esta manera de mostrar los conjuntos se conoce como definición extensiva o notación extensiva. Sin embargo, también es posible definir sus elementos a través de una propiedad o característica que deben poseer todos ellos, es decir, una propiedad o característica que determina la pertenencia a dicho conjunto.\n",
    "\n",
    "Para ello, lo primero que debe hacerse es coger un conjunto bien definido, y tomar algunos de sus elementos en función de una propiedad o característica. Por ejemplo, en la imagen observamos un conjunto de polígonos que podríamos denotar por $P$ y podríamos definir otro conjunto que esté conformado por los elementos de $P$ que sean regulares.\n",
    "\n",
    "<img src=\"./images/polygon_set.png\">\n",
    "\n",
    "Este tipo de construcción de conjunto en la que, en lugar de indicar los elementos individualmente, se determinan sus elementos a través de una propiedad común, se denomina definición intensiva o por comprensión. Matemáticamente utilizan una notación un poco distinta a la que usábamos en la definición extensiva. Por ejemplo, si queremos definir un conjunto $C$ que englobe aquellas cartas de la baraja francesa cuyo palo sea de color rojo, el conjunto inicial que estamos eligiendo y del que tomaremos ciertos elementos es el conjunto de las cartas de la baraja francesa. Entonces escribiríamos matemática $C$ de la siguiente forma:\n",
    "$$\n",
    "C = \\{c : c\\text{ es una carta de la baraja francesa y su palo es rojo}\\}\n",
    "$$\n",
    "En este tipo de expresiones, los dos puntos (\":\") significan \"tal que\". En lugar de los dos puntos se utiliza también la barra vertical \"|\" u oblicua \"/\". En Python, cuando partimos de un conjunto inicial, podemos construir el conjunto $C$ de la misma forma que se definen las listas por comprensión:\n",
    "$$\n",
    "\\{\\text{expresión for elemento in conjunto}\\}\n",
    "$$\n",
    "De forma opcional se puede incluir un filtro para solo añadir al conjunto los elementos que cumplan una condición:\n",
    "$$\n",
    "\\{\\text{expresión for elemento in conjunto if condición}\\}\n",
    "$$\n"
   ]
  },
  {
   "cell_type": "code",
   "execution_count": 42,
   "id": "da74ff9f",
   "metadata": {},
   "outputs": [
    {
     "name": "stdout",
     "output_type": "stream",
     "text": [
      "{('J', 'c'), (3, 'd'), (5, 'd'), ('Q', 'd'), (9, 'c'), (2, 'c'), (6, 'c'), (7, 'd'), ('J', 'd'), (4, 'c'), (8, 'c'), ('K', 'c'), (9, 'd'), (10, 'c'), (1, 'c'), (2, 'd'), (6, 'd'), (3, 'c'), (4, 'd'), (5, 'c'), ('Q', 'c'), (8, 'd'), ('K', 'd'), (10, 'd'), (1, 'd'), (7, 'c')}\n"
     ]
    }
   ],
   "source": [
    "Cartas = {(1, 'c'), (1, 'd'), (1, 'p'), (1, 't'), (2, 'c'), (2, 'd'), (2, 'p'), (2, 't'), (3, 'c'), (3, 'd'), (3, 'p'), \n",
    "          (3, 't'), (4, 'c'), (4, 'd'), (4, 'p'), (4, 't'), (5, 'c'), (5, 'd'), (5, 'p'), (5, 't'), (6, 'c'), (6, 'd'), \n",
    "          (6, 'p'), (6, 't'), (7, 'c'), (7, 'd'), (7, 'p'), (7, 't'), (8, 'c'), (8, 'd'), (8, 'p'), (8, 't'), (9, 'c'), \n",
    "          (9, 'd'), (9, 'p'), (9, 't'), (10, 'c'), (10, 'd'), (10, 'p'), (10, 't'), ('J', 'c'), ('J', 'd'), ('J', 'p'), \n",
    "          ('J', 't'), ('Q', 'c'), ('Q', 'd'), ('Q', 'p'), ('Q', 't'), ('K', 'c'), ('K', 'd'), ('K', 'p'), ('K', 't')}\n",
    "# Dado el conjunto \"Cartas\" con todas las cartas de la baraja francesa, definimos C con notación intensiva:\n",
    "# C es el conjunto de las cartas de la baraja francesa de color rojo\n",
    "C = {carta for carta in Cartas if carta[1] == 'd' or carta[1] == 'c'}\n",
    "print(C)"
   ]
  },
  {
   "cell_type": "code",
   "execution_count": 45,
   "id": "ff5c0300",
   "metadata": {},
   "outputs": [
    {
     "data": {
      "text/plain": [
       "{('J', 'c'),\n",
       " ('J', 'd'),\n",
       " ('J', 'p'),\n",
       " ('J', 't'),\n",
       " ('K', 'c'),\n",
       " ('K', 'd'),\n",
       " ('K', 'p'),\n",
       " ('K', 't'),\n",
       " ('Q', 'c'),\n",
       " ('Q', 'd'),\n",
       " ('Q', 'p'),\n",
       " ('Q', 't'),\n",
       " (1, 'c'),\n",
       " (1, 'd'),\n",
       " (1, 'p'),\n",
       " (1, 't'),\n",
       " (10, 'c'),\n",
       " (10, 'd'),\n",
       " (10, 'p'),\n",
       " (10, 't'),\n",
       " (2, 'c'),\n",
       " (2, 'd'),\n",
       " (2, 'p'),\n",
       " (2, 't'),\n",
       " (3, 'c'),\n",
       " (3, 'd'),\n",
       " (3, 'p'),\n",
       " (3, 't'),\n",
       " (4, 'c'),\n",
       " (4, 'd'),\n",
       " (4, 'p'),\n",
       " (4, 't'),\n",
       " (5, 'c'),\n",
       " (5, 'd'),\n",
       " (5, 'p'),\n",
       " (5, 't'),\n",
       " (6, 'c'),\n",
       " (6, 'd'),\n",
       " (6, 'p'),\n",
       " (6, 't'),\n",
       " (7, 'c'),\n",
       " (7, 'd'),\n",
       " (7, 'p'),\n",
       " (7, 't'),\n",
       " (8, 'c'),\n",
       " (8, 'd'),\n",
       " (8, 'p'),\n",
       " (8, 't'),\n",
       " (9, 'c'),\n",
       " (9, 'd'),\n",
       " (9, 'p'),\n",
       " (9, 't')}"
      ]
     },
     "execution_count": 45,
     "metadata": {},
     "output_type": "execute_result"
    }
   ],
   "source": [
    "# Definimos el conjunto de Cartas anterior por comprensión\n",
    "valores = (list(range(1, 11)) +  ['J', 'Q', 'K'])*4\n",
    "palos = ['c', 'd', 'p', 't']*13\n",
    "\n",
    "Cartas_comp = {(v, p) for v, p in zip(valores, palos)}\n",
    "Cartas_comp"
   ]
  },
  {
   "cell_type": "code",
   "execution_count": 47,
   "id": "7b527851-91c6-44b6-8bc2-98cba4ef1d8e",
   "metadata": {},
   "outputs": [
    {
     "name": "stdout",
     "output_type": "stream",
     "text": [
      "Nueva iteración\n",
      "1\n",
      "c\n",
      "Nueva iteración\n",
      "2\n",
      "d\n",
      "Nueva iteración\n",
      "3\n",
      "p\n",
      "Nueva iteración\n",
      "4\n",
      "t\n",
      "Nueva iteración\n",
      "5\n",
      "c\n",
      "Nueva iteración\n",
      "6\n",
      "d\n",
      "Nueva iteración\n",
      "7\n",
      "p\n",
      "Nueva iteración\n",
      "8\n",
      "t\n",
      "Nueva iteración\n",
      "9\n",
      "c\n",
      "Nueva iteración\n",
      "10\n",
      "d\n",
      "Nueva iteración\n",
      "J\n",
      "p\n",
      "Nueva iteración\n",
      "Q\n",
      "t\n",
      "Nueva iteración\n",
      "K\n",
      "c\n",
      "Nueva iteración\n",
      "1\n",
      "d\n",
      "Nueva iteración\n",
      "2\n",
      "p\n",
      "Nueva iteración\n",
      "3\n",
      "t\n",
      "Nueva iteración\n",
      "4\n",
      "c\n",
      "Nueva iteración\n",
      "5\n",
      "d\n",
      "Nueva iteración\n",
      "6\n",
      "p\n",
      "Nueva iteración\n",
      "7\n",
      "t\n",
      "Nueva iteración\n",
      "8\n",
      "c\n",
      "Nueva iteración\n",
      "9\n",
      "d\n",
      "Nueva iteración\n",
      "10\n",
      "p\n",
      "Nueva iteración\n",
      "J\n",
      "t\n",
      "Nueva iteración\n",
      "Q\n",
      "c\n",
      "Nueva iteración\n",
      "K\n",
      "d\n",
      "Nueva iteración\n",
      "1\n",
      "p\n",
      "Nueva iteración\n",
      "2\n",
      "t\n",
      "Nueva iteración\n",
      "3\n",
      "c\n",
      "Nueva iteración\n",
      "4\n",
      "d\n",
      "Nueva iteración\n",
      "5\n",
      "p\n",
      "Nueva iteración\n",
      "6\n",
      "t\n",
      "Nueva iteración\n",
      "7\n",
      "c\n",
      "Nueva iteración\n",
      "8\n",
      "d\n",
      "Nueva iteración\n",
      "9\n",
      "p\n",
      "Nueva iteración\n",
      "10\n",
      "t\n",
      "Nueva iteración\n",
      "J\n",
      "c\n",
      "Nueva iteración\n",
      "Q\n",
      "d\n",
      "Nueva iteración\n",
      "K\n",
      "p\n",
      "Nueva iteración\n",
      "1\n",
      "t\n",
      "Nueva iteración\n",
      "2\n",
      "c\n",
      "Nueva iteración\n",
      "3\n",
      "d\n",
      "Nueva iteración\n",
      "4\n",
      "p\n",
      "Nueva iteración\n",
      "5\n",
      "t\n",
      "Nueva iteración\n",
      "6\n",
      "c\n",
      "Nueva iteración\n",
      "7\n",
      "d\n",
      "Nueva iteración\n",
      "8\n",
      "p\n",
      "Nueva iteración\n",
      "9\n",
      "t\n",
      "Nueva iteración\n",
      "10\n",
      "c\n",
      "Nueva iteración\n",
      "J\n",
      "d\n",
      "Nueva iteración\n",
      "Q\n",
      "p\n",
      "Nueva iteración\n",
      "K\n",
      "t\n"
     ]
    }
   ],
   "source": [
    "for a, b in zip(valores, palos):\n",
    "    print(\"Nueva iteración\")\n",
    "    print(a)\n",
    "    print(b)"
   ]
  },
  {
   "cell_type": "code",
   "execution_count": 44,
   "id": "017aaf0d-09f3-4942-89f3-cdd670f63c6d",
   "metadata": {},
   "outputs": [
    {
     "data": {
      "text/plain": [
       "[1, 2, 3, 4, 5, 6, 7, 8, 9, 10]"
      ]
     },
     "execution_count": 44,
     "metadata": {},
     "output_type": "execute_result"
    }
   ],
   "source": [
    "list(range(1, 11))"
   ]
  },
  {
   "cell_type": "code",
   "execution_count": null,
   "id": "cd462ed9",
   "metadata": {},
   "outputs": [],
   "source": [
    "# El conjunto de los números pares entre 0 y 100\n"
   ]
  },
  {
   "cell_type": "code",
   "execution_count": 48,
   "id": "9f326b9a",
   "metadata": {},
   "outputs": [
    {
     "name": "stdout",
     "output_type": "stream",
     "text": [
      "{0, 2, 4, 6, 8, 10, 12, 14, 16, 18, 20, 22, 24, 26, 28, 30, 32, 34, 36, 38, 40, 42, 44, 46, 48, 50, 52, 54, 56, 58, 60, 62, 64, 66, 68, 70, 72, 74, 76, 78, 80, 82, 84, 86, 88, 90, 92, 94, 96, 98, 100}\n",
      "<class 'set'>\n"
     ]
    }
   ],
   "source": [
    "numeros_pares = {num for num in range(0, 101) if num % 2 == 0}\n",
    "print(numeros_pares)\n",
    "print(type(numeros_pares))"
   ]
  },
  {
   "cell_type": "code",
   "execution_count": 50,
   "id": "88468e88",
   "metadata": {},
   "outputs": [
    {
     "data": {
      "text/plain": [
       "{0,\n",
       " 4,\n",
       " 16,\n",
       " 36,\n",
       " 64,\n",
       " 100,\n",
       " 144,\n",
       " 196,\n",
       " 256,\n",
       " 324,\n",
       " 400,\n",
       " 484,\n",
       " 576,\n",
       " 676,\n",
       " 784,\n",
       " 900,\n",
       " 1024,\n",
       " 1156,\n",
       " 1296,\n",
       " 1444,\n",
       " 1600,\n",
       " 1764,\n",
       " 1936,\n",
       " 2116,\n",
       " 2304,\n",
       " 2500,\n",
       " 2704,\n",
       " 2916,\n",
       " 3136,\n",
       " 3364,\n",
       " 3600,\n",
       " 3844,\n",
       " 4096,\n",
       " 4356,\n",
       " 4624,\n",
       " 4900,\n",
       " 5184,\n",
       " 5476,\n",
       " 5776,\n",
       " 6084,\n",
       " 6400,\n",
       " 6724,\n",
       " 7056,\n",
       " 7396,\n",
       " 7744,\n",
       " 8100,\n",
       " 8464,\n",
       " 8836,\n",
       " 9216,\n",
       " 9604,\n",
       " 10000}"
      ]
     },
     "execution_count": 50,
     "metadata": {},
     "output_type": "execute_result"
    }
   ],
   "source": [
    "# EJERCICIO Lo mismo pero tomando sus cuadrados\n",
    "numeros_pares_cuadrados = {num ** 2 for num in range(0, 101) if num % 2 == 0}\n",
    "numeros_pares_cuadrados"
   ]
  },
  {
   "cell_type": "code",
   "execution_count": 51,
   "id": "436d687c-6921-41c5-a76e-ab7e2f08f113",
   "metadata": {},
   "outputs": [
    {
     "name": "stdout",
     "output_type": "stream",
     "text": [
      "{0, 256, 1024, 2304, 4, 900, 1156, 3844, 4096, 4356, 8836, 9604, 10000, 16, 144, 400, 784, 1296, 1936, 2704, 3600, 4624, 5776, 9216, 36, 676, 1444, 3364, 4900, 8100, 7056, 7744, 64, 576, 1600, 3136, 196, 324, 2116, 2500, 5184, 6084, 6400, 6724, 8464, 100, 484, 1764, 2916, 5476, 7396}\n",
      "<class 'set'>\n"
     ]
    }
   ],
   "source": [
    "numeros_pares_square = {num**2 for num in range(0, 101) if num % 2 == 0}\n",
    "\n",
    "print(numeros_pares_square)\n",
    "\n",
    "print(type(numeros_pares_square))"
   ]
  },
  {
   "cell_type": "code",
   "execution_count": 52,
   "id": "9de8c104-5663-45e0-bcfa-6f47a48dea6f",
   "metadata": {},
   "outputs": [
    {
     "data": {
      "text/plain": [
       "True"
      ]
     },
     "execution_count": 52,
     "metadata": {},
     "output_type": "execute_result"
    }
   ],
   "source": [
    "numeros_pares_square == numeros_pares_cuadrados"
   ]
  },
  {
   "cell_type": "code",
   "execution_count": 54,
   "id": "8e82dfb7",
   "metadata": {},
   "outputs": [
    {
     "name": "stdout",
     "output_type": "stream",
     "text": [
      "{'c', 'n', 'o', 'u', 't', 'j'}\n"
     ]
    }
   ],
   "source": [
    "# Las letras de la palabra conjunto\n",
    "L = {letra for letra in 'conjunto'}\n",
    "print(L)"
   ]
  },
  {
   "cell_type": "markdown",
   "id": "8529d5a6",
   "metadata": {},
   "source": [
    "## 2. Relaciones entre conjuntos\n",
    "\n",
    "### 2.1 Igualdad entre conjuntos\n",
    "\n",
    "Como ya hemos visto, dos conjuntos que tengan los mismos elementos son el mismo conjunto, y un conjunto no puede tener elementos repetidos"
   ]
  },
  {
   "cell_type": "code",
   "execution_count": 55,
   "id": "8d1ced76",
   "metadata": {},
   "outputs": [
    {
     "data": {
      "text/plain": [
       "True"
      ]
     },
     "execution_count": 55,
     "metadata": {},
     "output_type": "execute_result"
    }
   ],
   "source": [
    "# Vemos si los dos conjuntos del apartado anterior son iguales\n",
    "numeros_pares_square == numeros_pares_cuadrados"
   ]
  },
  {
   "cell_type": "code",
   "execution_count": 56,
   "id": "a42bb76f",
   "metadata": {},
   "outputs": [
    {
     "data": {
      "text/plain": [
       "False"
      ]
     },
     "execution_count": 56,
     "metadata": {},
     "output_type": "execute_result"
    }
   ],
   "source": [
    "numeros_pares_square != numeros_pares_cuadrados"
   ]
  },
  {
   "cell_type": "code",
   "execution_count": 57,
   "id": "7c7bb318-bf6e-40c1-a3e4-f77048c76dc8",
   "metadata": {},
   "outputs": [
    {
     "data": {
      "text/plain": [
       "{(2, 3), 1}"
      ]
     },
     "execution_count": 57,
     "metadata": {},
     "output_type": "execute_result"
    }
   ],
   "source": [
    "A"
   ]
  },
  {
   "cell_type": "code",
   "execution_count": 58,
   "id": "96be3437-df0e-4a18-9b5c-514e0215761b",
   "metadata": {},
   "outputs": [
    {
     "data": {
      "text/plain": [
       "{1, 2, 3, 5}"
      ]
     },
     "execution_count": 58,
     "metadata": {},
     "output_type": "execute_result"
    }
   ],
   "source": [
    "B"
   ]
  },
  {
   "cell_type": "code",
   "execution_count": 60,
   "id": "c45e4bf5",
   "metadata": {},
   "outputs": [
    {
     "name": "stdout",
     "output_type": "stream",
     "text": [
      "False\n",
      "False\n",
      "True\n"
     ]
    }
   ],
   "source": [
    "# También podemos recorrer todos los elementos de dos conjuntos para ver si son iguales (EJERCICIO)\n",
    "def equals(A, B):\n",
    "    if (len(A) != len(B)):\n",
    "        return False\n",
    "    # Ver si todos los elementos de A están en B\n",
    "    for i in A:\n",
    "        if i not in B:\n",
    "            return False\n",
    "    return True\n",
    "    \n",
    "print(equals(A, B))\n",
    "print(equals({1,2}, A))\n",
    "print(equals(B, {3,2,1,5}))"
   ]
  },
  {
   "cell_type": "markdown",
   "id": "cdc9b0f3",
   "metadata": {},
   "source": [
    "### 2.2 Pertenencia y subconjuntos\n",
    "\n",
    "Puede ocurrir que un conjunto no contenga los mismos elementos que otro, pero que todos sus elementos sí están en otro. Por ejemplo, todos los elementos de $A=\\{1,2,3\\}$ se encuentran en el conjunto $E=\\{1,2,3,4\\}$, pero no al revés (por lo que no son iguales). Se dirá entonces que $A$ es un subconjunto de $E$. Por lo tanto, si se tienen dos conjuntos $C_1$ y $C_2$, diremos que $C_1$ es subconjunto de $C_2$ si cada elemento de $C_1$ es, a su vez, un elemento de $C_2$. También se dice que  $C_2$ es un superconjunto de $C_1$.\n",
    "\n",
    "Un subconjunto es también un conjunto, y por tanto cumple todas las propiedades asociadas a ser un conjunto.\n",
    "\n",
    "<img src=\"./images/Subset-2.svg.png\">\n",
    "\n",
    "Matemáticamente escribiremos $C_1 \\subseteq C_2$ o $C_2 \\supseteq C_1$ y diremos que $C_1$ está contenido en $C_2$ o que $C_2$ contiene a $C_1$. Python ofrece al menos dos posibilidades para verificar la relación de subconjunto:"
   ]
  },
  {
   "cell_type": "code",
   "execution_count": 69,
   "id": "caea6bc1",
   "metadata": {},
   "outputs": [
    {
     "data": {
      "text/plain": [
       "True"
      ]
     },
     "execution_count": 69,
     "metadata": {},
     "output_type": "execute_result"
    }
   ],
   "source": [
    "# Comprobamos que A es subconjunto de E\n",
    "A = {1, 2, 3}\n",
    "B = {1, 2, 3, 4, 5}\n",
    "A < B"
   ]
  },
  {
   "cell_type": "code",
   "execution_count": 63,
   "id": "57983dad",
   "metadata": {},
   "outputs": [
    {
     "data": {
      "text/plain": [
       "True"
      ]
     },
     "execution_count": 63,
     "metadata": {},
     "output_type": "execute_result"
    }
   ],
   "source": [
    "# Podemos comprobar que E es superconjunto de A\n",
    "B >= A"
   ]
  },
  {
   "cell_type": "code",
   "execution_count": 70,
   "id": "66f47ad9",
   "metadata": {},
   "outputs": [
    {
     "data": {
      "text/plain": [
       "True"
      ]
     },
     "execution_count": 70,
     "metadata": {},
     "output_type": "execute_result"
    }
   ],
   "source": [
    "# Comprobamos que A es subconjunto de E\n",
    "A.issubset(B)"
   ]
  },
  {
   "cell_type": "code",
   "execution_count": 71,
   "id": "b2f22fe7-4dd7-4ba5-a779-10674b8e4f9b",
   "metadata": {},
   "outputs": [
    {
     "data": {
      "text/plain": [
       "True"
      ]
     },
     "execution_count": 71,
     "metadata": {},
     "output_type": "execute_result"
    }
   ],
   "source": [
    "B.issuperset(A)"
   ]
  },
  {
   "cell_type": "code",
   "execution_count": null,
   "id": "f99a06fb",
   "metadata": {},
   "outputs": [],
   "source": [
    "# EJERCICIO Además, ya habíamos visto que podemos comprobar facilmente si un elemento está en un conjunto\n"
   ]
  },
  {
   "cell_type": "markdown",
   "id": "34f6b133",
   "metadata": {},
   "source": [
    "## 3. Operaciones entre conjuntos\n",
    "### 3.1 Unión\n",
    "Sean $C_1$ y $C_2$ dos conjuntos cualesquiera, entonces la unión de ellos, representado por $C_1\\cup C_2$ es el conjunto de todos los elementos que pertenecen a uno de los dos conjuntos.\n",
    "\n",
    "Matemáticamente, escribiremos la unión como: $C_1\\cup C_2 = \\{x:x\\in C_1\\lor x\\in C_2\\}$\n",
    "\n",
    "<img src=\"images/SetUnion.svg.png\" width=200 align=\"left\">  \n"
   ]
  },
  {
   "cell_type": "code",
   "execution_count": 72,
   "id": "5b9782a4",
   "metadata": {},
   "outputs": [
    {
     "name": "stdout",
     "output_type": "stream",
     "text": [
      "{1, 2, 3, ('yes', 'no'), 'coche'}\n"
     ]
    }
   ],
   "source": [
    "A = {'coche', 2, ('yes', 'no')}\n",
    "B = {1, 2, 3}\n",
    "C = A | B\n",
    "print(C)"
   ]
  },
  {
   "cell_type": "code",
   "execution_count": 73,
   "id": "19eaa9d5",
   "metadata": {},
   "outputs": [
    {
     "data": {
      "text/plain": [
       "{('yes', 'no'), 1, 2, 3, 'coche'}"
      ]
     },
     "execution_count": 73,
     "metadata": {},
     "output_type": "execute_result"
    }
   ],
   "source": [
    "A.update(B)\n",
    "A"
   ]
  },
  {
   "cell_type": "markdown",
   "id": "d728a10f",
   "metadata": {},
   "source": [
    "### 3.2 Intersección\n",
    "Sean $C_1$ y $C_2$ dos conjuntos cualesquiera, entonces la unión de ellos, representado por $C_1\\cup C_2$ es el conjunto de todos los elementos que pertenecen a los dos conjuntos.\n",
    "\n",
    "Matemáticamente, escribiremos la intersección como: $C_1\\cap C_2 = \\{x:x\\in C_1\\land x\\in C_2\\}$\n",
    "\n",
    "\n",
    "<img src=\"images/SetIntersection.svg.png\" width=200 align=\"left\">  \n",
    "<br>  "
   ]
  },
  {
   "cell_type": "code",
   "execution_count": 74,
   "id": "91af9b84",
   "metadata": {},
   "outputs": [
    {
     "data": {
      "text/plain": [
       "{2}"
      ]
     },
     "execution_count": 74,
     "metadata": {},
     "output_type": "execute_result"
    }
   ],
   "source": [
    "A = {'coche', 2, ('yes', 'no')}\n",
    "B = {1, 2, 3}\n",
    "A & B"
   ]
  },
  {
   "cell_type": "code",
   "execution_count": 75,
   "id": "456c0753",
   "metadata": {},
   "outputs": [
    {
     "name": "stdout",
     "output_type": "stream",
     "text": [
      "{2}\n"
     ]
    }
   ],
   "source": [
    "# Hacemos la intersección y creamos un nuevo set\n",
    "C = A.intersection(B)\n",
    "print(C)"
   ]
  },
  {
   "cell_type": "code",
   "execution_count": 76,
   "id": "4d80f113-f1b1-4d54-8073-2ae10fc25e70",
   "metadata": {},
   "outputs": [
    {
     "data": {
      "text/plain": [
       "{('yes', 'no'), 2, 'coche'}"
      ]
     },
     "execution_count": 76,
     "metadata": {},
     "output_type": "execute_result"
    }
   ],
   "source": [
    "A"
   ]
  },
  {
   "cell_type": "code",
   "execution_count": 78,
   "id": "5c09153d",
   "metadata": {},
   "outputs": [
    {
     "data": {
      "text/plain": [
       "{2}"
      ]
     },
     "execution_count": 78,
     "metadata": {},
     "output_type": "execute_result"
    }
   ],
   "source": [
    "A.intersection_update(B)\n",
    "A"
   ]
  },
  {
   "cell_type": "markdown",
   "id": "0c720d91",
   "metadata": {},
   "source": [
    "<div class=\"alert alert-success\">\n",
    "    <b>Propiedades de la unión y la intersección:</b> \n",
    "</div>"
   ]
  },
  {
   "cell_type": "markdown",
   "id": "6e9d549d",
   "metadata": {},
   "source": [
    "Sean A,B y C subconjuntos cualesquiera de un conjunto universal E, se tiene:  \n",
    "\n",
    "1. **Uniforme**  \n",
    "> Dados A y B, tanto A $\\cup$ B como A $\\cap$ B existen y son únicos\n",
    "2. **Conmutativas**  \n",
    "> A $\\cup$ B=B $\\cup$ A  \n",
    "> A $\\cap$ B=B $\\cap$ A \n",
    "3. **Asociativas**  \n",
    "> A $\\cup$ (B $\\cup$ C) = (A $\\cup$ B) $\\cup$ C  \n",
    "> A $\\cap$ (B $\\cap$ C) = (A $\\cap$ B) $\\cap$ C  \n",
    "4. **Idempotencia**  \n",
    "> A $\\cup$ A = A  \n",
    "> A $\\cap$ A = A  \n",
    "5. **Elemento neutro**  \n",
    "> A $\\cup$ $\\varnothing$ = A  \n",
    "> A $\\cap$ E = A  \n",
    "6. **Absorción**  \n",
    "> A $\\cup$ (A $\\cap$ B) = A  \n",
    "> A $\\cap$ (A $\\cup$ B) = A\n",
    "7. **Distributivas**  \n",
    "> A $\\cup$ (B $\\cap$ C) = (A $\\cup$ B) $\\cap$ (A $\\cup$ C)  \n",
    "> A $\\cap$ (B $\\cup$ C) = (A $\\cap$ B) $\\cup$ (A $\\cap$ C)  "
   ]
  },
  {
   "cell_type": "markdown",
   "id": "6cb0bd43",
   "metadata": {},
   "source": [
    "### 3.3 Resta\n",
    "Sean $C_1$ y $C_2$ dos conjuntos cualesquiera, entonces la diferencia de $C_1$ con $C_2$, representado por $C_1\\setminus C_2$ es el conjunto que resulta de eliminar de $C_1$ cualquier elemento que estén en $C_2$.\n",
    "\n",
    "Matemáticamente, se expresa así: $C_1\\setminus C_2 = \\{x:x\\in C_1\\land x\\notin C_2\\}$\n",
    "\n",
    "\n",
    "<img src=\"images/SetDifferenceA.svg.png\" width=200 align=\"left\">  \n",
    "<br>"
   ]
  },
  {
   "cell_type": "code",
   "execution_count": 79,
   "id": "e57a20ef",
   "metadata": {},
   "outputs": [
    {
     "data": {
      "text/plain": [
       "{('yes', 'no'), 'coche'}"
      ]
     },
     "execution_count": 79,
     "metadata": {},
     "output_type": "execute_result"
    }
   ],
   "source": [
    "A = {'coche', 2, ('yes', 'no')}\n",
    "B = {1, 2, 3}\n",
    "R = A - B"
   ]
  },
  {
   "cell_type": "code",
   "execution_count": null,
   "id": "50965abe",
   "metadata": {},
   "outputs": [],
   "source": []
  },
  {
   "cell_type": "markdown",
   "id": "146e199e",
   "metadata": {},
   "source": [
    "!! A diferencia de la unión e intersección, en la resta sí que importa el orden (A - B o B - A)"
   ]
  },
  {
   "cell_type": "code",
   "execution_count": 80,
   "id": "52abc9ea",
   "metadata": {},
   "outputs": [
    {
     "data": {
      "text/plain": [
       "{('yes', 'no'), 'coche'}"
      ]
     },
     "execution_count": 80,
     "metadata": {},
     "output_type": "execute_result"
    }
   ],
   "source": [
    "# También podemos usar difference()\n",
    "A.difference(B)"
   ]
  },
  {
   "cell_type": "code",
   "execution_count": 81,
   "id": "e67e8063",
   "metadata": {},
   "outputs": [],
   "source": [
    "A.difference_update(B)"
   ]
  },
  {
   "cell_type": "code",
   "execution_count": 82,
   "id": "146eee7c-8c8b-4df2-aa25-120249de3f68",
   "metadata": {},
   "outputs": [
    {
     "data": {
      "text/plain": [
       "{('yes', 'no'), 'coche'}"
      ]
     },
     "execution_count": 82,
     "metadata": {},
     "output_type": "execute_result"
    }
   ],
   "source": [
    "A"
   ]
  },
  {
   "cell_type": "markdown",
   "id": "12eb80d8",
   "metadata": {},
   "source": [
    "### 3.4 Complementario\n",
    "Si tomamos un conjunto $U$ como conjunto universal (asumimos que no hay más elementos que los que pertenecen a U), y sea $C_1$ un subconjuntos cualquiera de $U$, entonces el conjunto complementario de $C_1$, representado por $C_1^c$ o $\\overline{C_1}$ es el conjunto que de todos los elementos de $U$ que no pertenecen a $C_1$.\n",
    "\n",
    "Matemáticamente, escribiremos el complementario como: $\\overline{C_1} = \\{x:x\\in U\\land x\\notin C_1\\}$\n",
    "\n",
    "<img src=\"images/SetComplement.svg.png\" width=200 align=\"left\">  \n",
    "<br>"
   ]
  },
  {
   "cell_type": "code",
   "execution_count": 83,
   "id": "3a00fa55",
   "metadata": {},
   "outputs": [
    {
     "name": "stdout",
     "output_type": "stream",
     "text": [
      "{4, 5, 6, 7, 8, 9}\n"
     ]
    }
   ],
   "source": [
    "# Podemos calcular el complementario usando la diferencia de conjuntos\n",
    "U = {1, 2, 3, 4, 5, 6, 7, 8, 9}\n",
    "S = {1, 2, 3}\n",
    "\n",
    "S_comp = U - S\n",
    "print(S_comp)"
   ]
  },
  {
   "cell_type": "markdown",
   "id": "d1ce0866",
   "metadata": {},
   "source": [
    "### 3.5 Diferencia simétrica\n",
    "Sean $C_1$ y $C_2$ dos conjuntos cualesquiera, entonces la diferencia simétrica de $C_1$ con $C_2$, representado por $C_1\\triangle C_2$ es el conjunto de todos los elementos que pertenence o bien a $C_1$, o bien a $C_2$, pero no a ambos.\n",
    "\n",
    "Matemáticamente, escribiremos la diferencia simétrica como: $C_1\\triangle C_2 = \\{x:x\\in C_1\\setminus C_2\\lor x\\in C_2\\setminus C_1\\} = (C_1\\cup C_2)\\setminus(C_1\\cap C_2)$\n",
    "\n",
    "<img src=\"./images/SetSymmetricDifference.svg.png\" width=200 align=\"left\">"
   ]
  },
  {
   "cell_type": "code",
   "execution_count": 84,
   "id": "1e72af20",
   "metadata": {},
   "outputs": [
    {
     "name": "stdout",
     "output_type": "stream",
     "text": [
      "{1, 2, 3, 4, 5, 6, 7, 8, 9}\n",
      "{1, 2, 3}\n"
     ]
    }
   ],
   "source": [
    "print(U)\n",
    "print(S)"
   ]
  },
  {
   "cell_type": "code",
   "execution_count": 85,
   "id": "f2085e5b",
   "metadata": {},
   "outputs": [
    {
     "data": {
      "text/plain": [
       "{4, 5, 6, 7, 8, 9}"
      ]
     },
     "execution_count": 85,
     "metadata": {},
     "output_type": "execute_result"
    }
   ],
   "source": [
    "S^U"
   ]
  },
  {
   "cell_type": "code",
   "execution_count": 86,
   "id": "aa0a242b",
   "metadata": {},
   "outputs": [
    {
     "data": {
      "text/plain": [
       "{1, 2, 3}"
      ]
     },
     "execution_count": 86,
     "metadata": {},
     "output_type": "execute_result"
    }
   ],
   "source": [
    "S & U"
   ]
  },
  {
   "cell_type": "code",
   "execution_count": 91,
   "id": "4e54c7e6",
   "metadata": {},
   "outputs": [
    {
     "data": {
      "text/plain": [
       "set"
      ]
     },
     "execution_count": 91,
     "metadata": {},
     "output_type": "execute_result"
    }
   ],
   "source": [
    "type(S.symmetric_difference(U))"
   ]
  },
  {
   "cell_type": "code",
   "execution_count": 90,
   "id": "6997d5d5-4445-40ab-b887-c559032c1a65",
   "metadata": {},
   "outputs": [
    {
     "data": {
      "text/plain": [
       "{1, 2, 3}"
      ]
     },
     "execution_count": 90,
     "metadata": {},
     "output_type": "execute_result"
    }
   ],
   "source": [
    "F"
   ]
  },
  {
   "cell_type": "code",
   "execution_count": 88,
   "id": "ffeda460-daba-4ff5-9426-67608bc0030e",
   "metadata": {},
   "outputs": [
    {
     "name": "stdout",
     "output_type": "stream",
     "text": [
      "{4, 5, 6, 7, 8, 9}\n"
     ]
    }
   ],
   "source": [
    "S.symmetric_difference_update(U)\n",
    "print(S)"
   ]
  },
  {
   "cell_type": "markdown",
   "id": "797752dd",
   "metadata": {},
   "source": [
    "### 3.6 Producto cartesiano\n",
    "\n",
    "Sean $C_1$ y $C_2$ dos conjuntos cualesquiera, entonces el producto cartesiano de $C_1$ con $C_2$, representado por $C_1\\times C_2$ es el conjunto de todos los pares ordenados (tuplas) posibles que se pueden formar con un elemento que pertenence a $C_1$ y el segundo perteneciente a $C_2$. Matemáticamente, escribiremos el producto cartesiano como:\n",
    "$$\n",
    "C_1\\times C_2 = \\{(x,y):x\\in C_1\\land y\\in C_2\\}\n",
    "$$\n",
    "Como puede observarse, el producto cartesiano no es conmutativo. Veamos un ejemplo:\n",
    "$$\n",
    "\\{1,a,0\\}\\times\\{2,b\\}=\\{(1,2), (1,b), (a,2), (a,b), (0, 2), (0,b)\\}\n",
    "$$\n",
    "En Python podemos calcular el producto cartesiano de la siguiente forma:"
   ]
  },
  {
   "cell_type": "code",
   "execution_count": 94,
   "id": "bfba55a8",
   "metadata": {},
   "outputs": [
    {
     "name": "stdout",
     "output_type": "stream",
     "text": [
      "{1, 2, 3, 4, 5, 6, 7, 8, 9}\n",
      "{'a', 'b'}\n",
      "{(9, 'b'), (4, 'b'), (7, 'a'), (2, 'a'), (8, 'b'), (3, 'b'), (3, 'a'), (8, 'a'), (7, 'b'), (2, 'b'), (5, 'b'), (5, 'a'), (6, 'b'), (1, 'b'), (1, 'a'), (6, 'a'), (9, 'a'), (4, 'a')}\n",
      "18\n"
     ]
    }
   ],
   "source": [
    "# Usamos la función product\n",
    "from itertools import product\n",
    "print(U)\n",
    "S = {'a', 'b'}\n",
    "print(S)\n",
    "print(set(product(U,S)))\n",
    "print(len(set(product(U,S))))"
   ]
  },
  {
   "cell_type": "code",
   "execution_count": 95,
   "id": "efe4f411",
   "metadata": {},
   "outputs": [
    {
     "name": "stdout",
     "output_type": "stream",
     "text": [
      "{(9, 'b'), (4, 'b'), (7, 'a'), (2, 'a'), (8, 'b'), (3, 'b'), (3, 'a'), (8, 'a'), (7, 'b'), (2, 'b'), (5, 'b'), (5, 'a'), (6, 'b'), (1, 'b'), (1, 'a'), (6, 'a'), (9, 'a'), (4, 'a')}\n"
     ]
    }
   ],
   "source": [
    "#También podemos construirlo por comprensión\n",
    "print({(x, y) for x in U for y in S})"
   ]
  },
  {
   "cell_type": "markdown",
   "id": "9abc2e63",
   "metadata": {},
   "source": [
    "Tenemos que tener cuidado con el producto cartesiano para grandes conjuntos, puesto que puede resultar en un conjunto enorme (como pasa con el CROSS JOIN en SQL)"
   ]
  },
  {
   "cell_type": "markdown",
   "id": "142692d2",
   "metadata": {},
   "source": [
    "## 4. Diagramas de Venn\n",
    "\n",
    "Son herramientas o esquemas para representar conjuntos de forma gráfica, como lo hemos hecho en el apartado anterior. Las regiones encerradas por las líneas cerradas representan los conjuntos, y sus posiciones relativas nos ayudan a visualizar sus propiedades."
   ]
  },
  {
   "cell_type": "code",
   "execution_count": 96,
   "id": "49282ef0",
   "metadata": {},
   "outputs": [
    {
     "name": "stdout",
     "output_type": "stream",
     "text": [
      "Requirement already satisfied: matplotlib_venn in /home/raquel/Documents/KC/venv/lib/python3.10/site-packages (0.11.10)\n",
      "Requirement already satisfied: matplotlib in /home/raquel/Documents/KC/venv/lib/python3.10/site-packages (from matplotlib_venn) (3.9.0)\n",
      "Requirement already satisfied: numpy in /home/raquel/Documents/KC/venv/lib/python3.10/site-packages (from matplotlib_venn) (1.26.4)\n",
      "Requirement already satisfied: scipy in /home/raquel/Documents/KC/venv/lib/python3.10/site-packages (from matplotlib_venn) (1.13.1)\n",
      "Requirement already satisfied: python-dateutil>=2.7 in /home/raquel/Documents/KC/venv/lib/python3.10/site-packages (from matplotlib->matplotlib_venn) (2.9.0.post0)\n",
      "Requirement already satisfied: pillow>=8 in /home/raquel/Documents/KC/venv/lib/python3.10/site-packages (from matplotlib->matplotlib_venn) (10.3.0)\n",
      "Requirement already satisfied: kiwisolver>=1.3.1 in /home/raquel/Documents/KC/venv/lib/python3.10/site-packages (from matplotlib->matplotlib_venn) (1.4.5)\n",
      "Requirement already satisfied: fonttools>=4.22.0 in /home/raquel/Documents/KC/venv/lib/python3.10/site-packages (from matplotlib->matplotlib_venn) (4.53.0)\n",
      "Requirement already satisfied: contourpy>=1.0.1 in /home/raquel/Documents/KC/venv/lib/python3.10/site-packages (from matplotlib->matplotlib_venn) (1.2.1)\n",
      "Requirement already satisfied: pyparsing>=2.3.1 in /home/raquel/Documents/KC/venv/lib/python3.10/site-packages (from matplotlib->matplotlib_venn) (3.1.2)\n",
      "Requirement already satisfied: packaging>=20.0 in /home/raquel/Documents/KC/venv/lib/python3.10/site-packages (from matplotlib->matplotlib_venn) (24.0)\n",
      "Requirement already satisfied: cycler>=0.10 in /home/raquel/Documents/KC/venv/lib/python3.10/site-packages (from matplotlib->matplotlib_venn) (0.12.1)\n",
      "Requirement already satisfied: six>=1.5 in /home/raquel/Documents/KC/venv/lib/python3.10/site-packages (from python-dateutil>=2.7->matplotlib->matplotlib_venn) (1.16.0)\n"
     ]
    }
   ],
   "source": [
    "!pip install matplotlib_venn"
   ]
  },
  {
   "cell_type": "code",
   "execution_count": 97,
   "id": "77df59e5",
   "metadata": {},
   "outputs": [
    {
     "name": "stdout",
     "output_type": "stream",
     "text": [
      "Requirement already satisfied: matplotlib in /home/raquel/Documents/KC/venv/lib/python3.10/site-packages (3.9.0)\n",
      "Requirement already satisfied: pillow>=8 in /home/raquel/Documents/KC/venv/lib/python3.10/site-packages (from matplotlib) (10.3.0)\n",
      "Requirement already satisfied: contourpy>=1.0.1 in /home/raquel/Documents/KC/venv/lib/python3.10/site-packages (from matplotlib) (1.2.1)\n",
      "Requirement already satisfied: kiwisolver>=1.3.1 in /home/raquel/Documents/KC/venv/lib/python3.10/site-packages (from matplotlib) (1.4.5)\n",
      "Requirement already satisfied: cycler>=0.10 in /home/raquel/Documents/KC/venv/lib/python3.10/site-packages (from matplotlib) (0.12.1)\n",
      "Requirement already satisfied: pyparsing>=2.3.1 in /home/raquel/Documents/KC/venv/lib/python3.10/site-packages (from matplotlib) (3.1.2)\n",
      "Requirement already satisfied: python-dateutil>=2.7 in /home/raquel/Documents/KC/venv/lib/python3.10/site-packages (from matplotlib) (2.9.0.post0)\n",
      "Requirement already satisfied: numpy>=1.23 in /home/raquel/Documents/KC/venv/lib/python3.10/site-packages (from matplotlib) (1.26.4)\n",
      "Requirement already satisfied: fonttools>=4.22.0 in /home/raquel/Documents/KC/venv/lib/python3.10/site-packages (from matplotlib) (4.53.0)\n",
      "Requirement already satisfied: packaging>=20.0 in /home/raquel/Documents/KC/venv/lib/python3.10/site-packages (from matplotlib) (24.0)\n",
      "Requirement already satisfied: six>=1.5 in /home/raquel/Documents/KC/venv/lib/python3.10/site-packages (from python-dateutil>=2.7->matplotlib) (1.16.0)\n"
     ]
    }
   ],
   "source": [
    "!pip install matplotlib"
   ]
  },
  {
   "cell_type": "code",
   "execution_count": 98,
   "id": "805b5dbe",
   "metadata": {},
   "outputs": [
    {
     "data": {
      "text/plain": [
       "<matplotlib_venn._common.VennDiagram at 0x7f91b8741450>"
      ]
     },
     "execution_count": 98,
     "metadata": {},
     "output_type": "execute_result"
    },
    {
     "data": {
      "image/png": "[encoded data removed]",
      "text/plain": [
       "<Figure size 640x480 with 1 Axes>"
      ]
     },
     "metadata": {},
     "output_type": "display_data"
    }
   ],
   "source": [
    "import matplotlib.pyplot as plt\n",
    "from matplotlib_venn import venn2\n",
    "\n",
    "venn2([set(('a', 'e', 'i', 'y')), set(('i', 'o', 'u'))])"
   ]
  },
  {
   "cell_type": "markdown",
   "id": "56936bb9",
   "metadata": {},
   "source": [
    "Podemos usar los diagramas de Venn para visualizar algunas de las propiedades de la unión y la interesección que hemos visto, por ejemplo:\n",
    "\n",
    "A $\\cup$ (A $\\cap$ B) = A  "
   ]
  },
  {
   "cell_type": "code",
   "execution_count": 99,
   "id": "1732f3e1",
   "metadata": {},
   "outputs": [
    {
     "name": "stdout",
     "output_type": "stream",
     "text": [
      "A: {1, 2, 3, 4, 5}\n",
      "B: {3, 5}\n",
      "A int B: {3, 5}\n"
     ]
    }
   ],
   "source": [
    "A = {1, 2, 3, 4, 5}\n",
    "B = {3, 5}\n",
    "C = A & B\n",
    "print('A: '+ str(A))\n",
    "print('B: '+ str(B))\n",
    "print('A int B: ' + str(C))"
   ]
  },
  {
   "cell_type": "code",
   "execution_count": 100,
   "id": "4ea05f3e",
   "metadata": {},
   "outputs": [
    {
     "data": {
      "text/plain": [
       "<matplotlib_venn._common.VennDiagram at 0x7f91b65af010>"
      ]
     },
     "execution_count": 100,
     "metadata": {},
     "output_type": "execute_result"
    },
    {
     "data": {
      "image/png": "[encoded data removed]",
      "text/plain": [
       "<Figure size 640x480 with 1 Axes>"
      ]
     },
     "metadata": {},
     "output_type": "display_data"
    }
   ],
   "source": [
    "from matplotlib_venn import venn3\n",
    "venn3([A, B, C], set_labels = ('A', 'B', 'A int B'))"
   ]
  },
  {
   "cell_type": "markdown",
   "id": "6a80036a",
   "metadata": {},
   "source": [
    "La intersección entre A y B siempre va a estar contenida en A (por definición), por lo que haciendo la unión con A siempre nos va a quedar el propio A."
   ]
  },
  {
   "cell_type": "markdown",
   "id": "1e61ee1e",
   "metadata": {},
   "source": [
    "## 5. Ejemplos de conjuntos matemáticos\n",
    "Además de los ejemplos de este notebook y todos los conjuntos que podemos diseñar a partir de nuestro entorno, en matemáticas se han definido unos conjuntos que pueden ayudarnos a la hora de realizar operaciones y enfrentarnos a los problemas matemáticos. Estos conjuntos son:\n",
    "\n",
    "- Los **números naturales** ($\\mathbb{N}$): es el conjunto que posee todos los posibles valores de cardinalidad que podemos obtener. De esta forma se tiene que:\n",
    "$$\\mathbb{N}=\\{0,1,2,3,4,\\dots\\}$$\n",
    "- Los **número enteros** ($\\mathbb{Z}$): es el conjunto que contiene los números naturales y sus opuestos. Por lo tanto se tendrá que $\\mathbb{N}\\subset\\mathbb{Z}$. Surgen a partir de la necesidad de resolver la operación $m - n$ donde $m,n\\in\\mathbb{N}$ y $m<n$. De esta forma se tendrá que: \n",
    "$$\\mathbb{Z}=\\{\\dots, -4,-3,-2,-1,0,1,2,3,4,\\dots\\}=\\{-n:n\\in\\mathbb{N}^+\\}\\cup\\{0\\}\\cup\\mathbb{N}^+$$\n",
    "- Los **números racionales** ($\\mathbb{Q}$): es el conjunto de todos los números que pueden escribirse como $z/n$ donde $z\\in\\mathbb{Z}$ y $n\\in\\mathbb{N}^+$. Si se establece una relación de equivalencia adecuada, se afirmará que $\\mathbb{Z}\\subset\\mathbb{Q}$. Así se tiene que:\n",
    "$$\\mathbb{Q}=\\left\\{\\frac{z}{n}:z\\in\\mathbb{Z}\\land n\\in\\mathbb{N}^+\\right\\}$$\n",
    "- Los **números reales** ($\\mathbb{R}$): constituidos por todos los números racionales y aquellos números decimales que no pueden representarse mediante una fracción (como es el caso de $\\pi$). Por lo tanto $\\mathbb{Q}\\subset\\mathbb{R}$.\n",
    "\n",
    "Existen también los números complejos, pero no los vamos a ver en este módulo.\n",
    "\n",
    "Todos estos conjuntos son infinitos, por lo que no podremos implementarlos en Python (por cuestión de que el ordenador dispone de una memoria finita así como no disponemos de un tiempo infinito para generar dichos conjuntos). Sin embargo, podemos obtener subconjuntos bastante grandes de estos conjuntos:"
   ]
  },
  {
   "cell_type": "code",
   "execution_count": 101,
   "id": "9f52603f",
   "metadata": {},
   "outputs": [
    {
     "name": "stdout",
     "output_type": "stream",
     "text": [
      "Requirement already satisfied: numpy in /home/raquel/Documents/KC/venv/lib/python3.10/site-packages (1.26.4)\n"
     ]
    }
   ],
   "source": [
    "!pip install numpy"
   ]
  },
  {
   "cell_type": "code",
   "execution_count": 105,
   "id": "1efa848f",
   "metadata": {},
   "outputs": [
    {
     "data": {
      "text/plain": [
       "{1.0,\n",
       " 1.002190021900219,\n",
       " 1.009010090100901,\n",
       " 1.01120011200112,\n",
       " 1.020210202102021,\n",
       " 1.02240022400224,\n",
       " 1.031410314103141,\n",
       " 1.0448004480044801,\n",
       " 1.062820628206282,\n",
       " 1.0762107621076211,\n",
       " 1.139031390313903,\n",
       " 1.2780627806278062,\n",
       " 1.4170941709417093,\n",
       " 1.5561255612556124,\n",
       " 1.5829058290582907,\n",
       " 2.0,\n",
       " 1.1714817148171481,\n",
       " 1.893418934189342,\n",
       " 1.06490064900649,\n",
       " 1.7868378683786839,\n",
       " 1.925869258692587,\n",
       " 1.097350973509735,\n",
       " 1.819288192881929,\n",
       " 1.958319583195832,\n",
       " 1.1298012980129801,\n",
       " 1.7127071270712708,\n",
       " 1.851738517385174,\n",
       " 1.990769907699077,\n",
       " 1.7451574515745159,\n",
       " 1.1622516225162252,\n",
       " 1.884188841888419,\n",
       " 1.8175081750817508,\n",
       " 1.7776077760777609,\n",
       " 1.055670556705567,\n",
       " 1.1947019470194702,\n",
       " 1.916639166391664,\n",
       " 1.877068770687707,\n",
       " 1.8499584995849958,\n",
       " 1.0881208812088121,\n",
       " 1.810058100581006,\n",
       " 1.949089490894909,\n",
       " 1.8824088240882408,\n",
       " 1.1205712057120572,\n",
       " 1.8157281572815727,\n",
       " 1.842508425084251,\n",
       " 1.981539815398154,\n",
       " 1.053890538905389,\n",
       " 1.9148591485914859,\n",
       " 1.7359273592735929,\n",
       " 1.7091470914709146,\n",
       " 1.1530215302153022,\n",
       " 1.8481784817848177,\n",
       " 1.874958749587496,\n",
       " 1.086340863408634,\n",
       " 1.8082780827808278,\n",
       " 1.947309473094731,\n",
       " 1.7895678956789567,\n",
       " 1.768377683776838,\n",
       " 1.046440464404644,\n",
       " 1.1854718547185472,\n",
       " 1.8806288062880627,\n",
       " 1.907409074090741,\n",
       " 1.118791187911879,\n",
       " 1.8407284072840728,\n",
       " 1.979759797597976,\n",
       " 1.0788907889078891,\n",
       " 1.7740477404774047,\n",
       " 1.800828008280083,\n",
       " 1.9130791307913078,\n",
       " 1.939859398593986,\n",
       " 1.151241512415124,\n",
       " 1.8731787317873179,\n",
       " 1.1113411134111342,\n",
       " 1.8064980649806497,\n",
       " 1.833278332783328,\n",
       " 1.9455294552945528,\n",
       " 1.972309723097231,\n",
       " 1.183691836918369,\n",
       " 1.905629056290563,\n",
       " 1.1437914379143792,\n",
       " 1.8389483894838947,\n",
       " 1.865728657286573,\n",
       " 1.9779797797977978,\n",
       " 1.077110771107711,\n",
       " 1.7990479904799048,\n",
       " 1.938079380793808,\n",
       " 1.7323673236732366,\n",
       " 1.1762417624176242,\n",
       " 1.8713987139871398,\n",
       " 1.898178981789818,\n",
       " 1.109561095610956,\n",
       " 1.8314983149831499,\n",
       " 1.970529705297053,\n",
       " 1.7648176481764817,\n",
       " 1.0696606966069662,\n",
       " 1.9038490384903848,\n",
       " 1.930629306293063,\n",
       " 1.142011420114201,\n",
       " 1.8639486394863949,\n",
       " 1.004630046300463,\n",
       " 1.018020180201802,\n",
       " 1.049430494304943,\n",
       " 1.080840808408084,\n",
       " 1.0942309423094232,\n",
       " 1.112251122511225,\n",
       " 1.1256412564125642,\n",
       " 1.1570515705157052,\n",
       " 1.1884618846188462,\n",
       " 1.2646726467264673,\n",
       " 1.1021110211102112,\n",
       " 1.5192051920519205,\n",
       " 1.6582365823658236,\n",
       " 1.7972679726797267,\n",
       " 1.9362993629936298,\n",
       " 1.035430354303543,\n",
       " 1.89639896398964,\n",
       " 1.1345613456134562,\n",
       " 1.8297182971829717,\n",
       " 1.9687496874968748,\n",
       " 1.9955299552995531,\n",
       " 1.067880678806788,\n",
       " 1.928849288492885,\n",
       " 1.1670116701167013,\n",
       " 1.8621686216862168,\n",
       " 1.96129961299613,\n",
       " 1.8946189461894618,\n",
       " 1.1327813278132781,\n",
       " 1.993749937499375,\n",
       " 1.7880378803788037,\n",
       " 1.9270692706927068,\n",
       " 1.1652316523165231,\n",
       " 1.8204882048820488,\n",
       " 1.9595195951959519,\n",
       " 1.058650586505865,\n",
       " 1.8529385293852938,\n",
       " 1.991969919699197,\n",
       " 1.7463574635746357,\n",
       " 1.8853888538885388,\n",
       " 1.1235512355123551,\n",
       " 1.056870568705687,\n",
       " 1.7788077880778808,\n",
       " 1.9178391783917839,\n",
       " 1.1560015600156002,\n",
       " 1.089320893208932,\n",
       " 1.8112581125811258,\n",
       " 1.950289502895029,\n",
       " 1.938489384893849,\n",
       " 1.049420494204942,\n",
       " 1.1884518845188452,\n",
       " 1.121771217712177,\n",
       " 1.8437084370843708,\n",
       " 1.982739827398274,\n",
       " 1.0818708187081871,\n",
       " 1.154221542215422,\n",
       " 1.7371273712737128,\n",
       " 1.8761587615876159,\n",
       " 1.1143211432114322,\n",
       " 1.047640476404764,\n",
       " 1.186671866718667,\n",
       " 1.9086090860908609,\n",
       " 1.1467714677146772,\n",
       " 1.080090800908009,\n",
       " 1.8020280202802028,\n",
       " 1.941059410594106,\n",
       " 1.1792217922179222,\n",
       " 1.3332733327333273,\n",
       " 1.6954469544695447,\n",
       " 1.112541125411254,\n",
       " 1.8344783447834478,\n",
       " 1.973509735097351,\n",
       " 1.0726407264072642,\n",
       " 1.8155581555815559,\n",
       " 1.5888658886588867,\n",
       " 1.7278972789727898,\n",
       " 1.144991449914499,\n",
       " 1.8669286692866929,\n",
       " 1.1050910509105092,\n",
       " 1.5921659216592166,\n",
       " 1.085470854708547,\n",
       " 1.0988609886098861,\n",
       " 1.2378923789237892,\n",
       " 1.2512825128251284,\n",
       " 1.3769237692376923,\n",
       " 1.3903139031390315,\n",
       " 1.5159551595515954,\n",
       " 1.5293452934529346,\n",
       " 1.6549865498654985,\n",
       " 1.6213162131621317,\n",
       " 1.7603476034760348,\n",
       " 1.038410384103841,\n",
       " 1.5945359453594534,\n",
       " 1.899378993789938,\n",
       " 1.1375413754137542,\n",
       " 1.2098920989209891,\n",
       " 1.3489234892348922,\n",
       " 1.4879548795487954,\n",
       " 1.5147351473514736,\n",
       " 1.6269862698626985,\n",
       " 1.6537665376653767,\n",
       " 1.7927979279792798,\n",
       " 1.931829318293183,\n",
       " 1.1699916999169993,\n",
       " 1.6862168621686218,\n",
       " 1.103311033110331,\n",
       " 1.8252482524825249,\n",
       " 1.964279642796428,\n",
       " 1.135761357613576,\n",
       " 1.85769857698577,\n",
       " 1.996729967299673,\n",
       " 1.7910179101791017,\n",
       " 1.029180291802918,\n",
       " 1.1682116821168211,\n",
       " 1.7511175111751118,\n",
       " 1.890148901489015,\n",
       " 1.8234682346823468,\n",
       " 1.6445364453644538,\n",
       " 1.061630616306163,\n",
       " 1.7567875678756786,\n",
       " 1.7835678356783569,\n",
       " 1.92259922599226,\n",
       " 1.8559185591855918,\n",
       " 1.094080940809408,\n",
       " 1.7892378923789236,\n",
       " 1.816018160181602,\n",
       " 1.955049550495505,\n",
       " 1.02740027400274,\n",
       " 1.8883688836888368,\n",
       " 1.1265312653126531,\n",
       " 1.7094370943709438,\n",
       " 1.8216882168821686,\n",
       " 1.848468484684847,\n",
       " 1.98749987499875,\n",
       " 1.059850598505985,\n",
       " 1.9208192081920819,\n",
       " 1.019950199501995,\n",
       " 1.1589815898158982,\n",
       " 1.7418874188741889,\n",
       " 1.8541385413854137,\n",
       " 1.880918809188092,\n",
       " 1.8142381423814238,\n",
       " 1.9532695326953269,\n",
       " 1.05240052400524,\n",
       " 1.7743377433774339,\n",
       " 1.7475574755747556,\n",
       " 1.8865888658886587,\n",
       " 1.913369133691337,\n",
       " 1.8466884668846688,\n",
       " 1.985719857198572,\n",
       " 1.0848508485084851,\n",
       " 1.806788067880679,\n",
       " 1.9190391903919037,\n",
       " 1.945819458194582,\n",
       " 1.018170181701817,\n",
       " 1.8791387913879138,\n",
       " 1.7002070020700208,\n",
       " 1.1173011730117302,\n",
       " 1.8124581245812457,\n",
       " 1.839238392383924,\n",
       " 1.9514895148951488,\n",
       " 1.978269782697827,\n",
       " 1.050620506205062,\n",
       " 1.9115891158911589,\n",
       " 1.010720107201072,\n",
       " 1.1497514975149752,\n",
       " 1.8449084490844907,\n",
       " 1.871688716887169,\n",
       " 1.9839398393983938,\n",
       " 1.999909999099991,\n",
       " 1.083070830708307,\n",
       " 1.8050080500805008,\n",
       " 1.944039440394404,\n",
       " 1.0431704317043171,\n",
       " 1.765107651076511,\n",
       " 1.7383273832738326,\n",
       " 1.8773587735877357,\n",
       " 1.904139041390414,\n",
       " 1.115521155211552,\n",
       " 1.8374583745837458,\n",
       " 1.976489764897649,\n",
       " 1.7707777077770777,\n",
       " 1.0756207562075621,\n",
       " 1.797557975579756,\n",
       " 1.9098090980909808,\n",
       " 1.936589365893659,\n",
       " 1.964479644796448,\n",
       " 1.008940089400894,\n",
       " 1.147971479714797,\n",
       " 1.8699086990869909,\n",
       " 1.1080710807108072,\n",
       " 1.8032280322803227,\n",
       " 1.830008300083001,\n",
       " 1.9422594225942258,\n",
       " 1.969039690396904,\n",
       " 1.041390413904139,\n",
       " 1.180421804218042,\n",
       " 1.902359023590236,\n",
       " 1.072080720807208,\n",
       " 1.2111121111211112,\n",
       " 1.2245022450224503,\n",
       " 1.3501435014350143,\n",
       " 1.3635336353363534,\n",
       " 1.5025650256502565,\n",
       " 1.6415964159641596,\n",
       " 1.7806278062780627,\n",
       " 1.114691146911469,\n",
       " 1.2537225372253722,\n",
       " 1.4185841858418584,\n",
       " 1.001490014900149,\n",
       " 1.5576155761557615,\n",
       " 1.6966469664696646,\n",
       " 1.8356783567835677,\n",
       " 1.073840738407384,\n",
       " 1.7957779577795778,\n",
       " 1.934809348093481,\n",
       " 1.0339403394033941,\n",
       " 1.1729717297172972,\n",
       " 1.8681286812868128,\n",
       " 1.894908949089491,\n",
       " 1.106291062910629,\n",
       " 1.8282282822828229,\n",
       " 1.967259672596726,\n",
       " 1.8769787697876978,\n",
       " 1.7615476154761547,\n",
       " 1.0663906639066392,\n",
       " 1.9005790057900578,\n",
       " 1.927359273592736,\n",
       " 1.138741387413874,\n",
       " 1.860678606786068,\n",
       " 1.999709997099971,\n",
       " 1.6549665496654966,\n",
       " 1.0988409884098842,\n",
       " 1.7939979399793997,\n",
       " 1.9330293302933028,\n",
       " 1.959809598095981,\n",
       " 1.1711917119171191,\n",
       " 1.893128931289313,\n",
       " 1.1312913129131292,\n",
       " 1.8264482644826447,\n",
       " 1.9654796547965478,\n",
       " 1.9922599225992261,\n",
       " 1.064610646106461,\n",
       " 1.925579255792558,\n",
       " 1.1637416374163743,\n",
       " 1.8588985889858898,\n",
       " 1.9979299792997929,\n",
       " 1.097060970609706,\n",
       " 1.958029580295803,\n",
       " 1.1961919619196193,\n",
       " 1.8913489134891348,\n",
       " 1.1295112951129511,\n",
       " 1.990479904799048,\n",
       " 1.7847678476784767,\n",
       " 1.9237992379923798,\n",
       " 1.1619616196161962,\n",
       " 1.8172181721817218,\n",
       " 1.9562495624956249,\n",
       " 1.055380553805538,\n",
       " 1.127731277312773,\n",
       " 1.8496684966849668,\n",
       " 1.98869988699887,\n",
       " 1.0878308783087831,\n",
       " 1.021150211502115,\n",
       " 1.160181601816018,\n",
       " 1.8821188211882118,\n",
       " 1.1202812028120281,\n",
       " 1.05360053600536,\n",
       " 1.192631926319263,\n",
       " 1.9145691456914569,\n",
       " 1.01370013700137,\n",
       " 1.1527315273152732,\n",
       " 1.1488314883148831,\n",
       " 1.086050860508605,\n",
       " 1.8079880798807988,\n",
       " 1.947019470194702,\n",
       " 1.046150461504615,\n",
       " 1.1851818518185182,\n",
       " 1.11850118501185,\n",
       " 1.8404384043840438,\n",
       " 1.979469794697947,\n",
       " 1.0786007860078601,\n",
       " 1.011920119201192,\n",
       " 1.150951509515095,\n",
       " 1.8728887288872889,\n",
       " 1.1110511105111052,\n",
       " 1.7663076630766308,\n",
       " 1.044370443704437,\n",
       " 1.9053390533905339,\n",
       " 1.004470044700447,\n",
       " 1.1435014350143502,\n",
       " 1.002690026900269,\n",
       " 1.0160801608016081,\n",
       " 1.03410034100341,\n",
       " 1.0474904749047491,\n",
       " 1.065510655106551,\n",
       " 1.07890078900789,\n",
       " 1.110311103111031,\n",
       " 1.1237012370123702,\n",
       " 1.141721417214172,\n",
       " 1.1551115511155112,\n",
       " 1.5206952069520696,\n",
       " 1.6597265972659727,\n",
       " 1.076820768207682,\n",
       " 1.7987579875798758,\n",
       " 1.937789377893779,\n",
       " 1.0369203692036921,\n",
       " 1.1759517595175952,\n",
       " 1.6921769217692177,\n",
       " 1.109271092710927,\n",
       " 1.8312083120831208,\n",
       " 1.970239702397024,\n",
       " 1.0693706937069372,\n",
       " 1.2807528075280752,\n",
       " 1.4197841978419783,\n",
       " 1.4465644656446566,\n",
       " 1.5588155881558814,\n",
       " 1.5855958559585597,\n",
       " 1.7246272462724628,\n",
       " 1.8636586365863659,\n",
       " 1.1018210182101822,\n",
       " 1.7570775707757078,\n",
       " 1.035140351403514,\n",
       " 1.896108961089611,\n",
       " 1.1342713427134272,\n",
       " 1.6504965049650497,\n",
       " 1.067590675906759,\n",
       " 1.7895278952789528,\n",
       " 1.928559285592856,\n",
       " 1.1667216672166723,\n",
       " 1.9383993839938398,\n",
       " 1.100041000410004,\n",
       " 1.8219782197821979,\n",
       " 1.961009610096101,\n",
       " 1.132491324913249,\n",
       " 1.7153971539715398,\n",
       " 1.854428544285443,\n",
       " 1.993459934599346,\n",
       " 1.7877478774787747,\n",
       " 1.902969029690297,\n",
       " 1.025910259102591,\n",
       " 1.1649416494164941,\n",
       " 1.886878868788688,\n",
       " 1.8201982019820198,\n",
       " 1.7535175351753516,\n",
       " 1.058360583605836,\n",
       " 1.7802978029780299,\n",
       " 1.919329193291933,\n",
       " 1.8526485264852648,\n",
       " 1.6737167371673718,\n",
       " 1.7859678596785966,\n",
       " 1.090810908109081,\n",
       " 1.812748127481275,\n",
       " 1.951779517795178,\n",
       " 1.024130241302413,\n",
       " 1.8850988509885098,\n",
       " 1.1232612326123261,\n",
       " 1.7061670616706168,\n",
       " 1.8184181841818416,\n",
       " 1.84519845198452,\n",
       " 1.984229842298423,\n",
       " 1.056580565805658,\n",
       " 1.9175491754917549,\n",
       " 1.7386173861738619,\n",
       " 1.016680166801668,\n",
       " 1.1557115571155712,\n",
       " 1.8508685086850867,\n",
       " 1.877648776487765,\n",
       " 1.089030890308903,\n",
       " 1.8109681096810968,\n",
       " 1.9499994999949999,\n",
       " 1.7442874428744286,\n",
       " 1.7710677106771069,\n",
       " 1.049130491304913,\n",
       " 1.8833188331883317,\n",
       " 1.91009910099101,\n",
       " 1.121481214812148,\n",
       " 1.8434184341843418,\n",
       " 1.982449824498245,\n",
       " 1.0815808158081581,\n",
       " 1.803518035180352,\n",
       " 1.9157691576915767,\n",
       " 1.942549425494255,\n",
       " 1.01490014900149,\n",
       " 1.8758687586875868,\n",
       " 1.6969369693696938,\n",
       " 1.1140311403114032,\n",
       " 1.8091880918809187,\n",
       " 1.835968359683597,\n",
       " 1.9482194821948218,\n",
       " 1.9749997499975,\n",
       " 1.047350473504735,\n",
       " 1.9083190831908319,\n",
       " 1.7293872938729389,\n",
       " 1.007450074500745,\n",
       " 1.1464814648146482,\n",
       " 1.8416384163841637,\n",
       " 1.868418684186842,\n",
       " 1.9806698066980668,\n",
       " 1.07980079800798,\n",
       " 1.8017380173801738,\n",
       " 1.940769407694077,\n",
       " 1.114941149411494,\n",
       " 1.1283312833128332,\n",
       " 1.2673626736267363,\n",
       " 1.4063940639406394,\n",
       " 1.6978469784697847,\n",
       " 1.018520185201852,\n",
       " 1.031910319103191,\n",
       " 1.1709417094170942,\n",
       " 1.3099730997309973,\n",
       " 1.4490044900449004,\n",
       " 1.761837618376184,\n",
       " 1.4569945699456994,\n",
       " 1.5960259602596025,\n",
       " 1.7350573505735056,\n",
       " 1.8740887408874087,\n",
       " 1.6951569515695157,\n",
       " 1.8341883418834188,\n",
       " 1.973219732197322,\n",
       " 1.7675076750767507,\n",
       " 1.0723507235072351,\n",
       " 1.794287942879429,\n",
       " 1.9065390653906538,\n",
       " 1.933319333193332,\n",
       " 1.005670056700567,\n",
       " 1.14470144701447,\n",
       " 1.8666386663866639,\n",
       " 1.1048010480104802,\n",
       " 1.7999579995799957,\n",
       " 1.826738267382674,\n",
       " 1.9389893898938988,\n",
       " 1.965769657696577,\n",
       " 1.038120381203812,\n",
       " 1.177151771517715,\n",
       " 1.899088990889909,\n",
       " 1.1372513725137252,\n",
       " 1.8324083240832407,\n",
       " 1.859188591885919,\n",
       " 1.9714397143971438,\n",
       " 1.998219982199822,\n",
       " 1.070570705707057,\n",
       " 1.7925079250792508,\n",
       " 1.931539315393154,\n",
       " 1.0306703067030671,\n",
       " 1.1697016970169702,\n",
       " 1.8648586485864858,\n",
       " 1.891638916389164,\n",
       " 1.8249582495824959,\n",
       " 1.963989639896399,\n",
       " 1.7582775827758277,\n",
       " 1.0631206312063122,\n",
       " 1.8973089730897308,\n",
       " 1.924089240892409,\n",
       " 1.135471354713547,\n",
       " 1.857408574085741,\n",
       " 1.996439964399644,\n",
       " 1.0955709557095572,\n",
       " 1.7907279072790727,\n",
       " 1.9297592975929758,\n",
       " 1.956539565395654,\n",
       " 1.028890288902889,\n",
       " 1.1679216792167921,\n",
       " 1.889858898588986,\n",
       " 1.6841468414684146,\n",
       " 1.1280212802128022,\n",
       " 1.8231782317823177,\n",
       " 1.9622096220962209,\n",
       " 1.9889898898988991,\n",
       " 1.061340613406134,\n",
       " 1.922309223092231,\n",
       " 1.1604716047160473,\n",
       " 1.8556285562855628,\n",
       " 1.9946599465994659,\n",
       " 1.093790937909379,\n",
       " 1.954759547595476,\n",
       " 1.7490474904749047,\n",
       " 1.027110271102711,\n",
       " 1.8880788807888078,\n",
       " 1.1262412624126241,\n",
       " 1.987209872098721,\n",
       " 1.964389643896439,\n",
       " 1.059560595605956,\n",
       " 1.9205292052920528,\n",
       " 1.019660196601966,\n",
       " 1.1586915869158692,\n",
       " 1.092010920109201,\n",
       " 1.8139481394813948,\n",
       " 1.9529795297952979,\n",
       " 1.052110521105211,\n",
       " 1.1911419114191142,\n",
       " 1.124461244612446,\n",
       " 1.8463984639846398,\n",
       " 1.985429854298543,\n",
       " 1.0845608456084561,\n",
       " 1.017880178801788,\n",
       " 1.156911569115691,\n",
       " 1.8788487884878848,\n",
       " 1.8768887688876887,\n",
       " 1.1170111701117011,\n",
       " 1.050330503305033,\n",
       " 1.189361893618936,\n",
       " 1.9112991129911299,\n",
       " 1.010430104301043,\n",
       " 1.1494614946149462,\n",
       " 1.082780827808278,\n",
       " 1.8047180471804718,\n",
       " 1.943749437494375,\n",
       " 1.841458414584146,\n",
       " 1.042880428804288,\n",
       " 1.1819118191181912,\n",
       " 1.7248772487724877,\n",
       " 1.6418464184641848,\n",
       " 1.7540975409754096,\n",
       " 1.101551015510155,\n",
       " 1.2405824058240582,\n",
       " 1.2539725397253974,\n",
       " 1.3796137961379613,\n",
       " 1.3930039300393005,\n",
       " 1.5186451864518644,\n",
       " 1.5320353203532036,\n",
       " 1.5591055910559106,\n",
       " 1.6981369813698137,\n",
       " 1.115231152311523,\n",
       " 1.8371683716837168,\n",
       " 1.97619976199762,\n",
       " 1.0753307533075331,\n",
       " 1.008650086500865,\n",
       " 1.147681476814768,\n",
       " 1.8696186961869619,\n",
       " 1.1077810778107782,\n",
       " 1.04110041100411,\n",
       " 1.180131801318013,\n",
       " 1.902069020690207,\n",
       " 1.00120001200012,\n",
       " 1.1402314023140232,\n",
       " 1.3516135161351612,\n",
       " 1.5174251742517426,\n",
       " 1.6564565645656457,\n",
       " 1.7954879548795488,\n",
       " 1.934519345193452,\n",
       " 1.0336503365033651,\n",
       " 1.1726817268172682,\n",
       " 1.1060010600106,\n",
       " 1.8279382793827939,\n",
       " 1.966969669696697,\n",
       " 1.0661006610066102,\n",
       " 1.138451384513845,\n",
       " 1.8603886038860389,\n",
       " 1.999419994199942,\n",
       " 1.0985509855098552,\n",
       " 1.7538075380753808,\n",
       " 1.031870318703187,\n",
       " 1.1709017090170901,\n",
       " 1.892838928389284,\n",
       " 1.1310013100131002,\n",
       " 1.6472264722647227,\n",
       " 1.064320643206432,\n",
       " 1.7862578625786258,\n",
       " 1.925289252892529,\n",
       " 1.1634516345163453,\n",
       " 1.096770967709677,\n",
       " 1.8187081870818709,\n",
       " 1.957739577395774,\n",
       " 1.1959019590195903,\n",
       " 1.1292212922129221,\n",
       " 1.851158511585116,\n",
       " 1.990189901899019,\n",
       " 1.022640226402264,\n",
       " 1.1616716167161671,\n",
       " 1.7445774457744578,\n",
       " 1.883608836088361,\n",
       " 1.8169281692816928,\n",
       " 1.1941219412194122,\n",
       " 1.055090550905509,\n",
       " 1.7502475024750246,\n",
       " 1.7770277702777029,\n",
       " 1.916059160591606,\n",
       " 1.8493784937849378,\n",
       " 1.7826978269782696,\n",
       " 1.087540875408754,\n",
       " 1.809478094780948,\n",
       " 1.948509485094851,\n",
       " 1.020860208602086,\n",
       " 1.8818288182881828,\n",
       " 1.1199911999119991,\n",
       " 1.8151481514815146,\n",
       " 1.841928419284193,\n",
       " 1.980959809598096,\n",
       " 1.053310533105331,\n",
       " 1.9142791427914279,\n",
       " 1.013410134101341,\n",
       " 1.1524415244152442,\n",
       " 1.8475984759847597,\n",
       " 1.874378743787438,\n",
       " 1.085760857608576,\n",
       " 1.8076980769807698,\n",
       " 1.9467294672946729,\n",
       " 1.045860458604586,\n",
       " 1.76779767797678,\n",
       " 1.8800488004880047,\n",
       " 1.906829068290683,\n",
       " 1.118211182111821,\n",
       " 1.8401484014840148,\n",
       " 1.979179791797918,\n",
       " 1.3102231022310222,\n",
       " 1.3236132361323614,\n",
       " 1.4626446264462645,\n",
       " 1.6016760167601676,\n",
       " 1.7407074070740707,\n",
       " 1.000750007500075,\n",
       " 1.032160321603216,\n",
       " 1.063570635706357,\n",
       " 1.0769607696076962,\n",
       " 1.094980949809498,\n",
       " 1.0783107831078311,\n",
       " 1.6344363443634435,\n",
       " 1.7734677346773466,\n",
       " 1.800248002480025,\n",
       " 1.9124991249912497,\n",
       " 1.011630116301163,\n",
       " 1.150661506615066,\n",
       " 1.8725987259872598,\n",
       " 1.1107611076110762,\n",
       " 1.8059180591805917,\n",
       " 1.83269832698327,\n",
       " 1.9449494494944948,\n",
       " 1.971729717297173,\n",
       " 1.7660176601766018,\n",
       " 1.9050490504905049,\n",
       " 1.004180041800418,\n",
       " 1.1432114321143212,\n",
       " 1.8383683836838367,\n",
       " 1.865148651486515,\n",
       " 1.9773997739977398,\n",
       " 1.902879028790288,\n",
       " 1.076530765307653,\n",
       " 1.7984679846798468,\n",
       " 1.93749937499375,\n",
       " 1.0366303663036631,\n",
       " 1.1756617566175662,\n",
       " 1.8708187081870817,\n",
       " 1.89759897598976,\n",
       " 1.108981089810898,\n",
       " 1.8309183091830918,\n",
       " 1.969949699496995,\n",
       " 1.0690806908069082,\n",
       " 1.9032690326903268,\n",
       " 1.930049300493005,\n",
       " 1.00240002400024,\n",
       " 1.141431414314143,\n",
       " 1.8633686336863369,\n",
       " 1.1015310153101532,\n",
       " 1.7966879668796687,\n",
       " 1.9357193571935718,\n",
       " 1.96249962499625,\n",
       " 1.173881738817388,\n",
       " 1.895818958189582,\n",
       " 1.8153781537815377,\n",
       " 1.1339813398133982,\n",
       " 1.8291382913829137,\n",
       " 1.9681696816968168,\n",
       " 1.9949499494994951,\n",
       " 1.06730067300673,\n",
       " 1.928269282692827,\n",
       " 1.2976629766297663,\n",
       " 1.1664316643166432,\n",
       " 1.8615886158861588,\n",
       " 1.099750997509975,\n",
       " 1.960719607196072,\n",
       " 1.7550075500755007,\n",
       " 1.8940389403894038,\n",
       " 1.13220132201322,\n",
       " 1.993169931699317,\n",
       " 1.0923009230092302,\n",
       " 1.7874578745787457,\n",
       " 1.9264892648926488,\n",
       " 1.1646516465164651,\n",
       " 1.6808768087680876,\n",
       " 1.1247512475124752,\n",
       " 1.8199081990819908,\n",
       " 1.9589395893958939,\n",
       " 1.058070580705807,\n",
       " 1.1572015720157203,\n",
       " 1.8523585235852358,\n",
       " 1.9913899138991389,\n",
       " 1.090520905209052,\n",
       " 1.7457774577745777,\n",
       " 1.023840238402384,\n",
       " 1.8848088480884808,\n",
       " 1.1229712297122971,\n",
       " 1.7782277822778227,\n",
       " 1.056290562905629,\n",
       " 1.9172591725917258,\n",
       " 1.016390163901639,\n",
       " 1.1554215542155422,\n",
       " 1.088740887408874,\n",
       " 1.8106781067810678,\n",
       " 1.9497094970949709,\n",
       " 1.048840488404884,\n",
       " 1.1878718787187872,\n",
       " 1.121191211912119,\n",
       " 1.8431284312843128,\n",
       " 1.982159821598216,\n",
       " 1.0812908129081291,\n",
       " 1.7475274752747527,\n",
       " 1.1914019140191403,\n",
       " 1.005380053800538,\n",
       " 1.018770187701877,\n",
       " 1.144411444114441,\n",
       " 1.3194531945319454,\n",
       " 1.1578015780157802,\n",
       " 1.2834428344283442,\n",
       " 1.2968329683296833,\n",
       " 1.4358643586435864,\n",
       " 1.4584845848458485,\n",
       " 1.5975159751597516,\n",
       " 1.7365473654736547,\n",
       " 1.8755787557875578,\n",
       " 1.6299662996629967,\n",
       " 1.7689976899768998,\n",
       " 1.9080290802908029,\n",
       " 1.007160071600716,\n",
       " 1.6624166241662417,\n",
       " 1.8014480144801448,\n",
       " 1.940479404794048,\n",
       " 1.039610396103961,\n",
       " 1.6948669486694867,\n",
       " 1.8338983389833898,\n",
       " 1.972929729297293,\n",
       " 1.0720607206072061,\n",
       " 1.4492544925449256,\n",
       " 1.5882858828588287,\n",
       " 1.7273172731727318,\n",
       " 1.8663486634866349,\n",
       " 1.7597675976759768,\n",
       " 1.037830378303783,\n",
       " 1.89879898798988,\n",
       " 1.6531865318653187,\n",
       " 1.7922179221792218,\n",
       " 1.931249312493125,\n",
       " 1.0303803038030381,\n",
       " 1.6856368563685638,\n",
       " 1.8246682466824669,\n",
       " 1.96369963699637,\n",
       " 1.0628306283062832,\n",
       " 1.7180871808718088,\n",
       " 1.8571185711857119,\n",
       " 1.996149961499615,\n",
       " 1.6115061150611507,\n",
       " 1.7505375053750538,\n",
       " 1.02860028600286,\n",
       " 1.889568895688957,\n",
       " 1.6171761717617175,\n",
       " 1.6439564395643957,\n",
       " 1.7829878298782988,\n",
       " 1.922019220192202,\n",
       " 1.8413684136841368,\n",
       " 1.8154381543815439,\n",
       " 1.954469544695447,\n",
       " 1.5698256982569827,\n",
       " 1.6820768207682075,\n",
       " 1.7088570885708858,\n",
       " 1.847888478884789,\n",
       " 1.986919869198692,\n",
       " 1.6022760227602277,\n",
       " 1.7145271452714526,\n",
       " 1.7413074130741308,\n",
       " 1.880338803388034,\n",
       " 1.8136581365813658,\n",
       " 1.7469774697746976,\n",
       " 1.6347263472634728,\n",
       " 1.7737577375773759,\n",
       " 1.912789127891279,\n",
       " 1.8461084610846108,\n",
       " 1.7794277942779426,\n",
       " 1.6671766717667178,\n",
       " 1.806208062080621,\n",
       " 1.945239452394524,\n",
       " 1.017590175901759,\n",
       " 1.8785587855878558,\n",
       " 1.02340023400234,\n",
       " 1.1310213102131021,\n",
       " 1.2700527005270053,\n",
       " 1.4090840908409084,\n",
       " 1.4224742247422475,\n",
       " 1.5615056150561506,\n",
       " 1.7005370053700537,\n",
       " 1.5338153381533814,\n",
       " 1.021210212102121,\n",
       " 1.03460034600346,\n",
       " 1.6728467284672845,\n",
       " 1.6996269962699628,\n",
       " 1.8118781187811877,\n",
       " 1.838658386583866,\n",
       " 1.977689776897769,\n",
       " 1.9110091100911009,\n",
       " 1.7052970529705296,\n",
       " 1.7320773207732079,\n",
       " 1.010140101401014,\n",
       " 1.8443284432844327,\n",
       " 1.871108711087111,\n",
       " 1.8044280442804428,\n",
       " 1.943459434594346,\n",
       " 1.764527645276453,\n",
       " 1.1816218162181622,\n",
       " 1.8767787677876777,\n",
       " 1.903559035590356,\n",
       " 1.8368783687836878,\n",
       " 1.975909759097591,\n",
       " 1.6311663116631165,\n",
       " 1.7701977019770196,\n",
       " 1.796977969779698,\n",
       " 1.9092290922909227,\n",
       " 1.936009360093601,\n",
       " 1.8693286932869329,\n",
       " 1.6636166361663616,\n",
       " 1.8026480264802647,\n",
       " 1.829428294282943,\n",
       " 1.9416794167941678,\n",
       " 1.968459684596846,\n",
       " 1.9017790177901779,\n",
       " 1.6960669606696066,\n",
       " 1.000910009100091,\n",
       " 1.8350983509835097,\n",
       " 1.861878618786188,\n",
       " 1.9741297412974128,\n",
       " 1.073260732607326,\n",
       " 1.7951979519795198,\n",
       " 1.934229342293423,\n",
       " 1.0333603336033361,\n",
       " 1.8675486754867547,\n",
       " 1.894328943289433,\n",
       " 1.8276482764827648,\n",
       " 1.966679666796668,\n",
       " 1.0658106581065812,\n",
       " 1.8999989999899998,\n",
       " 1.926779267792678,\n",
       " 1.8600986009860099,\n",
       " 1.999129991299913,\n",
       " 1.6543865438654386,\n",
       " 1.7934179341793417,\n",
       " 1.9324493244932448,\n",
       " 1.959229592295923,\n",
       " 1.031580315803158,\n",
       " 1.892548925489255,\n",
       " 1.6868368683686836,\n",
       " 1.8258682586825867,\n",
       " 1.9648996489964898,\n",
       " 1.9916799167991681,\n",
       " 1.064030640306403,\n",
       " 1.9249992499925,\n",
       " 1.7192871928719287,\n",
       " 1.8583185831858318,\n",
       " 1.9973499734997349,\n",
       " 1.990289902899029,\n",
       " 1.957449574495745,\n",
       " 1.7517375173751737,\n",
       " 1.8907689076890768,\n",
       " 1.98989989899899,\n",
       " 1.6451564515645156,\n",
       " 1.7841878418784187,\n",
       " 1.9232192321923218,\n",
       " 1.022350223502235,\n",
       " 1.6776067760677607,\n",
       " 1.8166381663816638,\n",
       " 1.9556695566955669,\n",
       " 1.05480054800548,\n",
       " 1.9027890278902788,\n",
       " 1.7100571005710057,\n",
       " 1.8490884908849088,\n",
       " 1.988119881198812,\n",
       " 1.6034760347603476,\n",
       " 1.7425074250742507,\n",
       " 1.8815388153881538,\n",
       " 1.867358673586736,\n",
       " 1.7701777017770177,\n",
       " 1.2006620066200662,\n",
       " 1.2140521405214053,\n",
       " 1.3396933969339693,\n",
       " 1.3530835308353084,\n",
       " 1.4787247872478724,\n",
       " 1.4921149211492115,\n",
       " 1.5055050550505507,\n",
       " 1.6177561775617755,\n",
       " 1.6311463114631146,\n",
       " 1.7749577495774957,\n",
       " 1.3578635786357864,\n",
       " 1.4968949689496895,\n",
       " 1.9139891398913988,\n",
       " 1.013120131201312,\n",
       " 1.6683766837668377,\n",
       " 1.8074080740807408,\n",
       " 1.9464394643946439,\n",
       " 1.5617956179561796,\n",
       " 1.7008270082700827,\n",
       " 1.8398583985839858,\n",
       " 1.978889788897889,\n",
       " 1.5942459424594246,\n",
       " 1.7332773327733277,\n",
       " 1.8723087230872308,\n",
       " 1.6266962669626697,\n",
       " ...}"
      ]
     },
     "execution_count": 105,
     "metadata": {},
     "output_type": "execute_result"
    }
   ],
   "source": [
    "# Generamos un conjunto de tamaño 1.000.000 de los racionales comprendidos entre 1 y 2\n",
    "import numpy as np\n",
    "set(np.linspace(1,2,100000))"
   ]
  },
  {
   "cell_type": "code",
   "execution_count": 108,
   "id": "872e4660",
   "metadata": {},
   "outputs": [
    {
     "data": {
      "text/plain": [
       "1000"
      ]
     },
     "execution_count": 108,
     "metadata": {},
     "output_type": "execute_result"
    }
   ],
   "source": [
    "# Generamos números naturales\n",
    "len(set(list(range(0, 1000))))"
   ]
  },
  {
   "cell_type": "code",
   "execution_count": 111,
   "id": "bb62feb6",
   "metadata": {},
   "outputs": [
    {
     "data": {
      "text/plain": [
       "{-1000,\n",
       " -999,\n",
       " -998,\n",
       " -997,\n",
       " -996,\n",
       " -995,\n",
       " -994,\n",
       " -993,\n",
       " -992,\n",
       " -991,\n",
       " -990,\n",
       " -989,\n",
       " -988,\n",
       " -987,\n",
       " -986,\n",
       " -985,\n",
       " -984,\n",
       " -983,\n",
       " -982,\n",
       " -981,\n",
       " -980,\n",
       " -979,\n",
       " -978,\n",
       " -977,\n",
       " -976,\n",
       " -975,\n",
       " -974,\n",
       " -973,\n",
       " -972,\n",
       " -971,\n",
       " -970,\n",
       " -969,\n",
       " -968,\n",
       " -967,\n",
       " -966,\n",
       " -965,\n",
       " -964,\n",
       " -963,\n",
       " -962,\n",
       " -961,\n",
       " -960,\n",
       " -959,\n",
       " -958,\n",
       " -957,\n",
       " -956,\n",
       " -955,\n",
       " -954,\n",
       " -953,\n",
       " -952,\n",
       " -951,\n",
       " -950,\n",
       " -949,\n",
       " -948,\n",
       " -947,\n",
       " -946,\n",
       " -945,\n",
       " -944,\n",
       " -943,\n",
       " -942,\n",
       " -941,\n",
       " -940,\n",
       " -939,\n",
       " -938,\n",
       " -937,\n",
       " -936,\n",
       " -935,\n",
       " -934,\n",
       " -933,\n",
       " -932,\n",
       " -931,\n",
       " -930,\n",
       " -929,\n",
       " -928,\n",
       " -927,\n",
       " -926,\n",
       " -925,\n",
       " -924,\n",
       " -923,\n",
       " -922,\n",
       " -921,\n",
       " -920,\n",
       " -919,\n",
       " -918,\n",
       " -917,\n",
       " -916,\n",
       " -915,\n",
       " -914,\n",
       " -913,\n",
       " -912,\n",
       " -911,\n",
       " -910,\n",
       " -909,\n",
       " -908,\n",
       " -907,\n",
       " -906,\n",
       " -905,\n",
       " -904,\n",
       " -903,\n",
       " -902,\n",
       " -901,\n",
       " -900,\n",
       " -899,\n",
       " -898,\n",
       " -897,\n",
       " -896,\n",
       " -895,\n",
       " -894,\n",
       " -893,\n",
       " -892,\n",
       " -891,\n",
       " -890,\n",
       " -889,\n",
       " -888,\n",
       " -887,\n",
       " -886,\n",
       " -885,\n",
       " -884,\n",
       " -883,\n",
       " -882,\n",
       " -881,\n",
       " -880,\n",
       " -879,\n",
       " -878,\n",
       " -877,\n",
       " -876,\n",
       " -875,\n",
       " -874,\n",
       " -873,\n",
       " -872,\n",
       " -871,\n",
       " -870,\n",
       " -869,\n",
       " -868,\n",
       " -867,\n",
       " -866,\n",
       " -865,\n",
       " -864,\n",
       " -863,\n",
       " -862,\n",
       " -861,\n",
       " -860,\n",
       " -859,\n",
       " -858,\n",
       " -857,\n",
       " -856,\n",
       " -855,\n",
       " -854,\n",
       " -853,\n",
       " -852,\n",
       " -851,\n",
       " -850,\n",
       " -849,\n",
       " -848,\n",
       " -847,\n",
       " -846,\n",
       " -845,\n",
       " -844,\n",
       " -843,\n",
       " -842,\n",
       " -841,\n",
       " -840,\n",
       " -839,\n",
       " -838,\n",
       " -837,\n",
       " -836,\n",
       " -835,\n",
       " -834,\n",
       " -833,\n",
       " -832,\n",
       " -831,\n",
       " -830,\n",
       " -829,\n",
       " -828,\n",
       " -827,\n",
       " -826,\n",
       " -825,\n",
       " -824,\n",
       " -823,\n",
       " -822,\n",
       " -821,\n",
       " -820,\n",
       " -819,\n",
       " -818,\n",
       " -817,\n",
       " -816,\n",
       " -815,\n",
       " -814,\n",
       " -813,\n",
       " -812,\n",
       " -811,\n",
       " -810,\n",
       " -809,\n",
       " -808,\n",
       " -807,\n",
       " -806,\n",
       " -805,\n",
       " -804,\n",
       " -803,\n",
       " -802,\n",
       " -801,\n",
       " -800,\n",
       " -799,\n",
       " -798,\n",
       " -797,\n",
       " -796,\n",
       " -795,\n",
       " -794,\n",
       " -793,\n",
       " -792,\n",
       " -791,\n",
       " -790,\n",
       " -789,\n",
       " -788,\n",
       " -787,\n",
       " -786,\n",
       " -785,\n",
       " -784,\n",
       " -783,\n",
       " -782,\n",
       " -781,\n",
       " -780,\n",
       " -779,\n",
       " -778,\n",
       " -777,\n",
       " -776,\n",
       " -775,\n",
       " -774,\n",
       " -773,\n",
       " -772,\n",
       " -771,\n",
       " -770,\n",
       " -769,\n",
       " -768,\n",
       " -767,\n",
       " -766,\n",
       " -765,\n",
       " -764,\n",
       " -763,\n",
       " -762,\n",
       " -761,\n",
       " -760,\n",
       " -759,\n",
       " -758,\n",
       " -757,\n",
       " -756,\n",
       " -755,\n",
       " -754,\n",
       " -753,\n",
       " -752,\n",
       " -751,\n",
       " -750,\n",
       " -749,\n",
       " -748,\n",
       " -747,\n",
       " -746,\n",
       " -745,\n",
       " -744,\n",
       " -743,\n",
       " -742,\n",
       " -741,\n",
       " -740,\n",
       " -739,\n",
       " -738,\n",
       " -737,\n",
       " -736,\n",
       " -735,\n",
       " -734,\n",
       " -733,\n",
       " -732,\n",
       " -731,\n",
       " -730,\n",
       " -729,\n",
       " -728,\n",
       " -727,\n",
       " -726,\n",
       " -725,\n",
       " -724,\n",
       " -723,\n",
       " -722,\n",
       " -721,\n",
       " -720,\n",
       " -719,\n",
       " -718,\n",
       " -717,\n",
       " -716,\n",
       " -715,\n",
       " -714,\n",
       " -713,\n",
       " -712,\n",
       " -711,\n",
       " -710,\n",
       " -709,\n",
       " -708,\n",
       " -707,\n",
       " -706,\n",
       " -705,\n",
       " -704,\n",
       " -703,\n",
       " -702,\n",
       " -701,\n",
       " -700,\n",
       " -699,\n",
       " -698,\n",
       " -697,\n",
       " -696,\n",
       " -695,\n",
       " -694,\n",
       " -693,\n",
       " -692,\n",
       " -691,\n",
       " -690,\n",
       " -689,\n",
       " -688,\n",
       " -687,\n",
       " -686,\n",
       " -685,\n",
       " -684,\n",
       " -683,\n",
       " -682,\n",
       " -681,\n",
       " -680,\n",
       " -679,\n",
       " -678,\n",
       " -677,\n",
       " -676,\n",
       " -675,\n",
       " -674,\n",
       " -673,\n",
       " -672,\n",
       " -671,\n",
       " -670,\n",
       " -669,\n",
       " -668,\n",
       " -667,\n",
       " -666,\n",
       " -665,\n",
       " -664,\n",
       " -663,\n",
       " -662,\n",
       " -661,\n",
       " -660,\n",
       " -659,\n",
       " -658,\n",
       " -657,\n",
       " -656,\n",
       " -655,\n",
       " -654,\n",
       " -653,\n",
       " -652,\n",
       " -651,\n",
       " -650,\n",
       " -649,\n",
       " -648,\n",
       " -647,\n",
       " -646,\n",
       " -645,\n",
       " -644,\n",
       " -643,\n",
       " -642,\n",
       " -641,\n",
       " -640,\n",
       " -639,\n",
       " -638,\n",
       " -637,\n",
       " -636,\n",
       " -635,\n",
       " -634,\n",
       " -633,\n",
       " -632,\n",
       " -631,\n",
       " -630,\n",
       " -629,\n",
       " -628,\n",
       " -627,\n",
       " -626,\n",
       " -625,\n",
       " -624,\n",
       " -623,\n",
       " -622,\n",
       " -621,\n",
       " -620,\n",
       " -619,\n",
       " -618,\n",
       " -617,\n",
       " -616,\n",
       " -615,\n",
       " -614,\n",
       " -613,\n",
       " -612,\n",
       " -611,\n",
       " -610,\n",
       " -609,\n",
       " -608,\n",
       " -607,\n",
       " -606,\n",
       " -605,\n",
       " -604,\n",
       " -603,\n",
       " -602,\n",
       " -601,\n",
       " -600,\n",
       " -599,\n",
       " -598,\n",
       " -597,\n",
       " -596,\n",
       " -595,\n",
       " -594,\n",
       " -593,\n",
       " -592,\n",
       " -591,\n",
       " -590,\n",
       " -589,\n",
       " -588,\n",
       " -587,\n",
       " -586,\n",
       " -585,\n",
       " -584,\n",
       " -583,\n",
       " -582,\n",
       " -581,\n",
       " -580,\n",
       " -579,\n",
       " -578,\n",
       " -577,\n",
       " -576,\n",
       " -575,\n",
       " -574,\n",
       " -573,\n",
       " -572,\n",
       " -571,\n",
       " -570,\n",
       " -569,\n",
       " -568,\n",
       " -567,\n",
       " -566,\n",
       " -565,\n",
       " -564,\n",
       " -563,\n",
       " -562,\n",
       " -561,\n",
       " -560,\n",
       " -559,\n",
       " -558,\n",
       " -557,\n",
       " -556,\n",
       " -555,\n",
       " -554,\n",
       " -553,\n",
       " -552,\n",
       " -551,\n",
       " -550,\n",
       " -549,\n",
       " -548,\n",
       " -547,\n",
       " -546,\n",
       " -545,\n",
       " -544,\n",
       " -543,\n",
       " -542,\n",
       " -541,\n",
       " -540,\n",
       " -539,\n",
       " -538,\n",
       " -537,\n",
       " -536,\n",
       " -535,\n",
       " -534,\n",
       " -533,\n",
       " -532,\n",
       " -531,\n",
       " -530,\n",
       " -529,\n",
       " -528,\n",
       " -527,\n",
       " -526,\n",
       " -525,\n",
       " -524,\n",
       " -523,\n",
       " -522,\n",
       " -521,\n",
       " -520,\n",
       " -519,\n",
       " -518,\n",
       " -517,\n",
       " -516,\n",
       " -515,\n",
       " -514,\n",
       " -513,\n",
       " -512,\n",
       " -511,\n",
       " -510,\n",
       " -509,\n",
       " -508,\n",
       " -507,\n",
       " -506,\n",
       " -505,\n",
       " -504,\n",
       " -503,\n",
       " -502,\n",
       " -501,\n",
       " -500,\n",
       " -499,\n",
       " -498,\n",
       " -497,\n",
       " -496,\n",
       " -495,\n",
       " -494,\n",
       " -493,\n",
       " -492,\n",
       " -491,\n",
       " -490,\n",
       " -489,\n",
       " -488,\n",
       " -487,\n",
       " -486,\n",
       " -485,\n",
       " -484,\n",
       " -483,\n",
       " -482,\n",
       " -481,\n",
       " -480,\n",
       " -479,\n",
       " -478,\n",
       " -477,\n",
       " -476,\n",
       " -475,\n",
       " -474,\n",
       " -473,\n",
       " -472,\n",
       " -471,\n",
       " -470,\n",
       " -469,\n",
       " -468,\n",
       " -467,\n",
       " -466,\n",
       " -465,\n",
       " -464,\n",
       " -463,\n",
       " -462,\n",
       " -461,\n",
       " -460,\n",
       " -459,\n",
       " -458,\n",
       " -457,\n",
       " -456,\n",
       " -455,\n",
       " -454,\n",
       " -453,\n",
       " -452,\n",
       " -451,\n",
       " -450,\n",
       " -449,\n",
       " -448,\n",
       " -447,\n",
       " -446,\n",
       " -445,\n",
       " -444,\n",
       " -443,\n",
       " -442,\n",
       " -441,\n",
       " -440,\n",
       " -439,\n",
       " -438,\n",
       " -437,\n",
       " -436,\n",
       " -435,\n",
       " -434,\n",
       " -433,\n",
       " -432,\n",
       " -431,\n",
       " -430,\n",
       " -429,\n",
       " -428,\n",
       " -427,\n",
       " -426,\n",
       " -425,\n",
       " -424,\n",
       " -423,\n",
       " -422,\n",
       " -421,\n",
       " -420,\n",
       " -419,\n",
       " -418,\n",
       " -417,\n",
       " -416,\n",
       " -415,\n",
       " -414,\n",
       " -413,\n",
       " -412,\n",
       " -411,\n",
       " -410,\n",
       " -409,\n",
       " -408,\n",
       " -407,\n",
       " -406,\n",
       " -405,\n",
       " -404,\n",
       " -403,\n",
       " -402,\n",
       " -401,\n",
       " -400,\n",
       " -399,\n",
       " -398,\n",
       " -397,\n",
       " -396,\n",
       " -395,\n",
       " -394,\n",
       " -393,\n",
       " -392,\n",
       " -391,\n",
       " -390,\n",
       " -389,\n",
       " -388,\n",
       " -387,\n",
       " -386,\n",
       " -385,\n",
       " -384,\n",
       " -383,\n",
       " -382,\n",
       " -381,\n",
       " -380,\n",
       " -379,\n",
       " -378,\n",
       " -377,\n",
       " -376,\n",
       " -375,\n",
       " -374,\n",
       " -373,\n",
       " -372,\n",
       " -371,\n",
       " -370,\n",
       " -369,\n",
       " -368,\n",
       " -367,\n",
       " -366,\n",
       " -365,\n",
       " -364,\n",
       " -363,\n",
       " -362,\n",
       " -361,\n",
       " -360,\n",
       " -359,\n",
       " -358,\n",
       " -357,\n",
       " -356,\n",
       " -355,\n",
       " -354,\n",
       " -353,\n",
       " -352,\n",
       " -351,\n",
       " -350,\n",
       " -349,\n",
       " -348,\n",
       " -347,\n",
       " -346,\n",
       " -345,\n",
       " -344,\n",
       " -343,\n",
       " -342,\n",
       " -341,\n",
       " -340,\n",
       " -339,\n",
       " -338,\n",
       " -337,\n",
       " -336,\n",
       " -335,\n",
       " -334,\n",
       " -333,\n",
       " -332,\n",
       " -331,\n",
       " -330,\n",
       " -329,\n",
       " -328,\n",
       " -327,\n",
       " -326,\n",
       " -325,\n",
       " -324,\n",
       " -323,\n",
       " -322,\n",
       " -321,\n",
       " -320,\n",
       " -319,\n",
       " -318,\n",
       " -317,\n",
       " -316,\n",
       " -315,\n",
       " -314,\n",
       " -313,\n",
       " -312,\n",
       " -311,\n",
       " -310,\n",
       " -309,\n",
       " -308,\n",
       " -307,\n",
       " -306,\n",
       " -305,\n",
       " -304,\n",
       " -303,\n",
       " -302,\n",
       " -301,\n",
       " -300,\n",
       " -299,\n",
       " -298,\n",
       " -297,\n",
       " -296,\n",
       " -295,\n",
       " -294,\n",
       " -293,\n",
       " -292,\n",
       " -291,\n",
       " -290,\n",
       " -289,\n",
       " -288,\n",
       " -287,\n",
       " -286,\n",
       " -285,\n",
       " -284,\n",
       " -283,\n",
       " -282,\n",
       " -281,\n",
       " -280,\n",
       " -279,\n",
       " -278,\n",
       " -277,\n",
       " -276,\n",
       " -275,\n",
       " -274,\n",
       " -273,\n",
       " -272,\n",
       " -271,\n",
       " -270,\n",
       " -269,\n",
       " -268,\n",
       " -267,\n",
       " -266,\n",
       " -265,\n",
       " -264,\n",
       " -263,\n",
       " -262,\n",
       " -261,\n",
       " -260,\n",
       " -259,\n",
       " -258,\n",
       " -257,\n",
       " -256,\n",
       " -255,\n",
       " -254,\n",
       " -253,\n",
       " -252,\n",
       " -251,\n",
       " -250,\n",
       " -249,\n",
       " -248,\n",
       " -247,\n",
       " -246,\n",
       " -245,\n",
       " -244,\n",
       " -243,\n",
       " -242,\n",
       " -241,\n",
       " -240,\n",
       " -239,\n",
       " -238,\n",
       " -237,\n",
       " -236,\n",
       " -235,\n",
       " -234,\n",
       " -233,\n",
       " -232,\n",
       " -231,\n",
       " -230,\n",
       " -229,\n",
       " -228,\n",
       " -227,\n",
       " -226,\n",
       " -225,\n",
       " -224,\n",
       " -223,\n",
       " -222,\n",
       " -221,\n",
       " -220,\n",
       " -219,\n",
       " -218,\n",
       " -217,\n",
       " -216,\n",
       " -215,\n",
       " -214,\n",
       " -213,\n",
       " -212,\n",
       " -211,\n",
       " -210,\n",
       " -209,\n",
       " -208,\n",
       " -207,\n",
       " -206,\n",
       " -205,\n",
       " -204,\n",
       " -203,\n",
       " -202,\n",
       " -201,\n",
       " -200,\n",
       " -199,\n",
       " -198,\n",
       " -197,\n",
       " -196,\n",
       " -195,\n",
       " -194,\n",
       " -193,\n",
       " -192,\n",
       " -191,\n",
       " -190,\n",
       " -189,\n",
       " -188,\n",
       " -187,\n",
       " -186,\n",
       " -185,\n",
       " -184,\n",
       " -183,\n",
       " -182,\n",
       " -181,\n",
       " -180,\n",
       " -179,\n",
       " -178,\n",
       " -177,\n",
       " -176,\n",
       " -175,\n",
       " -174,\n",
       " -173,\n",
       " -172,\n",
       " -171,\n",
       " -170,\n",
       " -169,\n",
       " -168,\n",
       " -167,\n",
       " -166,\n",
       " -165,\n",
       " -164,\n",
       " -163,\n",
       " -162,\n",
       " -161,\n",
       " -160,\n",
       " -159,\n",
       " -158,\n",
       " -157,\n",
       " -156,\n",
       " -155,\n",
       " -154,\n",
       " -153,\n",
       " -152,\n",
       " -151,\n",
       " -150,\n",
       " -149,\n",
       " -148,\n",
       " -147,\n",
       " -146,\n",
       " -145,\n",
       " -144,\n",
       " -143,\n",
       " -142,\n",
       " -141,\n",
       " -140,\n",
       " -139,\n",
       " -138,\n",
       " -137,\n",
       " -136,\n",
       " -135,\n",
       " -134,\n",
       " -133,\n",
       " -132,\n",
       " -131,\n",
       " -130,\n",
       " -129,\n",
       " -128,\n",
       " -127,\n",
       " -126,\n",
       " -125,\n",
       " -124,\n",
       " -123,\n",
       " -122,\n",
       " -121,\n",
       " -120,\n",
       " -119,\n",
       " -118,\n",
       " -117,\n",
       " -116,\n",
       " -115,\n",
       " -114,\n",
       " -113,\n",
       " -112,\n",
       " -111,\n",
       " -110,\n",
       " -109,\n",
       " -108,\n",
       " -107,\n",
       " -106,\n",
       " -105,\n",
       " -104,\n",
       " -103,\n",
       " -102,\n",
       " -101,\n",
       " -100,\n",
       " -99,\n",
       " -98,\n",
       " -97,\n",
       " -96,\n",
       " -95,\n",
       " -94,\n",
       " -93,\n",
       " -92,\n",
       " -91,\n",
       " -90,\n",
       " -89,\n",
       " -88,\n",
       " -87,\n",
       " -86,\n",
       " -85,\n",
       " -84,\n",
       " -83,\n",
       " -82,\n",
       " -81,\n",
       " -80,\n",
       " -79,\n",
       " -78,\n",
       " -77,\n",
       " -76,\n",
       " -75,\n",
       " -74,\n",
       " -73,\n",
       " -72,\n",
       " -71,\n",
       " -70,\n",
       " -69,\n",
       " -68,\n",
       " -67,\n",
       " -66,\n",
       " -65,\n",
       " -64,\n",
       " -63,\n",
       " -62,\n",
       " -61,\n",
       " -60,\n",
       " -59,\n",
       " -58,\n",
       " -57,\n",
       " -56,\n",
       " -55,\n",
       " -54,\n",
       " -53,\n",
       " -52,\n",
       " -51,\n",
       " -50,\n",
       " -49,\n",
       " -48,\n",
       " -47,\n",
       " -46,\n",
       " -45,\n",
       " -44,\n",
       " -43,\n",
       " -42,\n",
       " -41,\n",
       " -40,\n",
       " -39,\n",
       " -38,\n",
       " -37,\n",
       " -36,\n",
       " -35,\n",
       " -34,\n",
       " -33,\n",
       " -32,\n",
       " -31,\n",
       " -30,\n",
       " -29,\n",
       " -28,\n",
       " -27,\n",
       " -26,\n",
       " -25,\n",
       " -24,\n",
       " -23,\n",
       " -22,\n",
       " -21,\n",
       " -20,\n",
       " -19,\n",
       " -18,\n",
       " -17,\n",
       " -16,\n",
       " -15,\n",
       " -14,\n",
       " -13,\n",
       " -12,\n",
       " -11,\n",
       " -10,\n",
       " -9,\n",
       " -8,\n",
       " -7,\n",
       " -6,\n",
       " -5,\n",
       " -4,\n",
       " -3,\n",
       " -2,\n",
       " -1}"
      ]
     },
     "execution_count": 111,
     "metadata": {},
     "output_type": "execute_result"
    }
   ],
   "source": [
    "# Generamos números enteros\n",
    "set(range(-1000, 0, 1))"
   ]
  },
  {
   "cell_type": "markdown",
   "id": "1d734fcb",
   "metadata": {},
   "source": [
    "## Apéndice. List vs set"
   ]
  },
  {
   "cell_type": "code",
   "execution_count": 112,
   "id": "3b0217f0",
   "metadata": {},
   "outputs": [
    {
     "name": "stdout",
     "output_type": "stream",
     "text": [
      "Creando la lista...\n",
      "Lista creada\n",
      "Buscando un elemento\n",
      "False\n",
      "Duración de la operación:  1.2756094180003856\n"
     ]
    }
   ],
   "source": [
    "#Calculemos el tiempo que se tarda en buscar un elemento en una lista muy grande\n",
    "import timeit\n",
    "\n",
    "# Generamos la lista\n",
    "print('Creando la lista...')\n",
    "l = list(range(50000000))\n",
    "print('Lista creada')\n",
    "print('Buscando un elemento')\n",
    "\n",
    "start = timeit.default_timer()\n",
    "esta_en_l = -1 in l\n",
    "stop = timeit.default_timer()\n",
    "\n",
    "print(esta_en_l)\n",
    "print('Duración de la operación: ', stop - start)"
   ]
  },
  {
   "cell_type": "code",
   "execution_count": null,
   "id": "49dba0e0",
   "metadata": {},
   "outputs": [],
   "source": [
    "# Calculemos el tiempo que se tarda en buscar un elemento en un conjunto igual de grande\n",
    "# Generamos el conjunto\n",
    "# Generamos la lista\n",
    "print('Creando la lista...')\n",
    "s = set(range(50000000))\n",
    "print('Lista creada')\n",
    "print('Buscando un elemento')\n",
    "\n",
    "start = timeit.default_timer()\n",
    "esta_en_s = -1 in s\n",
    "stop = timeit.default_timer()\n",
    "\n",
    "print(esta_en_s)\n",
    "print('Duración de la operación: ', stop - start)"
   ]
  },
  {
   "cell_type": "code",
   "execution_count": null,
   "id": "075682e8",
   "metadata": {},
   "outputs": [],
   "source": [
    "# Probamos con un conjunto el doble de grande... si nos atrevemos\n",
    "# Generamos la lista\n"
   ]
  },
  {
   "cell_type": "code",
   "execution_count": null,
   "id": "6f12b74c",
   "metadata": {},
   "outputs": [],
   "source": [
    "# Generamos el conjunto\n"
   ]
  },
  {
   "cell_type": "markdown",
   "id": "be583849",
   "metadata": {},
   "source": [
    "## Ejercicios"
   ]
  },
  {
   "cell_type": "markdown",
   "id": "ddb3e747",
   "metadata": {},
   "source": [
    "### 1. Powersets\n",
    "\n",
    "El [powerset](https://en.wikipedia.org/wiki/Power_set) o conjunto de partes de un conjunto es otro conjunto que contiene todos los posibles subconjuntos. Por ejemplo, en el conjunto {'perro', 'gato', 'conejo'} tendremos los siguientes subconjuntos:\n",
    "\n",
    "{} \n",
    "{'perro'}\n",
    "{'perro', 'gato'}\n",
    "{'perro', 'gato', 'conejo'}\n",
    "{'perro', 'conejo'}\n",
    "{'gato'}\n",
    "{'gato', 'conejo'}\n",
    "{'conejo'}\n",
    "\n",
    "El conjunto vacío y el conjunto inicial forman siempre parte del powerset de un conjunto C. El cardinal del powerset es $2^n$, siendo n el número de elementos del conjunto.\n",
    "\n",
    "Vamos a implementar el powerset con Python.\n",
    "\n",
    "#### 1.1 Implementación iterativa\n",
    "\n",
    "Implementa una función para obtener el powerset de un conjunto dado de forma iterativa. También se puede hacer de forma recursiva, porque el powerset de {1, 2, 3} contiene al de {1, 2}."
   ]
  },
  {
   "cell_type": "code",
   "execution_count": null,
   "id": "d49f4ad2",
   "metadata": {},
   "outputs": [],
   "source": [
    "def powerset(A):\n",
    "    # TODO Define la funcion\n",
    "\n",
    "print(powerset({1,2,3}))\n",
    "print(powerset({'coche','bici','avion', 'moto'}))"
   ]
  },
  {
   "cell_type": "markdown",
   "id": "9483d8ef",
   "metadata": {},
   "source": [
    "#### 1.2 Implementación usando itertools\n",
    "\n",
    "Implementa una función para obtener el powerset de un conjunto dado usando la librería `itertools`. En este caso, podemos dejar el resultado como tuplas, en lugar de sets.\n",
    "\n",
    "https://docs.python.org/3/library/itertools.html"
   ]
  },
  {
   "cell_type": "code",
   "execution_count": null,
   "id": "fb6d86fc",
   "metadata": {},
   "outputs": [],
   "source": [
    "import itertools as it\n",
    "\n",
    "def powerset_it(A):\n",
    "    ## TODO Añade la funcion\n",
    "\n",
    "for elemento in powerset_it({1,2,3}):\n",
    "    print(elemento)"
   ]
  }
 ],
 "metadata": {
  "kernelspec": {
   "display_name": "Python 3",
   "language": "python",
   "name": "python3"
  },
  "language_info": {
   "codemirror_mode": {
    "name": "ipython",
    "version": 3
   },
   "file_extension": ".py",
   "mimetype": "text/x-python",
   "name": "python",
   "nbconvert_exporter": "python",
   "pygments_lexer": "ipython3",
   "version": "3.12.0"
  }
 },
 "nbformat": 4,
 "nbformat_minor": 5
}
