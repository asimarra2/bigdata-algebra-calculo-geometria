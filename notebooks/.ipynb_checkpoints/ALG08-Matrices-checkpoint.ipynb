{
 "cells": [
  {
   "cell_type": "markdown",
   "id": "57341052",
   "metadata": {},
   "source": [
    "<img src=\"images/keepcoding.png\" width=200 align=\"left\">"
   ]
  },
  {
   "cell_type": "markdown",
   "id": "c3419235",
   "metadata": {},
   "source": [
    "# Matrices\n",
    "\n",
    "Al oír hablar de matrices es posible que nos imaginemos una malla bidimensional. En efecto, una matriz es un conjunto bidimensional de números, ordenados en filas y columnas. Como ya hemos visto por encima, las matrices nos van a servir para almacenar conjuntos de datos y para resolver sistemas de ecuaciones.\n",
    "\n",
    "<img src=\"images/matrix.jpg\" width=400 align=\"center\">"
   ]
  },
  {
   "cell_type": "markdown",
   "id": "a7671b47",
   "metadata": {},
   "source": [
    "## 1. Definición y operaciones básicas\n",
    "\n",
    "Una matriz es un conjunto p-dimensional de números (elementos de la matriz) ordenados en filas (o renglones) y columnas. Si A es una matriz $m × n$, esto es, una matriz con $m$ filas y $n$ columnas, entonces la entrada escalar en la i-ésima y la j-ésima columna de $A$ se denota mediante $a_{ij}$ y se llama entrada $(i, j)$ de A.<br><br>\n",
    "\n",
    "<center>$\n",
    "  M=\n",
    "  \\left[ {\\begin{array}{cc}\n",
    "   a_{11} & a_{12}  & ... & a_{1j}  \\\\\n",
    "   a_{21} & a_{22}  & ... & a_{2j}  \\\\\n",
    "   ... & ...  & ... & ...  \\\\\n",
    "   a_{i1} & a_{i2}  & ... & a_{ij}  \\\\\n",
    "  \\end{array} } \\right]\n",
    "$</center><br><br>  \n",
    "\n",
    "Se dice que dos **matrices** son **iguales** si tienen el mismo tamaño, es decir, el mismo número de filas y de columnas, y sus columnas correspondientes son iguales.  \n",
    "\n",
    "En python, podemos usar listas o arrays de Numpy para almacenar matrices, muy parecido a como hacíamos para los vectores (no deja de ser un vector con una dimensión más). La opción del array es la más cómoda y la que más usaremos. "
   ]
  },
  {
   "cell_type": "markdown",
   "id": "e53ae10d",
   "metadata": {},
   "source": [
    "En numpy, vamos a usar la misma función que usábamos para los arrays, solo que ahora le añadimos una dimensión más (más adelante, le añadiremos más dimensiones aún!)"
   ]
  },
  {
   "cell_type": "code",
   "execution_count": 3,
   "id": "02f17381",
   "metadata": {},
   "outputs": [
    {
     "data": {
      "text/plain": [
       "array([[1, 2, 3],\n",
       "       [4, 5, 6],\n",
       "       [7, 8, 9]])"
      ]
     },
     "execution_count": 3,
     "metadata": {},
     "output_type": "execute_result"
    }
   ],
   "source": [
    "import numpy as np\n",
    "\n",
    "A = np.array([[1,2,3], [4,5,6]]])\n",
    "A"
   ]
  },
  {
   "cell_type": "markdown",
   "id": "d72db079",
   "metadata": {},
   "source": [
    "No es recomendable usar `len()` cuando tratamos con matrices porque solo nos va a devolver una de las dimensiones."
   ]
  },
  {
   "cell_type": "code",
   "execution_count": 5,
   "id": "eac9aee9",
   "metadata": {},
   "outputs": [
    {
     "name": "stdout",
     "output_type": "stream",
     "text": [
      "(3, 3)\n"
     ]
    }
   ],
   "source": [
    "print(len(A))\n",
    "print(A.shape)"
   ]
  },
  {
   "cell_type": "markdown",
   "id": "1f599229",
   "metadata": {},
   "source": [
    "### 1.1 Suma de matrices\n",
    "\n",
    "Si A y B son matrices m × n, entonces la **suma** A + B es la matriz m × n cuyas columnas son las sumas de las columnas correspondientes de A y B. Es decir, es una suma elemento a elemento. Además, la suma A + B está definida sólo cuando A y B son del mismo tamaño.  \n",
    "\n",
    "Para la resta se procede de modo similar, y podemos verlo como la suma de los elementos negativos de la segunda matriz.\n",
    "\n",
    "Las propiedades de la suma de matrices son:\n",
    "\n",
    "- Asociativa: (A + B) + C = A + (B + C)\n",
    "- Conmutativa: A + B = B + A\n",
    "- Elemento neutro: A + 0 = A, donde 0 es una matriz del mismo tamaño que A formada por ceros\n",
    "- Elemento inverso: A + -A = 0"
   ]
  },
  {
   "cell_type": "code",
   "execution_count": 10,
   "id": "0c6189b3",
   "metadata": {},
   "outputs": [
    {
     "data": {
      "text/plain": [
       "array([[ 0,  6],\n",
       "       [ 3, -2]])"
      ]
     },
     "execution_count": 10,
     "metadata": {},
     "output_type": "execute_result"
    }
   ],
   "source": [
    "M1 = np.array([[1,4], [2,0]])\n",
    "M2 = np.array([[-1,2], [1,-2]])\n",
    "M1+M2"
   ]
  },
  {
   "cell_type": "code",
   "execution_count": 9,
   "id": "11800acf",
   "metadata": {},
   "outputs": [
    {
     "data": {
      "text/plain": [
       "array([[2, 2],\n",
       "       [1, 2]])"
      ]
     },
     "execution_count": 9,
     "metadata": {},
     "output_type": "execute_result"
    }
   ],
   "source": [
    "M1-M2"
   ]
  },
  {
   "cell_type": "markdown",
   "id": "2c9961e4",
   "metadata": {},
   "source": [
    "### 1.2 Producto de una matriz por un escalar\n",
    "\n",
    "Si r es un escalar y A es una matriz, entonces el múltiplo escalar $r \\cdot A$ es la matriz cuyos elementos son los elementos de A multiplicados por r. El producto de una matriz y un escalar es:\n",
    "\n",
    "- Asociativo: rsA = r(sA)\n",
    "- Distributivo respecto a la suma de matrices: r(A+B) = rA + rB\n",
    "- Tiene elemento neutro: 1A = A"
   ]
  },
  {
   "cell_type": "code",
   "execution_count": 12,
   "id": "60816691",
   "metadata": {},
   "outputs": [
    {
     "name": "stdout",
     "output_type": "stream",
     "text": [
      "[[1 4]\n",
      " [2 0]]\n",
      "[[2 8]\n",
      " [4 0]]\n"
     ]
    }
   ],
   "source": [
    "print(M1)\n",
    "print(M1*2)"
   ]
  },
  {
   "cell_type": "markdown",
   "id": "c6dea07c",
   "metadata": {},
   "source": [
    "### 1.3 Producto de matrices\n",
    "\n",
    "Hasta ahora todo había sido bastante intuitivo, pero el producto de matrices se complica un poco. \n",
    "\n",
    "Si $A$ es una matriz $m × n$, y si $B$ es una matriz $n × p$ con columnas $b_1, b_2,... b_p$, entonces el **producto AB** es la matriz $m × p$ cuyas columnas son:<br><br>\n",
    "\n",
    "<center>A*B= $\n",
    "  \\left[ {\\begin{array}{cc}\n",
    "   a_{11} & a_{12}  & ... & a_{1n}  \\\\\n",
    "   a_{21} & a_{22}  & ... & a_{2n}  \\\\\n",
    "   ... & ...  & ... & ...  \\\\\n",
    "   a_{m1} & a_{m2}  & ... & a_{mn}  \\\\\n",
    "  \\end{array} } \\right]\n",
    "$ * $\n",
    "  \\left[ {\\begin{array}{cc}\n",
    "   b_{11} & b_{12}  & ... & b_{1p}  \\\\\n",
    "   b_{21} & b_{22}  & ... & b_{2p}  \\\\\n",
    "   ... & ...  & ... & ...  \\\\\n",
    "   b_{n1} & b_{n2}  & ... & b_{np}  \\\\\n",
    "  \\end{array} } \\right]\n",
    "$ =<br><br> $\n",
    "  \\left[ {\\begin{array}{cc}\n",
    "   a_{11}\\cdot b_{11}+ a_{12}\\cdot b_{21} + ... + a_{1n}\\cdot b_{n1}& a_{11}\\cdot b_{12}+ a_{12}\\cdot b_{22} + ... + a_{1n}\\cdot b_{n2}  & ... & a_{11}\\cdot b_{1p}+ a_{12}\\cdot b_{2p} + ... + a_{1n}\\cdot b_{np}  \\\\\n",
    "   a_{21}\\cdot b_{11}+ a_{22}\\cdot b_{21} + ... + a_{2n}\\cdot b_{n1}& a_{21}\\cdot b_{12}+ a_{22}\\cdot b_{22} + ... + a_{2n}\\cdot b_{n2}  & ... & a_{21}\\cdot b_{1p}+ a_{22}\\cdot b_{2p} + ... + a_{2n}\\cdot b_{np}  \\\\\n",
    "   ... & ...  & ... & ...  \\\\\n",
    "      a_{m1}\\cdot b_{11}+ a_{m2}\\cdot b_{21} + ... + a_{mn}\\cdot b_{n1}& a_{m1}\\cdot b_{12}+ a_{m2}\\cdot b_{22} + ... + a_{mn}\\cdot b_{n2}  & ... & a_{m1}\\cdot b_{1p}+ a_{m2}\\cdot b_{2p} + ... + a_{mn}\\cdot b_{np}  \\\\\n",
    "  \\end{array} } \\right]\n",
    "$  \n",
    "</center>\n",
    "\n",
    "La notación para las dimensiones no es casual, para poder multiplicar las matrices necesitamos que el número de columnas de la primera matriz sea igual al número de filas de la segunda. El producto de matrices cumple:\n",
    "\n",
    "- Asociatividad: A(BC) = (AB)C\n",
    "- Distributividad respecto de la suma de matrices por la derecha: (A+B)C = AC + BC\n",
    "- Distributividad respecto de la suma de matrices por la izquierda: C(A+B) = CA + CB\n",
    "\n",
    "¿Echamos en falta algo habitual? El producto de matrices **no es conmutativo**."
   ]
  },
  {
   "cell_type": "code",
   "execution_count": 13,
   "id": "4478bfe6",
   "metadata": {},
   "outputs": [
    {
     "name": "stdout",
     "output_type": "stream",
     "text": [
      "(2, 2)\n",
      "(2, 2)\n"
     ]
    }
   ],
   "source": [
    " A1 = np.array([ [1,4], [2,0] ])\n",
    " A2 = np.array([ [-1,2], [1,-2] ])\n",
    "\n",
    "print(A1.shape)\n",
    "print(A2.shape)"
   ]
  },
  {
   "cell_type": "code",
   "execution_count": 14,
   "id": "e99148f1",
   "metadata": {},
   "outputs": [
    {
     "data": {
      "text/plain": [
       "array([[-1,  8],\n",
       "       [ 2,  0]])"
      ]
     },
     "execution_count": 14,
     "metadata": {},
     "output_type": "execute_result"
    }
   ],
   "source": [
    "A1*A2 # ESTO ESTA MAL, esto solo esta multiplicando elemento por elemento y NO ES LO CORRECTO en matrices."
   ]
  },
  {
   "cell_type": "markdown",
   "id": "b9e23163",
   "metadata": {},
   "source": [
    "**Ojo**, este no es el producto matricial, sino una multiplicación elemento a elemento, que además solo va a funcionar si las matrices tienen el mismo tamaño. Para el producto de matrices _de verdad_, usamos `.dot`"
   ]
  },
  {
   "cell_type": "code",
   "execution_count": 15,
   "id": "108b2c91",
   "metadata": {},
   "outputs": [
    {
     "data": {
      "text/plain": [
       "array([[ 3, -6],\n",
       "       [-2,  4]])"
      ]
     },
     "execution_count": 15,
     "metadata": {},
     "output_type": "execute_result"
    }
   ],
   "source": [
    "np.dot(A1, A2)"
   ]
  },
  {
   "cell_type": "code",
   "execution_count": 16,
   "id": "7ab3f43a-cc99-4959-bf90-fb5f07766c16",
   "metadata": {},
   "outputs": [
    {
     "data": {
      "text/plain": [
       "array([[ 3, -4],\n",
       "       [-3,  4]])"
      ]
     },
     "execution_count": 16,
     "metadata": {},
     "output_type": "execute_result"
    }
   ],
   "source": [
    "np.dot(A2, A1) # NO ES conmmutativo"
   ]
  },
  {
   "cell_type": "markdown",
   "id": "4762d95e-f411-4b81-b4cf-dcc0c254e4c7",
   "metadata": {},
   "source": [
    "##### Se puede multiplicar una matriz con un vector. Y el resultado sera un **vector**.\n",
    "De hecho, esta practica sera muy utilizada por nosotros."
   ]
  },
  {
   "cell_type": "markdown",
   "id": "cd742d8e",
   "metadata": {},
   "source": [
    "Vemos que efectivamente el producto no es conmutativo. En general, a no ser que las matrices sean cuadradas (mismo número de filas que de columnas) tampoco va a ser posible multiplicar AB o BA indistintamente, sino solo una de ellas."
   ]
  },
  {
   "cell_type": "code",
   "execution_count": null,
   "id": "94f7e673",
   "metadata": {},
   "outputs": [],
   "source": []
  },
  {
   "cell_type": "code",
   "execution_count": null,
   "id": "62df5632",
   "metadata": {},
   "outputs": [],
   "source": []
  },
  {
   "cell_type": "code",
   "execution_count": null,
   "id": "2a24361c",
   "metadata": {},
   "outputs": [],
   "source": []
  },
  {
   "cell_type": "markdown",
   "id": "13a4d92d",
   "metadata": {},
   "source": [
    "## 2. Algunas matrices interesantes\n",
    "\n",
    "### 2.1 Matrices cuadradas\n",
    "\n",
    "Las matrices cuadradas son aquellas que tienen el mismo número de filas que de columnas.\n",
    "\n",
    "### 2.2 Matrices triangulares\n",
    "\n",
    "\n",
    "Una **matriz triangular** es una matriz cuadrada la cual tiene triángulos de ceros por encima o por debajo de la diagonal. En caso de que los valores ceros estén por encima de la diagonal se denomina **matriz triangular superior** y si es por debajo de la diagonal se denomina como **matriz triangular inferior**.<br><br>\n",
    "\n",
    "**Matriz triangular inferior**:\n",
    "\n",
    "<center>$\n",
    "  U_{nxm}=\n",
    "  \\left[ {\\begin{array}{cc}\n",
    "   1 & 4  & 6  \\\\\n",
    "   0 & 2  & 2  \\\\\n",
    "   0 & 0  & 1  \\\\\n",
    "  \\end{array} } \\right]\n",
    "$</center><br><br>\n",
    "\n",
    "**Matriz triangular superior**:\n",
    "\n",
    "<center>$\n",
    "  U_{nxm}=\n",
    "  \\left[ {\\begin{array}{cc}\n",
    "   1 & 0 & 0 \\\\\n",
    "   4 & 2  & 0\\\\\n",
    "   7 & 3  & 1  \\\\\n",
    "  \\end{array} } \\right]\n",
    "$</center><br><br>\n",
    "\n",
    "### 2.3 Matrices diagonales y la matriz identidad\n",
    "\n",
    "La diagonal principal de una matriz cuadrada es la que empieza en el elemento (1,1), por ejemplo:"
   ]
  },
  {
   "cell_type": "code",
   "execution_count": null,
   "id": "03bd9c58",
   "metadata": {},
   "outputs": [],
   "source": []
  },
  {
   "cell_type": "code",
   "execution_count": null,
   "id": "3c903c48",
   "metadata": {},
   "outputs": [],
   "source": []
  },
  {
   "cell_type": "markdown",
   "id": "f6c48340",
   "metadata": {},
   "source": [
    "La diagonal principal está formada por los elementos (1, 0, -3, 0.6, -1).\n",
    "\n",
    "Se llama **matriz diagonal** a una matriz que solo tiene elementos en su diagonal principal. Si estos elementos son unos, se trata de la **matriz identidad**."
   ]
  },
  {
   "cell_type": "code",
   "execution_count": null,
   "id": "21dc4e6f",
   "metadata": {},
   "outputs": [],
   "source": []
  },
  {
   "cell_type": "code",
   "execution_count": null,
   "id": "45b26b69",
   "metadata": {},
   "outputs": [],
   "source": []
  },
  {
   "cell_type": "code",
   "execution_count": null,
   "id": "76cf25d6",
   "metadata": {},
   "outputs": [],
   "source": []
  },
  {
   "cell_type": "code",
   "execution_count": null,
   "id": "9d9eeefa",
   "metadata": {},
   "outputs": [],
   "source": [
    "# Podemos multiplicar la identidad por un escalar\n"
   ]
  },
  {
   "cell_type": "markdown",
   "id": "7439f5a4",
   "metadata": {},
   "source": [
    "Aunque no es la matriz identidad y no cumple sus propiedades, podemos crear una matriz de cualquier tamaño que solo tenga 1s en los elementos de la diagonal."
   ]
  },
  {
   "cell_type": "code",
   "execution_count": null,
   "id": "9487b1a3",
   "metadata": {},
   "outputs": [],
   "source": []
  },
  {
   "cell_type": "code",
   "execution_count": null,
   "id": "3329dc95",
   "metadata": {},
   "outputs": [],
   "source": []
  },
  {
   "cell_type": "code",
   "execution_count": null,
   "id": "08895cd2",
   "metadata": {},
   "outputs": [],
   "source": []
  },
  {
   "cell_type": "markdown",
   "id": "edbd0d36",
   "metadata": {},
   "source": [
    "### 2.4 La matriz traspuesta\n",
    "\n",
    "La traspuesta de una matriz es el resultado de intercambiar filas por columnas. "
   ]
  },
  {
   "cell_type": "code",
   "execution_count": null,
   "id": "1db6b0c2",
   "metadata": {},
   "outputs": [],
   "source": []
  },
  {
   "cell_type": "code",
   "execution_count": null,
   "id": "3fef0e21",
   "metadata": {},
   "outputs": [],
   "source": []
  },
  {
   "cell_type": "code",
   "execution_count": null,
   "id": "8ab19069",
   "metadata": {},
   "outputs": [],
   "source": []
  },
  {
   "cell_type": "markdown",
   "id": "6331688c",
   "metadata": {},
   "source": [
    "### 2.5 Matriz simétrica\n",
    "\n",
    "Una **matriz cuadrada** va a ser **simétrica** si $A^T=A$, es decir si $A$ es igual a su propia matriz transpuesta."
   ]
  },
  {
   "cell_type": "code",
   "execution_count": null,
   "id": "9ef16272",
   "metadata": {},
   "outputs": [],
   "source": []
  },
  {
   "cell_type": "code",
   "execution_count": null,
   "id": "ffdd90b7",
   "metadata": {},
   "outputs": [],
   "source": []
  },
  {
   "cell_type": "markdown",
   "id": "69697909",
   "metadata": {},
   "source": [
    "### 2.6 La matriz inversa\n",
    "\n",
    "Este apartado solo aplica a **matrices cuadradas**, es decir, con el mismo número de filas que de columnas. La inversa de una matriz A se representa como $A^{-1}$ y es otra matriz tal que $A \\cdot A^{−1} = I$ donde I es la matriz identidad de la misma dimensión (es decir, mismo número de filas/columnas).\n",
    "\n",
    "No todas las matrices cuadradas tienen inversa, las que no tienen son las llamadas matrices singulares, y veremos más adelante algunas de sus características.\n",
    "\n",
    "Hay varias formas de calcular la inversa de una matriz, la más sencilla seguramente sea la de eliminación guassiana. El cálculo de una matriz inversa es un proceso un poco engorroso, pero por suerte podemos utilizar numpy."
   ]
  },
  {
   "cell_type": "code",
   "execution_count": null,
   "id": "aaa0b9e9",
   "metadata": {},
   "outputs": [],
   "source": []
  },
  {
   "cell_type": "code",
   "execution_count": null,
   "id": "fb9b8b9b",
   "metadata": {},
   "outputs": [],
   "source": []
  },
  {
   "cell_type": "markdown",
   "id": "087419ed",
   "metadata": {},
   "source": [
    "### 2.7 Ejemplo: matriz de adyacencia de un grafo"
   ]
  },
  {
   "cell_type": "markdown",
   "id": "3e8b9732",
   "metadata": {},
   "source": [
    "Imaginamos un grafo con N nodos o vértices, podemos representar todas las conexiones posibles entre esos nodos utilizando una matriz cuadrada de tamaño N por N. Cada fila y columna en la matriz corresponde a un nodo en particular. Esta es la llamada matriz de adyacencia de un grafo.\n",
    "\n",
    "Si es un grafo no dirigido, es decir, las conexiones entre nodos no tienen una dirección específica, la matriz de adyacencia será simétrica respecto a su diagonal principal. Los valores en la matriz representan si existe o no una conexión entre los nodos.\n",
    "\n",
    "**Ejercicio:** Escribe la matriz de adyacencia del siguiente grafo:\n",
    "\n",
    "<img src=\"images/grafo.png\" width=400 align=\"center\">"
   ]
  },
  {
   "cell_type": "code",
   "execution_count": null,
   "id": "38d85a3b",
   "metadata": {},
   "outputs": [],
   "source": [
    "import numpy as np\n",
    "\n",
    "# Creamos una matriz de ceros 4x4\n",
    "\n",
    "# Establecemos las conexiones en la matriz\n",
    "\n"
   ]
  },
  {
   "cell_type": "markdown",
   "id": "24ab6432",
   "metadata": {},
   "source": [
    "### 3 Factorización LU\n",
    "\n",
    "La factorización LU, llamada así por sus factores L (lower triangular) y U (upper triangular), es un método de descomposición de una matriz en el producto de dos matrices triangulares. Sea $A$ una matriz, entonces buscamos:  \n",
    " \n",
    "<center>$A = LU$</center>\n",
    "\n",
    "donde $L$ y $U$ son matrices inferiores y superiores triangulares respectivamente.  \n",
    "\n",
    "Si pensamos en una matriz cuadrada:<br><br>\n",
    "$\n",
    "  \\left[ {\\begin{array}{cc}\n",
    "   a_{11} & a_{12}  & ... & a_{1n}  \\\\\n",
    "   a_{21} & a_{22}  & ... & a_{2n}  \\\\\n",
    "   ... & ...  & ... & ...  \\\\\n",
    "   a_{n1} & a_{n2}  & ... & a_{nn}  \\\\\n",
    "  \\end{array} } \\right]\n",
    "$ =\n",
    "$\n",
    "  \\left[ {\\begin{array}{cc}\n",
    "   1      & 0       & 0    & ... & 0  \\\\\n",
    "   l_{21} & 1       & 0    & ... & 0  \\\\\n",
    "   ...    & ...     & ...  & ... & ... \\\\\n",
    "   l_{n1} & l_{n2}  & ...  & ... & 1  \\\\\n",
    "  \\end{array} } \\right]\n",
    "$* $\n",
    "  \\left[ {\\begin{array}{cc}\n",
    "   u_{11} & u_{12} & u_{13} & ... & u_{1n}  \\\\\n",
    "   0      & u_{22} & u_{23} & ... & b_{2n}  \\\\\n",
    "   ...    & ...    & ...    & ... & ...     \\\\\n",
    "   0      & 0      & ...    & ... & u_{nn}  \\\\\n",
    "  \\end{array} } \\right]\n",
    "$\n",
    "  \n",
    "Si la matriz A es invertible, es decir, tiene inversa, las matrices L y U son únicas.  \n",
    "\n",
    "El proceso de factorización LU se utiliza comúnmente en la resolución de sistemas de ecuaciones lineales, ya que facilita la resolución de sistemas de ecuaciones mediante la sustitución hacia adelante (forward substitution) y la sustitución hacia atrás (backward substitution).\n",
    "\n",
    "Para realizar la factorización LU, se utilizan operaciones de eliminación gaussiana para transformar la matriz original en las matrices L y U. Esto se hace aplicando operaciones elementales de fila para llevar la matriz original a una forma triangular. Las operaciones utilizadas para convertir A en U también se aplican a una matriz \n",
    "L inicialmente igual a la identidad, de tal manera que L guarda la información de las operaciones realizadas.\n",
    "\n",
    "La factorización LU tiene aplicaciones en la resolución de sistemas de ecuaciones lineales, cálculos de determinantes, inversión de matrices y en la resolución numérica de ecuaciones diferenciales, entre otros campos matemáticos y científicos. Al descomponer una matriz en dos matrices triangulares, se simplifica la resolución de sistemas de ecuaciones lineales y otros problemas algebraicos."
   ]
  },
  {
   "cell_type": "code",
   "execution_count": null,
   "id": "1eb577c8",
   "metadata": {},
   "outputs": [],
   "source": [
    "from scipy import linalg \n",
    "import numpy as np\n",
    "\n"
   ]
  },
  {
   "cell_type": "code",
   "execution_count": null,
   "id": "eab8fdd8",
   "metadata": {},
   "outputs": [],
   "source": []
  },
  {
   "cell_type": "code",
   "execution_count": null,
   "id": "3cbdc2e0",
   "metadata": {},
   "outputs": [],
   "source": []
  },
  {
   "cell_type": "markdown",
   "id": "e71c05c1-4277-4854-b06c-27c0338b1ea8",
   "metadata": {},
   "source": [
    "## 4 Determinantes\n",
    "\n",
    "El determinante $|A|$ de una matriz cuadrada  $A$ es un número que obtenemos a partir de los elementos de la matriz, y que nos dará una idea de cómo estos elementos se relacionan entre ellos.\n",
    "\n",
    "Con Numpy, podemos calcular el determinante fácilmente usando `linalg.det`."
   ]
  },
  {
   "cell_type": "code",
   "execution_count": null,
   "id": "14f32405-1041-4bd3-941a-cd424881dc92",
   "metadata": {},
   "outputs": [],
   "source": []
  },
  {
   "cell_type": "code",
   "execution_count": null,
   "id": "cc3ec4dd-9013-4291-bed8-34921d70d0f1",
   "metadata": {},
   "outputs": [],
   "source": []
  },
  {
   "cell_type": "markdown",
   "id": "5e85bbfe-fe5f-41e0-b3e5-28949d12c24b",
   "metadata": {},
   "source": [
    "### 4.1 Matrices inversas e invertibles\n",
    "\n",
    "Una **matriz** $A$ es **invertible** si y sólo si $|A|≠0$."
   ]
  },
  {
   "cell_type": "code",
   "execution_count": null,
   "id": "b50bea45-1cd2-44ca-b02e-2cac72361cde",
   "metadata": {},
   "outputs": [],
   "source": []
  }
 ],
 "metadata": {
  "kernelspec": {
   "display_name": "Python 3 (ipykernel)",
   "language": "python",
   "name": "python3"
  },
  "language_info": {
   "codemirror_mode": {
    "name": "ipython",
    "version": 3
   },
   "file_extension": ".py",
   "mimetype": "text/x-python",
   "name": "python",
   "nbconvert_exporter": "python",
   "pygments_lexer": "ipython3",
   "version": "3.12.0"
  }
 },
 "nbformat": 4,
 "nbformat_minor": 5
}
