{
 "cells": [
  {
   "cell_type": "markdown",
   "id": "619d0b4d",
   "metadata": {},
   "source": [
    "<img src=\"images/keepcoding.png\" width=200 align=\"left\">"
   ]
  },
  {
   "cell_type": "markdown",
   "id": "34308f8d",
   "metadata": {},
   "source": [
    "# Módulo de Álgebra: Conjuntos"
   ]
  },
  {
   "cell_type": "markdown",
   "id": "b636dba3",
   "metadata": {},
   "source": [
    "## 1. Definición y ejemplos\n",
    "\n",
    "Un conjunto es una colección de elementos. Se dice que un elemento (o miembro) pertenece al conjunto si está definido como incluido de algún modo dentro de él.\n",
    "\n",
    "Por ejemplo: \n",
    "\n",
    "- Los colores azul, verde y rojo\n",
    "- Los números naturales menores que 5\n",
    "- Los días de la semana\n",
    "- Todas las frases de El Quijote\n",
    "- Los dos conjuntos anteriores\n",
    "\n",
    "\n",
    "Los conjuntos pueden ser finitos o infinitos, y en caso de ser finitos tienen cardinal (número de elementos).\n",
    "\n",
    "\n",
    "<img src=\"images/PersonsSet.svg.png\" width=400 align=\"center\">\n",
    "\n",
    "El cardinal de este conjunto de personas es 8, y el orden no es relevante."
   ]
  },
  {
   "cell_type": "markdown",
   "id": "caf53f33",
   "metadata": {},
   "source": [
    "## 2 Representación de conjuntos y propiedades\n",
    "### 2.1 Representación matemática y con python\n",
    "\n",
    "En notación matemática, los representamos por llaves.\n",
    "\n",
    "$$\n",
    "A=\\{1,2,3\\}\n",
    "$$\n",
    "\n",
    "En [python](https://docs.python.org/3/library/stdtypes.html#set-types-set-frozenset), podemos usar esta misma notación:"
   ]
  },
  {
   "cell_type": "code",
   "execution_count": 3,
   "id": "c37716a1",
   "metadata": {},
   "outputs": [
    {
     "data": {
      "text/plain": [
       "{1, 2, 3}"
      ]
     },
     "execution_count": 3,
     "metadata": {},
     "output_type": "execute_result"
    }
   ],
   "source": [
    "# Definimos un conjunto (set) en python\n",
    "A = {1,2,3}\n",
    "A"
   ]
  },
  {
   "cell_type": "code",
   "execution_count": 4,
   "id": "73810b2c",
   "metadata": {},
   "outputs": [
    {
     "name": "stdout",
     "output_type": "stream",
     "text": [
      "3\n"
     ]
    }
   ],
   "source": [
    "# Podemos conocer su longitud\n",
    "print(len(A))"
   ]
  },
  {
   "cell_type": "markdown",
   "id": "f0e56a58",
   "metadata": {},
   "source": [
    "### 2.2 Algunas propiedades\n",
    "\n",
    "Los **duplicados** no se tienen en cuenta y el orden de los miembros no importa dentro del conjunto, los elementos (en cualquier orden) ya definen el conjunto."
   ]
  },
  {
   "cell_type": "code",
   "execution_count": 5,
   "id": "33f2a82a",
   "metadata": {},
   "outputs": [
    {
     "data": {
      "text/plain": [
       "{1, 2, 3, 5}"
      ]
     },
     "execution_count": 5,
     "metadata": {},
     "output_type": "execute_result"
    }
   ],
   "source": [
    "# ¿Qué pasa si hay duplicados?\n",
    "A = {1,2,3,5,3}\n",
    "A"
   ]
  },
  {
   "cell_type": "code",
   "execution_count": null,
   "id": "12c87890",
   "metadata": {},
   "outputs": [],
   "source": []
  },
  {
   "cell_type": "code",
   "execution_count": null,
   "id": "34949e1e",
   "metadata": {},
   "outputs": [],
   "source": [
    "# Comprobamos si A es igual a B\n"
   ]
  },
  {
   "cell_type": "code",
   "execution_count": null,
   "id": "0a5eb120-73f4-4702-9681-6491d5fcb9ed",
   "metadata": {},
   "outputs": [],
   "source": [
    "# Comprobamos si A es distinto de B\n",
    "\n",
    "\n",
    "# También podemos pasarle una operación matemática\n"
   ]
  },
  {
   "cell_type": "code",
   "execution_count": null,
   "id": "82b477dd",
   "metadata": {},
   "outputs": [],
   "source": [
    "# Podemos ver si un elemento pertenece o no a un conjunto\n"
   ]
  },
  {
   "cell_type": "code",
   "execution_count": null,
   "id": "b6ca2a93",
   "metadata": {},
   "outputs": [],
   "source": [
    "# Los elementos de los conjuntos no tienen que ser del mismo tipo\n"
   ]
  },
  {
   "cell_type": "markdown",
   "id": "d1e93cf2",
   "metadata": {},
   "source": [
    "Otra forma de construir un conjunto en python es usando el **constructor** set() (!!Siempre usando doble paréntesis).\n",
    "\n",
    "Es posible **añadir elementos** a un conjunto mediante add() o update(), dependiendo de si quieremos añadir un elemento o varios (un iterable). También es posible **quitar elementos** usando remove() o discard(), dependiendo de si queremos o no un error si el elemento no existe.\n",
    "\n",
    "Tenemos también la forma frozenset() del constructor, que crea un **conjunto que no puede ser modificado**. Esto es importante porque si no, no podríamos hacer conjuntos con objetos mutables como son las listas, diccionarios o los propios conjuntos."
   ]
  },
  {
   "cell_type": "code",
   "execution_count": null,
   "id": "faa06bdc",
   "metadata": {},
   "outputs": [],
   "source": [
    "# Otra forma de construir conjuntos, el constructor set\n"
   ]
  },
  {
   "cell_type": "code",
   "execution_count": null,
   "id": "1590eb28",
   "metadata": {},
   "outputs": [],
   "source": []
  },
  {
   "cell_type": "code",
   "execution_count": null,
   "id": "b5adab78",
   "metadata": {},
   "outputs": [],
   "source": [
    "# También podemos usar el constructor set() para crear un conjunto en python, y añadir un elemento después de crearlo\n"
   ]
  },
  {
   "cell_type": "code",
   "execution_count": null,
   "id": "a9799fbe",
   "metadata": {},
   "outputs": [],
   "source": [
    "# Este método sirve aunque creemos el conjunto sin el constructor\n"
   ]
  },
  {
   "cell_type": "code",
   "execution_count": null,
   "id": "fe619a76",
   "metadata": {},
   "outputs": [],
   "source": [
    "# Podemos añadir varios elementos \n",
    "\n",
    "# A se ha modificado"
   ]
  },
  {
   "cell_type": "code",
   "execution_count": null,
   "id": "9d8ee086",
   "metadata": {},
   "outputs": [],
   "source": [
    "# Quitar un elemento\n",
    "\n",
    "# Da error si no existe"
   ]
  },
  {
   "cell_type": "code",
   "execution_count": null,
   "id": "d7dac475",
   "metadata": {},
   "outputs": [],
   "source": [
    "# lo mismo pero sin lanzar error"
   ]
  },
  {
   "cell_type": "code",
   "execution_count": null,
   "id": "9851e3bb",
   "metadata": {},
   "outputs": [],
   "source": []
  },
  {
   "cell_type": "code",
   "execution_count": null,
   "id": "ef1d0efe",
   "metadata": {},
   "outputs": [],
   "source": [
    "# También podemos eliminar un elemento al azar \n"
   ]
  },
  {
   "cell_type": "code",
   "execution_count": null,
   "id": "02c49b79",
   "metadata": {},
   "outputs": [],
   "source": []
  },
  {
   "cell_type": "code",
   "execution_count": null,
   "id": "89e450ff",
   "metadata": {},
   "outputs": [],
   "source": []
  },
  {
   "cell_type": "code",
   "execution_count": null,
   "id": "e4f3b953",
   "metadata": {},
   "outputs": [],
   "source": [
    "# Podemos borrar todos los elementos\n"
   ]
  },
  {
   "cell_type": "code",
   "execution_count": null,
   "id": "5623df98",
   "metadata": {},
   "outputs": [],
   "source": [
    "# Creamos un frozenset\n"
   ]
  },
  {
   "cell_type": "code",
   "execution_count": null,
   "id": "d0230185",
   "metadata": {},
   "outputs": [],
   "source": [
    "# Intentamos añadir un elemento\n"
   ]
  },
  {
   "cell_type": "markdown",
   "id": "86f9d1ae",
   "metadata": {},
   "source": [
    "Para **recorrer los elementos** de un conjunto, podemos usar un bucle for:"
   ]
  },
  {
   "cell_type": "code",
   "execution_count": null,
   "id": "150cd1fe",
   "metadata": {},
   "outputs": [],
   "source": []
  },
  {
   "cell_type": "code",
   "execution_count": null,
   "id": "b3650123",
   "metadata": {},
   "outputs": [],
   "source": [
    "# No podemos indexar un set\n"
   ]
  },
  {
   "cell_type": "code",
   "execution_count": null,
   "id": "6da614cb",
   "metadata": {},
   "outputs": [],
   "source": [
    "# Tampoco podemos añadir una lista a un set\n"
   ]
  },
  {
   "cell_type": "code",
   "execution_count": null,
   "id": "38bdcf6c",
   "metadata": {},
   "outputs": [],
   "source": [
    "# Pero sí una tupla\n"
   ]
  },
  {
   "cell_type": "code",
   "execution_count": null,
   "id": "3852f19f",
   "metadata": {},
   "outputs": [],
   "source": [
    "# Intentamos acceder a un elemento, pero no están ordenados\n"
   ]
  },
  {
   "cell_type": "markdown",
   "id": "4b8087e1",
   "metadata": {},
   "source": [
    "El **conjunto vacío** se representa matemáticamente por $\\emptyset$ o simplemente $\\{\\}$.\n",
    "En python, no lo podemos definir con llaves y tenemos que usar el constructor."
   ]
  },
  {
   "cell_type": "code",
   "execution_count": null,
   "id": "fc8861e5",
   "metadata": {},
   "outputs": [],
   "source": [
    "# Si intentamos definir el conjunto vacío con llaves no obtendremos lo que buscamos\n"
   ]
  },
  {
   "cell_type": "code",
   "execution_count": null,
   "id": "3cdaf3d7",
   "metadata": {},
   "outputs": [],
   "source": [
    "# Sí que podemos usar el constructor\n"
   ]
  },
  {
   "cell_type": "markdown",
   "id": "53eabb9d",
   "metadata": {},
   "source": [
    "### 2.3 Conjuntos a partir de sus propiedades\n",
    "\n",
    "Una manera de definir los conjuntos es listando todos sus elementos explícitamente, como hemos hecho en el apartado anterior. Esta manera de mostrar los conjuntos se conoce como definición extensiva o notación extensiva. Sin embargo, también es posible definir sus elementos a través de una propiedad o característica que deben poseer todos ellos, es decir, una propiedad o característica que determina la pertenencia a dicho conjunto.\n",
    "\n",
    "Para ello, lo primero que debe hacerse es coger un conjunto bien definido, y tomar algunos de sus elementos en función de una propiedad o característica. Por ejemplo, en la imagen observamos un conjunto de polígonos que podríamos denotar por $P$ y podríamos definir otro conjunto que esté conformado por los elementos de $P$ que sean regulares.\n",
    "\n",
    "<img src=\"./images/polygon_set.png\">\n",
    "\n",
    "Este tipo de construcción de conjunto en la que, en lugar de indicar los elementos individualmente, se determinan sus elementos a través de una propiedad común, se denomina definición intensiva o por comprensión. Matemáticamente utilizan una notación un poco distinta a la que usábamos en la definición extensiva. Por ejemplo, si queremos definir un conjunto $C$ que englobe aquellas cartas de la baraja francesa cuyo palo sea de color rojo, el conjunto inicial que estamos eligiendo y del que tomaremos ciertos elementos es el conjunto de las cartas de la baraja francesa. Entonces escribiríamos matemática $C$ de la siguiente forma:\n",
    "$$\n",
    "C = \\{c : c\\text{ es una carta de la baraja francesa y su palo es rojo}\\}\n",
    "$$\n",
    "En este tipo de expresiones, los dos puntos (\":\") significan \"tal que\". En lugar de los dos puntos se utiliza también la barra vertical \"|\" u oblicua \"/\". En Python, cuando partimos de un conjunto inicial, podemos construir el conjunto $C$ de la misma forma que se definen las listas por comprensión:\n",
    "$$\n",
    "\\{\\text{expresión for elemento in conjunto}\\}\n",
    "$$\n",
    "De forma opcional se puede incluir un filtro para solo añadir al conjunto los elementos que cumplan una condición:\n",
    "$$\n",
    "\\{\\text{expresión for elemento in conjunto if condición}\\}\n",
    "$$\n"
   ]
  },
  {
   "cell_type": "code",
   "execution_count": 7,
   "id": "da74ff9f",
   "metadata": {},
   "outputs": [
    {
     "data": {
      "text/plain": [
       "True"
      ]
     },
     "execution_count": 7,
     "metadata": {},
     "output_type": "execute_result"
    }
   ],
   "source": [
    "Cartas = {(1, 'c'), (1, 'd'), (1, 'p'), (1, 't'), (2, 'c'), (2, 'd'), (2, 'p'), (2, 't'), (3, 'c'), (3, 'd'), (3, 'p'), \n",
    "          (3, 't'), (4, 'c'), (4, 'd'), (4, 'p'), (4, 't'), (5, 'c'), (5, 'd'), (5, 'p'), (5, 't'), (6, 'c'), (6, 'd'), \n",
    "          (6, 'p'), (6, 't'), (7, 'c'), (7, 'd'), (7, 'p'), (7, 't'), (8, 'c'), (8, 'd'), (8, 'p'), (8, 't'), (9, 'c'), \n",
    "          (9, 'd'), (9, 'p'), (9, 't'), (10, 'c'), (10, 'd'), (10, 'p'), (10, 't'), ('J', 'c'), ('J', 'd'), ('J', 'p'), \n",
    "          ('J', 't'), ('Q', 'c'), ('Q', 'd'), ('Q', 'p'), ('Q', 't'), ('K', 'c'), ('K', 'd'), ('K', 'p'), ('K', 't')}\n",
    "# Dado el conjunto \"Cartas\" con todas las cartas de la baraja francesa, definimos C con notación intensiva:\n",
    "# C es el conjunto de las cartas de la baraja francesa de color rojo\n",
    "C1 = { carta for carta in Cartas if carta[1] == 'c' or carta[1] == 'd' }\n",
    "C2 = { carta for carta in Cartas if carta[1] == 'd' or carta[1] == 'c'}\n",
    "\n",
    "C1 == C2"
   ]
  },
  {
   "cell_type": "code",
   "execution_count": 8,
   "id": "ff5c0300",
   "metadata": {},
   "outputs": [
    {
     "data": {
      "text/plain": [
       "True"
      ]
     },
     "execution_count": 8,
     "metadata": {},
     "output_type": "execute_result"
    }
   ],
   "source": [
    "# Definimos el conjunto de Cartas anterior por comprensión\n",
    "palos = (list(range(1, 11)) + ['J', 'Q', 'K']) * 4\n",
    "valores = ['c', 'd', 'p', 't'] * 13\n",
    "\n",
    "Cartas2 = { (p,v) for p,v in zip(palos, valores) }\n",
    "\n",
    "Cartas == Cartas2"
   ]
  },
  {
   "cell_type": "code",
   "execution_count": null,
   "id": "cd462ed9",
   "metadata": {},
   "outputs": [],
   "source": [
    "# El conjunto de los números pares entre 0 y 100"
   ]
  },
  {
   "cell_type": "code",
   "execution_count": null,
   "id": "9f326b9a",
   "metadata": {},
   "outputs": [],
   "source": [
    "numeros_pares = {num for num in range(0, 101) if num % 2 == 0}\n",
    "print(numeros_pares)\n",
    "print(type(numeros_pares))"
   ]
  },
  {
   "cell_type": "code",
   "execution_count": null,
   "id": "88468e88",
   "metadata": {},
   "outputs": [],
   "source": [
    "# EJERCICIO Lo mismo pero tomando sus cuadrados"
   ]
  },
  {
   "cell_type": "code",
   "execution_count": null,
   "id": "8e82dfb7",
   "metadata": {},
   "outputs": [],
   "source": [
    "# Las letras de la palabra conjunto\n",
    "{letra for letra in 'conjunto'}"
   ]
  },
  {
   "cell_type": "markdown",
   "id": "8529d5a6",
   "metadata": {},
   "source": [
    "## 2. Relaciones entre conjuntos\n",
    "\n",
    "### 2.1 Igualdad entre conjuntos\n",
    "\n",
    "Como ya hemos visto, dos conjuntos que tengan los mismos elementos son el mismo conjunto, y un conjunto no puede tener elementos repetidos"
   ]
  },
  {
   "cell_type": "code",
   "execution_count": null,
   "id": "8d1ced76",
   "metadata": {},
   "outputs": [],
   "source": [
    "# Vemos si los dos conjuntos del apartado anterior son iguales\n"
   ]
  },
  {
   "cell_type": "code",
   "execution_count": null,
   "id": "a42bb76f",
   "metadata": {},
   "outputs": [],
   "source": []
  },
  {
   "cell_type": "code",
   "execution_count": 10,
   "id": "c45e4bf5",
   "metadata": {},
   "outputs": [
    {
     "name": "stdout",
     "output_type": "stream",
     "text": [
      "False\n",
      "True\n",
      "False\n"
     ]
    }
   ],
   "source": [
    "# También podemos recorrer todos los elementos de dos conjuntos para ver si son iguales (EJERCICIO)\n",
    "def equals(A, B):\n",
    "    return A == B\n",
    "    \n",
    "A = {1, 2}\n",
    "B = {1, 2, 3}\n",
    "print(equals(A, B))\n",
    "print(equals({1,2}, A))\n",
    "print(equals(A, {3,2,1}))"
   ]
  },
  {
   "cell_type": "markdown",
   "id": "cdc9b0f3",
   "metadata": {},
   "source": [
    "### 2.2 Pertenencia y subconjuntos\n",
    "\n",
    "Puede ocurrir que un conjunto no contenga los mismos elementos que otro, pero que todos sus elementos sí están en otro. Por ejemplo, todos los elementos de $A=\\{1,2,3\\}$ se encuentran en el conjunto $E=\\{1,2,3,4\\}$, pero no al revés (por lo que no son iguales). Se dirá entonces que $A$ es un subconjunto de $E$. Por lo tanto, si se tienen dos conjuntos $C_1$ y $C_2$, diremos que $C_1$ es subconjunto de $C_2$ si cada elemento de $C_1$ es, a su vez, un elemento de $C_2$. También se dice que  $C_2$ es un superconjunto de $C_1$.\n",
    "\n",
    "Un subconjunto es también un conjunto, y por tanto cumple todas las propiedades asociadas a ser un conjunto.\n",
    "\n",
    "<img src=\"./images/Subset-2.svg.png\">\n",
    "\n",
    "Matemáticamente escribiremos $C_1 \\subseteq C_2$ o $C_2 \\supseteq C_1$ y diremos que $C_1$ está contenido en $C_2$ o que $C_2$ contiene a $C_1$. Python ofrece al menos dos posibilidades para verificar la relación de subconjunto:"
   ]
  },
  {
   "cell_type": "code",
   "execution_count": 15,
   "id": "caea6bc1",
   "metadata": {},
   "outputs": [
    {
     "name": "stdout",
     "output_type": "stream",
     "text": [
      "True\n",
      "True\n"
     ]
    }
   ],
   "source": [
    "# Comprobamos que A es subconjunto de B\n",
    "A = {1, 2}\n",
    "B = {1, 2, 3}\n",
    "\n",
    "print(A < B)\n",
    "print(A.issubset(B))"
   ]
  },
  {
   "cell_type": "code",
   "execution_count": 16,
   "id": "57983dad",
   "metadata": {},
   "outputs": [
    {
     "name": "stdout",
     "output_type": "stream",
     "text": [
      "True\n",
      "True\n"
     ]
    }
   ],
   "source": [
    "# Podemos comprobar que B es superconjunto de A\n",
    "A = {1, 2}\n",
    "B = {1, 2, 3}\n",
    "\n",
    "print(B>=A)\n",
    "print(B.issuperset(A))"
   ]
  },
  {
   "cell_type": "code",
   "execution_count": 18,
   "id": "f99a06fb",
   "metadata": {},
   "outputs": [
    {
     "name": "stdout",
     "output_type": "stream",
     "text": [
      "True\n",
      "False\n"
     ]
    }
   ],
   "source": [
    "# Además, ya habíamos visto que podemos comprobar facilmente si un elemento está en un conjunto\n",
    "A = {1, 2, 3}\n",
    "print(3 in A)\n",
    "print(6 in A)"
   ]
  },
  {
   "cell_type": "markdown",
   "id": "34f6b133",
   "metadata": {},
   "source": [
    "## 3. Operaciones entre conjuntos\n",
    "### 3.1 Unión\n",
    "Sean $C_1$ y $C_2$ dos conjuntos cualesquiera, entonces la unión de ellos, representado por $C_1\\cup C_2$ es el conjunto de todos los elementos que pertenecen a uno de los dos conjuntos.\n",
    "\n",
    "Matemáticamente, escribiremos la unión como: $C_1\\cup C_2 = \\{x:x\\in C_1\\lor x\\in C_2\\}$\n",
    "\n",
    "<img src=\"images/SetUnion.svg.png\" width=200 align=\"left\">  \n"
   ]
  },
  {
   "cell_type": "code",
   "execution_count": 20,
   "id": "5b9782a4",
   "metadata": {},
   "outputs": [
    {
     "name": "stdout",
     "output_type": "stream",
     "text": [
      "{1, 2, 3}\n",
      "{1, 2, 3}\n"
     ]
    }
   ],
   "source": [
    "A = {1, 2}\n",
    "B = {1, 2, 3}\n",
    "\n",
    "print(A | B)\n",
    "print(A.union(B))"
   ]
  },
  {
   "cell_type": "markdown",
   "id": "d728a10f",
   "metadata": {},
   "source": [
    "### 3.2 Intersección\n",
    "Sean $C_1$ y $C_2$ dos conjuntos cualesquiera, entonces la unión de ellos, representado por $C_1\\cup C_2$ es el conjunto de todos los elementos que pertenecen a los dos conjuntos.\n",
    "\n",
    "Matemáticamente, escribiremos la intersección como: $C_1\\cap C_2 = \\{x:x\\in C_1\\land x\\in C_2\\}$\n",
    "\n",
    "\n",
    "<img src=\"images/SetIntersection.svg.png\" width=200 align=\"left\">  \n",
    "<br>  "
   ]
  },
  {
   "cell_type": "code",
   "execution_count": 38,
   "id": "91af9b84",
   "metadata": {},
   "outputs": [
    {
     "name": "stdout",
     "output_type": "stream",
     "text": [
      "{1, 2}\n",
      "{1, 2}\n",
      "{1, 2, 4}\n",
      "{1, 2}\n",
      "None\n"
     ]
    }
   ],
   "source": [
    "A = {1, 2, 4}\n",
    "B = {1, 2, 3}\n",
    "\n",
    "\n",
    "print(A & B)\n",
    "print(A.intersection(B))\n",
    "print(A)\n",
    "C = A.intersection_update(B)\n",
    "print(A)\n",
    "print(C) # -- Modifica A"
   ]
  },
  {
   "cell_type": "code",
   "execution_count": null,
   "id": "456c0753",
   "metadata": {},
   "outputs": [],
   "source": [
    "# Hacemos la intersección y creamos un nuevo set\n"
   ]
  },
  {
   "cell_type": "code",
   "execution_count": null,
   "id": "5c09153d",
   "metadata": {},
   "outputs": [],
   "source": []
  },
  {
   "cell_type": "markdown",
   "id": "0c720d91",
   "metadata": {},
   "source": [
    "<div class=\"alert alert-success\">\n",
    "    <b>Propiedades de la unión y la intersección:</b> \n",
    "</div>"
   ]
  },
  {
   "cell_type": "markdown",
   "id": "6e9d549d",
   "metadata": {},
   "source": [
    "Sean A,B y C subconjuntos cualesquiera de un conjunto universal E, se tiene:  \n",
    "\n",
    "1. **Uniforme**  \n",
    "> Dados A y B, tanto A $\\cup$ B como A $\\cap$ B existen y son únicos\n",
    "2. **Conmutativas**  \n",
    "> A $\\cup$ B=B $\\cup$ A  \n",
    "> A $\\cap$ B=B $\\cap$ A \n",
    "3. **Asociativas**  \n",
    "> A $\\cup$ (B $\\cup$ C) = (A $\\cup$ B) $\\cup$ C  \n",
    "> A $\\cap$ (B $\\cap$ C) = (A $\\cap$ B) $\\cap$ C  \n",
    "4. **Idempotencia**  \n",
    "> A $\\cup$ A = A  \n",
    "> A $\\cap$ A = A  \n",
    "5. **Elemento neutro**  \n",
    "> A $\\cup$ $\\varnothing$ = A  \n",
    "> A $\\cap$ E = A  \n",
    "6. **Absorción**  \n",
    "> A $\\cup$ (A $\\cap$ B) = A  \n",
    "> A $\\cap$ (A $\\cup$ B) = A\n",
    "7. **Distributivas**  \n",
    "> A $\\cup$ (B $\\cap$ C) = (A $\\cup$ B) $\\cap$ (A $\\cup$ C)  \n",
    "> A $\\cap$ (B $\\cup$ C) = (A $\\cap$ B) $\\cup$ (A $\\cap$ C)  "
   ]
  },
  {
   "cell_type": "markdown",
   "id": "6cb0bd43",
   "metadata": {},
   "source": [
    "### 3.3 Resta\n",
    "Sean $C_1$ y $C_2$ dos conjuntos cualesquiera, entonces la diferencia de $C_1$ con $C_2$, representado por $C_1\\setminus C_2$ es el conjunto que resulta de eliminar de $C_1$ cualquier elemento que estén en $C_2$.\n",
    "\n",
    "Matemáticamente, se expresa así: $C_1\\setminus C_2 = \\{x:x\\in C_1\\land x\\notin C_2\\}$\n",
    "\n",
    "\n",
    "<img src=\"images/SetDifferenceA.svg.png\" width=200 align=\"left\">  \n",
    "<br>"
   ]
  },
  {
   "cell_type": "code",
   "execution_count": null,
   "id": "e57a20ef",
   "metadata": {},
   "outputs": [],
   "source": []
  },
  {
   "cell_type": "code",
   "execution_count": null,
   "id": "50965abe",
   "metadata": {},
   "outputs": [],
   "source": []
  },
  {
   "cell_type": "markdown",
   "id": "146e199e",
   "metadata": {},
   "source": [
    "!! A diferencia de la unión e intersección, en la resta sí que importa el orden (A - B o B - A)"
   ]
  },
  {
   "cell_type": "code",
   "execution_count": null,
   "id": "52abc9ea",
   "metadata": {},
   "outputs": [],
   "source": [
    "# También podemos usar difference()\n"
   ]
  },
  {
   "cell_type": "code",
   "execution_count": null,
   "id": "e67e8063",
   "metadata": {},
   "outputs": [],
   "source": []
  },
  {
   "cell_type": "markdown",
   "id": "12eb80d8",
   "metadata": {},
   "source": [
    "### 3.4 Complementario\n",
    "Si tomamos un conjunto $U$ como conjunto universal (asumimos que no hay más elementos que los que pertenecen a U), y sea $C_1$ un subconjuntos cualquiera de $U$, entonces el conjunto complementario de $C_1$, representado por $C_1^c$ o $\\overline{C_1}$ es el conjunto que de todos los elementos de $U$ que no pertenecen a $C_1$.\n",
    "\n",
    "Matemáticamente, escribiremos el complementario como: $\\overline{C_1} = \\{x:x\\in U\\land x\\notin C_1\\}$\n",
    "\n",
    "<img src=\"images/SetComplement.svg.png\" width=200 align=\"left\">  \n",
    "<br>"
   ]
  },
  {
   "cell_type": "code",
   "execution_count": null,
   "id": "3a00fa55",
   "metadata": {},
   "outputs": [],
   "source": [
    "# Podemos calcular el complementario usando la diferencia de conjuntos\n"
   ]
  },
  {
   "cell_type": "markdown",
   "id": "d1ce0866",
   "metadata": {},
   "source": [
    "### 3.5 Diferencia simétrica\n",
    "Sean $C_1$ y $C_2$ dos conjuntos cualesquiera, entonces la diferencia simétrica de $C_1$ con $C_2$, representado por $C_1\\triangle C_2$ es el conjunto de todos los elementos que pertenence o bien a $C_1$, o bien a $C_2$, pero no a ambos.\n",
    "\n",
    "Matemáticamente, escribiremos la diferencia simétrica como: $C_1\\triangle C_2 = \\{x:x\\in C_1\\setminus C_2\\lor x\\in C_2\\setminus C_1\\} = (C_1\\cup C_2)\\setminus(C_1\\cap C_2)$\n",
    "\n",
    "<img src=\"./images/SetSymmetricDifference.svg.png\" width=200 align=\"left\">"
   ]
  },
  {
   "cell_type": "code",
   "execution_count": null,
   "id": "1e72af20",
   "metadata": {},
   "outputs": [],
   "source": []
  },
  {
   "cell_type": "code",
   "execution_count": null,
   "id": "f2085e5b",
   "metadata": {},
   "outputs": [],
   "source": []
  },
  {
   "cell_type": "code",
   "execution_count": null,
   "id": "aa0a242b",
   "metadata": {},
   "outputs": [],
   "source": []
  },
  {
   "cell_type": "code",
   "execution_count": null,
   "id": "4e54c7e6",
   "metadata": {},
   "outputs": [],
   "source": []
  },
  {
   "cell_type": "markdown",
   "id": "797752dd",
   "metadata": {},
   "source": [
    "### 3.6 Producto cartesiano\n",
    "\n",
    "Sean $C_1$ y $C_2$ dos conjuntos cualesquiera, entonces el producto cartesiano de $C_1$ con $C_2$, representado por $C_1\\times C_2$ es el conjunto de todos los pares ordenados (tuplas) posibles que se pueden formar con un elemento que pertenence a $C_1$ y el segundo perteneciente a $C_2$. Matemáticamente, escribiremos el producto cartesiano como:\n",
    "$$\n",
    "C_1\\times C_2 = \\{(x,y):x\\in C_1\\land y\\in C_2\\}\n",
    "$$\n",
    "Como puede observarse, el producto cartesiano no es conmutativo. Veamos un ejemplo:\n",
    "$$\n",
    "\\{1,a,0\\}\\times\\{2,b\\}=\\{(1,2), (1,b), (a,2), (a,b), (0, 2), (0,b)\\}\n",
    "$$\n",
    "En Python podemos calcular el producto cartesiano de la siguiente forma:"
   ]
  },
  {
   "cell_type": "code",
   "execution_count": null,
   "id": "bfba55a8",
   "metadata": {},
   "outputs": [],
   "source": [
    "# Usamos la función product\n"
   ]
  },
  {
   "cell_type": "code",
   "execution_count": null,
   "id": "efe4f411",
   "metadata": {},
   "outputs": [],
   "source": [
    "#También podemos construirlo por comprensión\n"
   ]
  },
  {
   "cell_type": "markdown",
   "id": "9abc2e63",
   "metadata": {},
   "source": [
    "Tenemos que tener cuidado con el producto cartesiano para grandes conjuntos, puesto que puede resultar en un conjunto enorme (como pasa con el CROSS JOIN en SQL)"
   ]
  },
  {
   "cell_type": "markdown",
   "id": "142692d2",
   "metadata": {},
   "source": [
    "## 4. Diagramas de Venn\n",
    "\n",
    "Son herramientas o esquemas para representar conjuntos de forma gráfica, como lo hemos hecho en el apartado anterior. Las regiones encerradas por las líneas cerradas representan los conjuntos, y sus posiciones relativas nos ayudan a visualizar sus propiedades."
   ]
  },
  {
   "cell_type": "code",
   "execution_count": 1,
   "id": "49282ef0",
   "metadata": {},
   "outputs": [
    {
     "name": "stdout",
     "output_type": "stream",
     "text": [
      "Collecting matplotlib_venn\n",
      "  Obtaining dependency information for matplotlib_venn from https://files.pythonhosted.org/packages/b1/f4/12ea88962cd17acb58bfcce1b93ce256f591698f9adb247de3eea630f590/matplotlib_venn-0.11.10-py3-none-any.whl.metadata\n",
      "  Using cached matplotlib_venn-0.11.10-py3-none-any.whl.metadata (6.4 kB)\n",
      "Requirement already satisfied: matplotlib in c:\\python312\\lib\\site-packages (from matplotlib_venn) (3.9.0)\n",
      "Requirement already satisfied: numpy in c:\\python312\\lib\\site-packages (from matplotlib_venn) (2.0.0)\n",
      "Requirement already satisfied: scipy in c:\\python312\\lib\\site-packages (from matplotlib_venn) (1.14.0)\n",
      "Requirement already satisfied: contourpy>=1.0.1 in c:\\python312\\lib\\site-packages (from matplotlib->matplotlib_venn) (1.2.1)\n",
      "Requirement already satisfied: cycler>=0.10 in c:\\python312\\lib\\site-packages (from matplotlib->matplotlib_venn) (0.12.1)\n",
      "Requirement already satisfied: fonttools>=4.22.0 in c:\\python312\\lib\\site-packages (from matplotlib->matplotlib_venn) (4.53.0)\n",
      "Requirement already satisfied: kiwisolver>=1.3.1 in c:\\python312\\lib\\site-packages (from matplotlib->matplotlib_venn) (1.4.5)\n",
      "Requirement already satisfied: packaging>=20.0 in c:\\python312\\lib\\site-packages (from matplotlib->matplotlib_venn) (24.1)\n",
      "Requirement already satisfied: pillow>=8 in c:\\python312\\lib\\site-packages (from matplotlib->matplotlib_venn) (10.3.0)\n",
      "Requirement already satisfied: pyparsing>=2.3.1 in c:\\python312\\lib\\site-packages (from matplotlib->matplotlib_venn) (3.1.2)\n",
      "Requirement already satisfied: python-dateutil>=2.7 in c:\\python312\\lib\\site-packages (from matplotlib->matplotlib_venn) (2.9.0.post0)\n",
      "Requirement already satisfied: six>=1.5 in c:\\python312\\lib\\site-packages (from python-dateutil>=2.7->matplotlib->matplotlib_venn) (1.16.0)\n",
      "Using cached matplotlib_venn-0.11.10-py3-none-any.whl (33 kB)\n",
      "Installing collected packages: matplotlib_venn\n",
      "Successfully installed matplotlib_venn-0.11.10\n"
     ]
    },
    {
     "name": "stderr",
     "output_type": "stream",
     "text": [
      "\n",
      "[notice] A new release of pip is available: 23.2.1 -> 24.1\n",
      "[notice] To update, run: python.exe -m pip install --upgrade pip\n"
     ]
    }
   ],
   "source": [
    "!pip install matplotlib_venn"
   ]
  },
  {
   "cell_type": "code",
   "execution_count": 2,
   "id": "805b5dbe",
   "metadata": {},
   "outputs": [
    {
     "data": {
      "text/plain": [
       "<matplotlib_venn._common.VennDiagram at 0x139b1d57110>"
      ]
     },
     "execution_count": 2,
     "metadata": {},
     "output_type": "execute_result"
    },
    {
     "data": {
      "image/png": "[encoded data removed]",
      "text/plain": [
       "<Figure size 640x480 with 1 Axes>"
      ]
     },
     "metadata": {},
     "output_type": "display_data"
    }
   ],
   "source": [
    "import matplotlib.pyplot as plt\n",
    "from matplotlib_venn import venn2\n",
    "\n",
    "venn2([set(('a', 'e', 'i', 'y')), set(('i', 'o', 'u'))])"
   ]
  },
  {
   "cell_type": "markdown",
   "id": "56936bb9",
   "metadata": {},
   "source": [
    "Podemos usar los diagramas de Venn para visualizar algunas de las propiedades de la unión y la interesección que hemos visto, por ejemplo:\n",
    "\n",
    "A $\\cup$ (A $\\cap$ B) = A  "
   ]
  },
  {
   "cell_type": "code",
   "execution_count": 3,
   "id": "1732f3e1",
   "metadata": {},
   "outputs": [
    {
     "name": "stdout",
     "output_type": "stream",
     "text": [
      "A: {1, 2, 3, 4, 5}\n",
      "B: {3, 5}\n",
      "A int B: {3, 5}\n"
     ]
    }
   ],
   "source": [
    "A = {1, 2, 3, 4, 5}\n",
    "B = {3, 5}\n",
    "C = A & B\n",
    "print('A: '+ str(A))\n",
    "print('B: '+ str(B))\n",
    "print('A int B: ' + str(C))"
   ]
  },
  {
   "cell_type": "code",
   "execution_count": 4,
   "id": "4ea05f3e",
   "metadata": {},
   "outputs": [
    {
     "data": {
      "text/plain": [
       "<matplotlib_venn._common.VennDiagram at 0x139c24b16d0>"
      ]
     },
     "execution_count": 4,
     "metadata": {},
     "output_type": "execute_result"
    },
    {
     "data": {
      "image/png": "[encoded data removed]",
      "text/plain": [
       "<Figure size 640x480 with 1 Axes>"
      ]
     },
     "metadata": {},
     "output_type": "display_data"
    }
   ],
   "source": [
    "from matplotlib_venn import venn3\n",
    "venn3([A, B, C], set_labels = ('A', 'B', 'A int B'))"
   ]
  },
  {
   "cell_type": "markdown",
   "id": "6a80036a",
   "metadata": {},
   "source": [
    "La intersección entre A y B siempre va a estar contenida en A (por definición), por lo que haciendo la unión con A siempre nos va a quedar el propio A."
   ]
  },
  {
   "cell_type": "markdown",
   "id": "1e61ee1e",
   "metadata": {},
   "source": [
    "## 5. Ejemplos de conjuntos matemáticos\n",
    "Además de los ejemplos de este notebook y todos los conjuntos que podemos diseñar a partir de nuestro entorno, en matemáticas se han definido unos conjuntos que pueden ayudarnos a la hora de realizar operaciones y enfrentarnos a los problemas matemáticos. Estos conjuntos son:\n",
    "\n",
    "- Los **números naturales** ($\\mathbb{N}$): es el conjunto que posee todos los posibles valores de cardinalidad que podemos obtener. De esta forma se tiene que:\n",
    "$$\\mathbb{N}=\\{0,1,2,3,4,\\dots\\}$$\n",
    "- Los **número enteros** ($\\mathbb{Z}$): es el conjunto que contiene los números naturales y sus opuestos. Por lo tanto se tendrá que $\\mathbb{N}\\subset\\mathbb{Z}$. Surgen a partir de la necesidad de resolver la operación $m - n$ donde $m,n\\in\\mathbb{N}$ y $m<n$. De esta forma se tendrá que: \n",
    "$$\\mathbb{Z}=\\{\\dots, -4,-3,-2,-1,0,1,2,3,4,\\dots\\}=\\{-n:n\\in\\mathbb{N}^+\\}\\cup\\{0\\}\\cup\\mathbb{N}^+$$\n",
    "- Los **números racionales** ($\\mathbb{Q}$): es el conjunto de todos los números que pueden escribirse como $z/n$ donde $z\\in\\mathbb{Z}$ y $n\\in\\mathbb{N}^+$. Si se establece una relación de equivalencia adecuada, se afirmará que $\\mathbb{Z}\\subset\\mathbb{Q}$. Así se tiene que:\n",
    "$$\\mathbb{Q}=\\left\\{\\frac{z}{n}:z\\in\\mathbb{Z}\\land n\\in\\mathbb{N}^+\\right\\}$$\n",
    "- Los **números reales** ($\\mathbb{R}$): constituidos por todos los números racionales y aquellos números decimales que no pueden representarse mediante una fracción (como es el caso de $\\pi$). Por lo tanto $\\mathbb{Q}\\subset\\mathbb{R}$.\n",
    "\n",
    "Existen también los números complejos, pero no los vamos a ver en este módulo.\n",
    "\n",
    "Todos estos conjuntos son infinitos, por lo que no podremos implementarlos en Python (por cuestión de que el ordenador dispone de una memoria finita así como no disponemos de un tiempo infinito para generar dichos conjuntos). Sin embargo, podemos obtener subconjuntos bastante grandes de estos conjuntos:"
   ]
  },
  {
   "cell_type": "code",
   "execution_count": 5,
   "id": "beba04bd-f3e7-40cc-ac1b-3424f987d0fc",
   "metadata": {},
   "outputs": [
    {
     "name": "stdout",
     "output_type": "stream",
     "text": [
      "Requirement already satisfied: numpy in c:\\python312\\lib\\site-packages (2.0.0)\n"
     ]
    },
    {
     "name": "stderr",
     "output_type": "stream",
     "text": [
      "\n",
      "[notice] A new release of pip is available: 23.2.1 -> 24.1\n",
      "[notice] To update, run: python.exe -m pip install --upgrade pip\n"
     ]
    }
   ],
   "source": [
    "!pip install numpy"
   ]
  },
  {
   "cell_type": "code",
   "execution_count": 8,
   "id": "1efa848f",
   "metadata": {},
   "outputs": [
    {
     "data": {
      "text/plain": [
       "{np.float64(1.0),\n",
       " np.float64(1.0056800056800057),\n",
       " np.float64(1.0113600113600114),\n",
       " np.float64(1.0113710113710113),\n",
       " np.float64(1.0227200227200228),\n",
       " np.float64(1.0227310227310227),\n",
       " np.float64(1.0454510454510455),\n",
       " np.float64(1.0454620454620454),\n",
       " np.float64(1.090902090902091),\n",
       " np.float64(1.0909130909130909),\n",
       " np.float64(1.1818261818261817),\n",
       " np.float64(1.5454565454565454),\n",
       " np.float64(1.3636303636303637),\n",
       " np.float64(1.4545434545434546),\n",
       " np.float64(1.6363696363696363),\n",
       " np.float64(2.0),\n",
       " np.float64(1.07002207002207),\n",
       " np.float64(1.5945875945875945),\n",
       " np.float64(1.049131049131049),\n",
       " np.float64(1.6855006855006853),\n",
       " np.float64(1.7763917763917765),\n",
       " np.float64(1.7764137764137762),\n",
       " np.float64(1.8673048673048673),\n",
       " np.float64(1.9582179582179582),\n",
       " np.float64(1.0282400282400281),\n",
       " np.float64(1.300957300957301),\n",
       " np.float64(1.9373269373269373),\n",
       " np.float64(1.1891531891531892),\n",
       " np.float64(1.28006628006628),\n",
       " np.float64(1.6437186437186435),\n",
       " np.float64(1.7346097346097347),\n",
       " np.float64(1.8255228255228255),\n",
       " np.float64(1.9164359164359164),\n",
       " np.float64(1.1682621682621683),\n",
       " np.float64(1.2591752591752592),\n",
       " np.float64(1.8955448955448955),\n",
       " np.float64(1.9864579864579863),\n",
       " np.float64(1.2382842382842383),\n",
       " np.float64(1.6928276928276929),\n",
       " np.float64(1.7837407837407837),\n",
       " np.float64(1.8746538746538746),\n",
       " np.float64(1.9655669655669654),\n",
       " np.float64(1.0355670355670357),\n",
       " np.float64(1.2173932173932174),\n",
       " np.float64(1.3083063083063082),\n",
       " np.float64(1.7628497628497628),\n",
       " np.float64(1.8537628537628537),\n",
       " np.float64(1.9838859838859837),\n",
       " np.float64(1.1965021965021965),\n",
       " np.float64(1.2874152874152873),\n",
       " np.float64(1.651045651045651),\n",
       " np.float64(1.741958741958742),\n",
       " np.float64(1.8328718328718328),\n",
       " np.float64(1.9237849237849236),\n",
       " np.float64(1.1756111756111756),\n",
       " np.float64(1.2665242665242664),\n",
       " np.float64(1.6301546301546301),\n",
       " np.float64(1.721067721067721),\n",
       " np.float64(1.0638070638070638),\n",
       " np.float64(1.2456332456332455),\n",
       " np.float64(1.7001767001767),\n",
       " np.float64(1.791089791089791),\n",
       " np.float64(1.8820028820028818),\n",
       " np.float64(1.972893972893973),\n",
       " np.float64(1.042916042916043),\n",
       " np.float64(1.6792856792856792),\n",
       " np.float64(1.8600108600108598),\n",
       " np.float64(1.022025022025022),\n",
       " np.float64(1.2947422947422949),\n",
       " np.float64(1.6583946583946583),\n",
       " np.float64(1.7493077493077491),\n",
       " np.float64(1.8401988401988403),\n",
       " np.float64(1.84022084022084),\n",
       " np.float64(1.9311119311119311),\n",
       " np.float64(1.001134001134001),\n",
       " np.float64(1.071156071156071),\n",
       " np.float64(1.252960252960253),\n",
       " np.float64(1.7075257075257073),\n",
       " np.float64(1.7984167984167985),\n",
       " np.float64(1.8893298893298893),\n",
       " np.float64(1.9802429802429802),\n",
       " np.float64(1.2320692320692321),\n",
       " np.float64(1.9593519593519593),\n",
       " np.float64(1.2111782111782112),\n",
       " np.float64(1.302091302091302),\n",
       " np.float64(1.6657216657216658),\n",
       " np.float64(1.7566347566347567),\n",
       " np.float64(1.8475478475478475),\n",
       " np.float64(1.9384609384609384),\n",
       " np.float64(1.9603209603209604),\n",
       " np.float64(1.9215129215129214),\n",
       " np.float64(1.1902871902871903),\n",
       " np.float64(1.2812002812002812),\n",
       " np.float64(1.8266568266568266),\n",
       " np.float64(1.8827048827048825),\n",
       " np.float64(1.9175699175699175),\n",
       " np.float64(1.0784830784830786),\n",
       " np.float64(1.1693961693961694),\n",
       " np.float64(1.2603092603092603),\n",
       " np.float64(1.7148527148527148),\n",
       " np.float64(1.8057658057658057),\n",
       " np.float64(1.8966788966788966),\n",
       " np.float64(1.9875919875919874),\n",
       " np.float64(1.693961693961694),\n",
       " np.float64(1.7848747848747848),\n",
       " np.float64(1.0367010367010367),\n",
       " np.float64(1.2185272185272185),\n",
       " np.float64(1.3094403094403093),\n",
       " np.float64(1.673070673070673),\n",
       " np.float64(1.7639837639837639),\n",
       " np.float64(1.8548968548968547),\n",
       " np.float64(1.9458099458099456),\n",
       " np.float64(1.7976377976377975),\n",
       " np.float64(1.1976361976361976),\n",
       " np.float64(1.6521796521796521),\n",
       " np.float64(1.743092743092743),\n",
       " np.float64(1.1767451767451766),\n",
       " np.float64(1.2676582676582675),\n",
       " np.float64(1.6312886312886312),\n",
       " np.float64(1.722201722201722),\n",
       " np.float64(1.813114813114813),\n",
       " np.float64(1.904005904005904),\n",
       " np.float64(1.9040279040279038),\n",
       " np.float64(1.994918994918995),\n",
       " np.float64(1.0649410649410649),\n",
       " np.float64(1.044050044050044),\n",
       " np.float64(1.6804196804196803),\n",
       " np.float64(1.7713327713327711),\n",
       " np.float64(1.8622238622238623),\n",
       " np.float64(1.9531369531369531),\n",
       " np.float64(1.023159023159023),\n",
       " np.float64(1.0022680022680022),\n",
       " np.float64(1.1840721840721842),\n",
       " np.float64(1.274985274985275),\n",
       " np.float64(1.6386376386376384),\n",
       " np.float64(1.7295287295287296),\n",
       " np.float64(1.8204418204418205),\n",
       " np.float64(1.9113549113549113),\n",
       " np.float64(1.2540942540942541),\n",
       " np.float64(1.8904638904638904),\n",
       " np.float64(1.9813769813769813),\n",
       " np.float64(1.9669009669009667),\n",
       " np.float64(1.5968555968555966),\n",
       " np.float64(1.596833596833597),\n",
       " np.float64(1.2332032332032332),\n",
       " np.float64(1.6877466877466878),\n",
       " np.float64(1.7786597786597786),\n",
       " np.float64(1.8695728695728695),\n",
       " np.float64(1.9474969474969472),\n",
       " np.float64(1.9604859604859604),\n",
       " np.float64(1.2123122123122123),\n",
       " np.float64(1.3032253032253032),\n",
       " np.float64(1.7577687577687577),\n",
       " np.float64(1.8486818486818486),\n",
       " np.float64(1.7352647352647352),\n",
       " np.float64(1.1914211914211914),\n",
       " np.float64(1.2823342823342823),\n",
       " np.float64(1.645964645964646),\n",
       " np.float64(1.7368777368777368),\n",
       " np.float64(1.8277908277908277),\n",
       " np.float64(1.9187039187039185),\n",
       " np.float64(1.1705301705301705),\n",
       " np.float64(1.2614432614432614),\n",
       " np.float64(1.715986715986716),\n",
       " np.float64(1.8068998068998068),\n",
       " np.float64(1.000011000011),\n",
       " np.float64(1.000022000022),\n",
       " np.float64(1.0056910056910058),\n",
       " np.float64(1.0057020057020056),\n",
       " np.float64(1.0113820113820113),\n",
       " np.float64(1.0227420227420227),\n",
       " np.float64(1.0454730454730454),\n",
       " np.float64(1.090924090924091),\n",
       " np.float64(1.1818371818371818),\n",
       " np.float64(1.2727392727392728),\n",
       " np.float64(1.1496391496391496),\n",
       " np.float64(1.2405522405522404),\n",
       " np.float64(1.0587260587260587),\n",
       " np.float64(1.6041826041826042),\n",
       " np.float64(1.695095695095695),\n",
       " np.float64(1.0378350378350378),\n",
       " np.float64(1.6742046742046741),\n",
       " np.float64(1.9895949895949894),\n",
       " np.float64(1.1987701987701986),\n",
       " np.float64(1.6533136533136532),\n",
       " np.float64(1.744226744226744),\n",
       " np.float64(1.835139835139835),\n",
       " np.float64(1.926030926030926),\n",
       " np.float64(1.066075066075066),\n",
       " np.float64(1.247879247879248),\n",
       " np.float64(1.7024447024447023),\n",
       " np.float64(1.7933357933357934),\n",
       " np.float64(1.8842488842488843),\n",
       " np.float64(1.9751619751619751),\n",
       " np.float64(1.9542709542709542),\n",
       " np.float64(1.2060972060972062),\n",
       " np.float64(1.297010297010297),\n",
       " np.float64(1.6606406606406607),\n",
       " np.float64(1.6606626606626604),\n",
       " np.float64(1.7515537515537516),\n",
       " np.float64(1.8424668424668424),\n",
       " np.float64(1.9333799333799333),\n",
       " np.float64(1.672891672891673),\n",
       " np.float64(1.1852061852061853),\n",
       " np.float64(1.2761192761192761),\n",
       " np.float64(1.8215758215758215),\n",
       " np.float64(1.9124889124889124),\n",
       " np.float64(1.0734020734020735),\n",
       " np.float64(1.1643151643151644),\n",
       " np.float64(1.2552282552282552),\n",
       " np.float64(1.7097717097717098),\n",
       " np.float64(1.8006848006848006),\n",
       " np.float64(1.8915978915978915),\n",
       " np.float64(1.9825109825109823),\n",
       " np.float64(1.0525110525110526),\n",
       " np.float64(1.2343372343372343),\n",
       " np.float64(1.7797937797937797),\n",
       " np.float64(1.8707068707068706),\n",
       " np.float64(1.966029966029966),\n",
       " np.float64(1.0316200316200317),\n",
       " np.float64(1.2134462134462134),\n",
       " np.float64(1.3043593043593043),\n",
       " np.float64(1.667989667989668),\n",
       " np.float64(1.7589027589027588),\n",
       " np.float64(1.8498158498158497),\n",
       " np.float64(1.927221927221927),\n",
       " np.float64(1.9407289407289405),\n",
       " np.float64(1.9078179078179076),\n",
       " np.float64(1.1925551925551925),\n",
       " np.float64(1.647098647098647),\n",
       " np.float64(1.738011738011738),\n",
       " np.float64(1.1716641716641716),\n",
       " np.float64(1.2625772625772624),\n",
       " np.float64(1.717120717120717),\n",
       " np.float64(1.8080338080338079),\n",
       " np.float64(1.8989468989468987),\n",
       " np.float64(1.9898379898379899),\n",
       " np.float64(1.038969038969039),\n",
       " np.float64(1.3116863116863118),\n",
       " np.float64(1.6753386753386752),\n",
       " np.float64(1.766251766251766),\n",
       " np.float64(1.8571428571428572),\n",
       " np.float64(1.948055948055948),\n",
       " np.float64(1.9693199693199692),\n",
       " np.float64(1.26990426990427),\n",
       " np.float64(1.6335566335566334),\n",
       " np.float64(1.7244477244477245),\n",
       " np.float64(1.7244697244697242),\n",
       " np.float64(1.8153608153608154),\n",
       " np.float64(1.9062739062739062),\n",
       " np.float64(1.9305119305119303),\n",
       " np.float64(1.997186997186997),\n",
       " np.float64(1.249013249013249),\n",
       " np.float64(1.8853828853828853),\n",
       " np.float64(1.9762959762959762),\n",
       " np.float64(1.2281222281222282),\n",
       " np.float64(1.6826656826656827),\n",
       " np.float64(1.7735787735787736),\n",
       " np.float64(1.8644918644918644),\n",
       " np.float64(1.9554049554049553),\n",
       " np.float64(1.2072312072312072),\n",
       " np.float64(1.298144298144298),\n",
       " np.float64(1.8436008436008435),\n",
       " np.float64(1.9345139345139344),\n",
       " np.float64(1.8454448454448453),\n",
       " np.float64(1.8260408260408258),\n",
       " np.float64(1.1863401863401863),\n",
       " np.float64(1.2772532772532772),\n",
       " np.float64(1.640883640883641),\n",
       " np.float64(1.7317967317967318),\n",
       " np.float64(1.8227098227098226),\n",
       " np.float64(1.9136229136229135),\n",
       " np.float64(1.0745360745360746),\n",
       " np.float64(1.1654491654491654),\n",
       " np.float64(1.2563622563622563),\n",
       " np.float64(1.7109057109057109),\n",
       " np.float64(1.8018188018188017),\n",
       " np.float64(1.9920139920139919),\n",
       " np.float64(1.9726099726099724),\n",
       " np.float64(1.0536450536450537),\n",
       " np.float64(1.2354712354712354),\n",
       " np.float64(1.69001469001469),\n",
       " np.float64(1.7809277809277808),\n",
       " np.float64(1.8718408718408717),\n",
       " np.float64(1.9627539627539625),\n",
       " np.float64(1.0327540327540328),\n",
       " np.float64(1.2145802145802145),\n",
       " np.float64(1.669123669123669),\n",
       " np.float64(1.1936891936891936),\n",
       " np.float64(1.6482326482326481),\n",
       " np.float64(1.739145739145739),\n",
       " np.float64(1.8300588300588299),\n",
       " np.float64(1.920949920949921),\n",
       " np.float64(1.9263509263509264),\n",
       " np.float64(1.060994060994061),\n",
       " np.float64(1.6064506064506063),\n",
       " np.float64(1.6973636973636972),\n",
       " np.float64(1.7882547882547883),\n",
       " np.float64(1.788276788276788),\n",
       " np.float64(1.8791678791678792),\n",
       " np.float64(1.97008097008097),\n",
       " np.float64(1.04010304010304),\n",
       " np.float64(1.3128203128203129),\n",
       " np.float64(1.9491899491899491),\n",
       " np.float64(1.201016201016201),\n",
       " np.float64(1.291929291929292),\n",
       " np.float64(1.6555816555816554),\n",
       " np.float64(1.7464727464727465),\n",
       " np.float64(1.8373858373858374),\n",
       " np.float64(1.9282989282989282),\n",
       " np.float64(1.783071783071783),\n",
       " np.float64(1.1801251801251802),\n",
       " np.float64(1.271038271038271),\n",
       " np.float64(1.9074079074079073),\n",
       " np.float64(1.9983209983209982),\n",
       " np.float64(1.1592341592341593),\n",
       " np.float64(1.2501472501472501),\n",
       " np.float64(1.7046907046907047),\n",
       " np.float64(1.7956037956037956),\n",
       " np.float64(1.8865168865168864),\n",
       " np.float64(1.9774299774299773),\n",
       " np.float64(1.9102369102369101),\n",
       " np.float64(1.0474300474300475),\n",
       " np.float64(1.2292562292562292),\n",
       " np.float64(1.7747127747127747),\n",
       " np.float64(1.8656258656258655),\n",
       " np.float64(1.000033000033),\n",
       " np.float64(1.0113930113930114),\n",
       " np.float64(1.0227530227530228),\n",
       " np.float64(1.0227640227640227),\n",
       " np.float64(1.034124034124034),\n",
       " np.float64(1.0454840454840455),\n",
       " np.float64(1.056844056844057),\n",
       " np.float64(1.0568550568550568),\n",
       " np.float64(1.0682150682150682),\n",
       " np.float64(1.090935090935091),\n",
       " np.float64(1.571995571995572),\n",
       " np.float64(1.662908662908663),\n",
       " np.float64(1.7538217538217538),\n",
       " np.float64(1.8447348447348446),\n",
       " np.float64(1.9356479356479355),\n",
       " np.float64(1.1874741874741874),\n",
       " np.float64(1.2783872783872783),\n",
       " np.float64(1.642017642017642),\n",
       " np.float64(1.7329307329307329),\n",
       " np.float64(1.1665831665831665),\n",
       " np.float64(1.2574962574962574),\n",
       " np.float64(1.712039712039712),\n",
       " np.float64(1.8029528029528028),\n",
       " np.float64(1.8938658938658937),\n",
       " np.float64(1.9847569847569848),\n",
       " np.float64(1.0547790547790548),\n",
       " np.float64(1.691148691148691),\n",
       " np.float64(1.9911429911429912),\n",
       " np.float64(1.5793445793445793),\n",
       " np.float64(1.0338880338880339),\n",
       " np.float64(1.6702576702576701),\n",
       " np.float64(1.761170761170761),\n",
       " np.float64(1.8520618520618521),\n",
       " np.float64(1.8520838520838518),\n",
       " np.float64(1.942974942974943),\n",
       " np.float64(1.264823264823265),\n",
       " np.float64(1.7193887193887192),\n",
       " np.float64(1.8102798102798103),\n",
       " np.float64(1.9011929011929012),\n",
       " np.float64(1.992105992105992),\n",
       " np.float64(1.243932243932244),\n",
       " np.float64(1.9712149712149711),\n",
       " np.float64(1.223041223041223),\n",
       " np.float64(1.313954313954314),\n",
       " np.float64(1.6775846775846777),\n",
       " np.float64(1.7684977684977685),\n",
       " np.float64(1.8594108594108594),\n",
       " np.float64(1.9503239503239502),\n",
       " np.float64(1.2021502021502022),\n",
       " np.float64(1.293063293063293),\n",
       " np.float64(1.8385198385198385),\n",
       " np.float64(1.9294329294329293),\n",
       " np.float64(1.975028975028975),\n",
       " np.float64(1.9556249556249554),\n",
       " np.float64(1.1812591812591813),\n",
       " np.float64(1.2721722721722721),\n",
       " np.float64(1.5449115449115447),\n",
       " np.float64(1.6358026358026359),\n",
       " np.float64(1.7267157267157267),\n",
       " np.float64(1.8176288176288176),\n",
       " np.float64(1.9085419085419084),\n",
       " np.float64(1.9994549994549993),\n",
       " np.float64(1.0694550694550695),\n",
       " np.float64(1.1603681603681604),\n",
       " np.float64(1.2512812512812512),\n",
       " np.float64(1.7058247058247058),\n",
       " np.float64(1.7967377967377967),\n",
       " np.float64(1.8876508876508875),\n",
       " np.float64(1.0485640485640486),\n",
       " np.float64(1.2303902303902303),\n",
       " np.float64(1.684933684933685),\n",
       " np.float64(1.7758467758467757),\n",
       " np.float64(1.8667598667598666),\n",
       " np.float64(1.9576729576729575),\n",
       " np.float64(1.0276730276730277),\n",
       " np.float64(1.2094992094992094),\n",
       " np.float64(1.664042664042664),\n",
       " np.float64(1.7549557549557548),\n",
       " np.float64(1.1886081886081885),\n",
       " np.float64(1.2795212795212794),\n",
       " np.float64(1.643151643151643),\n",
       " np.float64(1.734064734064734),\n",
       " np.float64(1.8249778249778248),\n",
       " np.float64(1.915868915868916),\n",
       " np.float64(1.9158909158909156),\n",
       " np.float64(1.0768040768040767),\n",
       " np.float64(1.0559130559130558),\n",
       " np.float64(1.6922826922826921),\n",
       " np.float64(1.783195783195783),\n",
       " np.float64(1.8740868740868741),\n",
       " np.float64(1.964999964999965),\n",
       " np.float64(1.035022035022035),\n",
       " np.float64(1.195935195935196),\n",
       " np.float64(1.286848286848287),\n",
       " np.float64(1.6505006505006503),\n",
       " np.float64(1.7413917413917415),\n",
       " np.float64(1.8323048323048323),\n",
       " np.float64(1.9232179232179232),\n",
       " np.float64(1.8932518932518931),\n",
       " np.float64(1.9023269023269023),\n",
       " np.float64(1.9932399932399931),\n",
       " np.float64(1.245066245066245),\n",
       " np.float64(1.6996096996096997),\n",
       " np.float64(1.7905227905227905),\n",
       " np.float64(1.8814358814358814),\n",
       " np.float64(1.9723489723489722),\n",
       " np.float64(1.2241752241752242),\n",
       " np.float64(1.7696317696317696),\n",
       " np.float64(1.8605448605448605),\n",
       " np.float64(1.9514579514579513),\n",
       " np.float64(1.0214580214580216),\n",
       " np.float64(1.2032842032842033),\n",
       " np.float64(1.2941972941972941),\n",
       " np.float64(1.6578276578276578),\n",
       " np.float64(1.7487407487407487),\n",
       " np.float64(1.8396538396538396),\n",
       " np.float64(1.9305669305669304),\n",
       " np.float64(1.0005670005670007),\n",
       " np.float64(1.1823931823931824),\n",
       " np.float64(1.2733062733062732),\n",
       " np.float64(1.7278497278497278),\n",
       " np.float64(1.8187628187628186),\n",
       " np.float64(1.9741579741579742),\n",
       " np.float64(1.0705890705890706),\n",
       " np.float64(1.1615021615021615),\n",
       " np.float64(1.2524152524152523),\n",
       " np.float64(1.7069587069587069),\n",
       " np.float64(1.7978717978717977),\n",
       " np.float64(1.8887848887848886),\n",
       " np.float64(1.9796759796759797),\n",
       " np.float64(1.9796979796979794),\n",
       " np.float64(1.0496980496980497),\n",
       " np.float64(1.2315242315242314),\n",
       " np.float64(1.686067686067686),\n",
       " np.float64(1.2106332106332105),\n",
       " np.float64(1.665176665176665),\n",
       " np.float64(1.756089756089756),\n",
       " np.float64(1.8470028470028468),\n",
       " np.float64(1.937893937893938),\n",
       " np.float64(1.9778439778439778),\n",
       " np.float64(1.8308788308788309),\n",
       " np.float64(1.0779380779380778),\n",
       " np.float64(1.2597422597422598),\n",
       " np.float64(1.7143077143077141),\n",
       " np.float64(1.8051988051988053),\n",
       " np.float64(1.8961118961118961),\n",
       " np.float64(1.987024987024987),\n",
       " np.float64(1.966133966133966),\n",
       " np.float64(1.217960217960218),\n",
       " np.float64(1.3088733088733089),\n",
       " np.float64(1.6725036725036726),\n",
       " np.float64(1.6725256725256723),\n",
       " np.float64(1.7634167634167635),\n",
       " np.float64(1.8543298543298543),\n",
       " np.float64(1.9452429452429452),\n",
       " np.float64(1.1970691970691971),\n",
       " np.float64(1.287982287982288),\n",
       " np.float64(1.8334388334388334),\n",
       " np.float64(1.9243519243519243),\n",
       " np.float64(1.000044000044),\n",
       " np.float64(1.0114040114040115),\n",
       " np.float64(1.0114150114150113),\n",
       " np.float64(1.0227750227750227),\n",
       " np.float64(1.0341350341350342),\n",
       " np.float64(1.0454950454950456),\n",
       " np.float64(1.0455060455060454),\n",
       " np.float64(1.0568660568660568),\n",
       " np.float64(1.0682260682260682),\n",
       " np.float64(1.090957090957091),\n",
       " np.float64(1.1761781761781762),\n",
       " np.float64(1.4489174489174488),\n",
       " np.float64(1.5398305398305396),\n",
       " np.float64(1.6307216307216308),\n",
       " np.float64(1.7216347216347216),\n",
       " np.float64(1.0643740643740645),\n",
       " np.float64(1.2462002462002462),\n",
       " np.float64(1.7916567916567916),\n",
       " np.float64(1.8825698825698824),\n",
       " np.float64(1.0434830434830435),\n",
       " np.float64(1.2253092253092253),\n",
       " np.float64(1.6798526798526798),\n",
       " np.float64(1.7707657707657707),\n",
       " np.float64(1.8616788616788615),\n",
       " np.float64(1.9525919525919524),\n",
       " np.float64(1.0225920225920226),\n",
       " np.float64(1.2044182044182044),\n",
       " np.float64(1.658961658961659),\n",
       " np.float64(1.7498747498747498),\n",
       " np.float64(1.1835271835271834),\n",
       " np.float64(1.2744402744402743),\n",
       " np.float64(1.638070638070638),\n",
       " np.float64(1.7289837289837289),\n",
       " np.float64(1.8198968198968197),\n",
       " np.float64(1.9108099108099106),\n",
       " np.float64(1.7685057685057686),\n",
       " np.float64(1.0717230717230717),\n",
       " np.float64(1.1626361626361625),\n",
       " np.float64(1.0508320508320508),\n",
       " np.float64(1.687201687201687),\n",
       " np.float64(1.778114778114778),\n",
       " np.float64(1.869005869005869),\n",
       " np.float64(1.95991895991896),\n",
       " np.float64(1.2817672817672818),\n",
       " np.float64(1.6454196454196452),\n",
       " np.float64(1.7363107363107364),\n",
       " np.float64(1.736332736332736),\n",
       " np.float64(1.8272238272238273),\n",
       " np.float64(1.9181369181369181),\n",
       " np.float64(1.260876260876261),\n",
       " np.float64(1.8972458972458972),\n",
       " np.float64(1.988158988158988),\n",
       " np.float64(1.23998523998524),\n",
       " np.float64(1.6945286945286946),\n",
       " np.float64(1.7854417854417854),\n",
       " np.float64(1.8763548763548763),\n",
       " np.float64(1.9672679672679672),\n",
       " np.float64(1.2190942190942191),\n",
       " np.float64(1.31000731000731),\n",
       " np.float64(1.8554638554638554),\n",
       " np.float64(1.9463769463769462),\n",
       " np.float64(1.9377689377689378),\n",
       " np.float64(1.1982031982031982),\n",
       " np.float64(1.289116289116289),\n",
       " np.float64(1.6527466527466528),\n",
       " np.float64(1.7436597436597436),\n",
       " np.float64(1.8345728345728345),\n",
       " np.float64(1.9254859254859253),\n",
       " np.float64(1.7227687227687227),\n",
       " np.float64(1.8136818136818136),\n",
       " np.float64(1.0655080655080655),\n",
       " np.float64(1.2473342473342472),\n",
       " np.float64(1.7018777018777018),\n",
       " np.float64(1.7927907927907927),\n",
       " np.float64(1.8837038837038835),\n",
       " np.float64(1.9746169746169744),\n",
       " np.float64(1.0446170446170446),\n",
       " np.float64(1.2264432264432263),\n",
       " np.float64(1.680986680986681),\n",
       " np.float64(1.0237260237260237),\n",
       " np.float64(1.2055522055522054),\n",
       " np.float64(1.66009566009566),\n",
       " np.float64(1.7510087510087509),\n",
       " np.float64(1.8419218419218417),\n",
       " np.float64(1.9328129328129329),\n",
       " np.float64(1.639204639204639),\n",
       " np.float64(1.941058941058941),\n",
       " np.float64(1.0728570728570728),\n",
       " np.float64(1.709226709226709),\n",
       " np.float64(1.8001178001178002),\n",
       " np.float64(1.8001398001398),\n",
       " np.float64(1.891030891030891),\n",
       " np.float64(1.981943981943982),\n",
       " np.float64(1.0519660519660519),\n",
       " np.float64(1.961052961052961),\n",
       " np.float64(1.212879212879213),\n",
       " np.float64(1.6674446674446672),\n",
       " np.float64(1.7583357583357584),\n",
       " np.float64(1.8492488492488492),\n",
       " np.float64(1.94016194016194),\n",
       " np.float64(1.191988191988192),\n",
       " np.float64(1.282901282901283),\n",
       " np.float64(1.9192709192709192),\n",
       " np.float64(1.1710971710971712),\n",
       " np.float64(1.262010262010262),\n",
       " np.float64(1.7165537165537166),\n",
       " np.float64(1.8074668074668074),\n",
       " np.float64(1.8983798983798983),\n",
       " np.float64(1.9892929892929891),\n",
       " np.float64(1.241119241119241),\n",
       " np.float64(1.7865757865757865),\n",
       " np.float64(1.8774888774888774),\n",
       " np.float64(1.9637529637529636),\n",
       " np.float64(1.0384020384020385),\n",
       " np.float64(1.2202282202282202),\n",
       " np.float64(1.311141311141311),\n",
       " np.float64(1.6747716747716748),\n",
       " np.float64(1.7656847656847656),\n",
       " np.float64(1.8565978565978565),\n",
       " np.float64(1.9475109475109473),\n",
       " np.float64(1.1993371993371993),\n",
       " np.float64(1.2902502902502901),\n",
       " np.float64(1.6538806538806539),\n",
       " np.float64(1.7447937447937447),\n",
       " np.float64(1.8357068357068356),\n",
       " np.float64(1.1784461784461784),\n",
       " np.float64(1.2693592693592692),\n",
       " np.float64(1.0875330875330875),\n",
       " np.float64(1.632989632989633),\n",
       " np.float64(1.7239027239027238),\n",
       " np.float64(1.8148158148158147),\n",
       " np.float64(1.9057289057289055),\n",
       " np.float64(1.9966199966199967),\n",
       " np.float64(1.8786858786858787),\n",
       " np.float64(1.0666420666420666),\n",
       " np.float64(1.1575551575551575),\n",
       " np.float64(1.703011703011703),\n",
       " np.float64(1.0457510457510457),\n",
       " np.float64(1.682120682120682),\n",
       " np.float64(1.7730337730337729),\n",
       " np.float64(1.863924863924864),\n",
       " np.float64(1.8639468639468637),\n",
       " np.float64(1.9548379548379549),\n",
       " np.float64(1.9864469864469863),\n",
       " np.float64(1.0248600248600248),\n",
       " np.float64(1.1912281912281912),\n",
       " np.float64(1.2766862766862768),\n",
       " np.float64(1.6403386403386402),\n",
       " np.float64(1.731251731251731),\n",
       " np.float64(1.8221428221428222),\n",
       " np.float64(1.913055913055913),\n",
       " np.float64(1.983077983077983),\n",
       " np.float64(1.0000550000550001),\n",
       " np.float64(1.000066000066),\n",
       " np.float64(1.0227860227860228),\n",
       " np.float64(1.0455170455170455),\n",
       " np.float64(1.0682370682370683),\n",
       " np.float64(1.0682480682480682),\n",
       " np.float64(1.090968090968091),\n",
       " np.float64(1.1136991136991137),\n",
       " np.float64(1.1364191364191365),\n",
       " np.float64(1.1818811818811819),\n",
       " np.float64(1.143991143991144),\n",
       " np.float64(1.234904234904235),\n",
       " np.float64(1.5076435076435075),\n",
       " np.float64(1.5985565985565984),\n",
       " np.float64(1.6894476894476895),\n",
       " np.float64(1.214013214013214),\n",
       " np.float64(1.304926304926305),\n",
       " np.float64(1.8503828503828503),\n",
       " np.float64(1.9412959412959412),\n",
       " np.float64(1.1931221931221931),\n",
       " np.float64(1.284035284035284),\n",
       " np.float64(1.6476656476656477),\n",
       " np.float64(1.7385787385787386),\n",
       " np.float64(1.8294918294918294),\n",
       " np.float64(1.9204049204049203),\n",
       " np.float64(1.1722311722311722),\n",
       " np.float64(1.263144263144263),\n",
       " np.float64(1.7176877176877177),\n",
       " np.float64(1.8086008086008085),\n",
       " np.float64(1.8995138995138994),\n",
       " np.float64(1.8163128163128164),\n",
       " np.float64(1.0604270604270605),\n",
       " np.float64(1.1513401513401513),\n",
       " np.float64(1.2422532422532422),\n",
       " np.float64(1.6967966967966968),\n",
       " np.float64(1.7877097877097876),\n",
       " np.float64(1.8786228786228785),\n",
       " np.float64(1.9695359695359693),\n",
       " np.float64(1.7386967386967385),\n",
       " np.float64(1.0395360395360396),\n",
       " np.float64(1.2213622213622213),\n",
       " np.float64(1.6759056759056759),\n",
       " np.float64(1.7668187668187667),\n",
       " np.float64(1.2004712004712004),\n",
       " np.float64(1.2913842913842912),\n",
       " np.float64(1.655014655014655),\n",
       " np.float64(1.7459277459277458),\n",
       " np.float64(1.8368408368408367),\n",
       " np.float64(1.9277319277319278),\n",
       " np.float64(1.9277539277539275),\n",
       " np.float64(1.634123634123634),\n",
       " np.float64(1.0677760677760677),\n",
       " np.float64(1.1586891586891586),\n",
       " np.float64(1.704145704145704),\n",
       " np.float64(1.7950587950587948),\n",
       " np.float64(1.885949885949886),\n",
       " np.float64(1.9768629768629769),\n",
       " np.float64(1.0468850468850468),\n",
       " np.float64(1.025994025994026),\n",
       " np.float64(1.207798207798208),\n",
       " np.float64(1.2987112987112988),\n",
       " np.float64(1.6623636623636622),\n",
       " np.float64(1.7532547532547533),\n",
       " np.float64(1.8441678441678442),\n",
       " np.float64(1.935080935080935),\n",
       " np.float64(1.9855759855759856),\n",
       " np.float64(1.2778202778202779),\n",
       " np.float64(1.9141899141899141),\n",
       " np.float64(1.9273639273639271),\n",
       " np.float64(1.166016166016166),\n",
       " np.float64(1.256929256929257),\n",
       " np.float64(1.7114727114727115),\n",
       " np.float64(1.8023858023858024),\n",
       " np.float64(1.8932988932988932),\n",
       " np.float64(1.984211984211984),\n",
       " np.float64(1.236038236038236),\n",
       " np.float64(1.7814947814947815),\n",
       " np.float64(1.8724078724078723),\n",
       " np.float64(1.9633209633209632),\n",
       " np.float64(1.6763236763236762),\n",
       " np.float64(1.0333210333210334),\n",
       " np.float64(1.2151472151472151),\n",
       " np.float64(1.306060306060306),\n",
       " np.float64(1.6696906696906697),\n",
       " np.float64(1.7606037606037606),\n",
       " np.float64(1.8515168515168514),\n",
       " np.float64(1.9424299424299423),\n",
       " np.float64(1.1942561942561942),\n",
       " np.float64(1.285169285169285),\n",
       " np.float64(1.7397127397127397),\n",
       " np.float64(1.8306258306258305),\n",
       " np.float64(1.1733651733651733),\n",
       " np.float64(1.2642782642782642),\n",
       " np.float64(1.7188217188217187),\n",
       " np.float64(1.8097348097348096),\n",
       " np.float64(1.9006479006479005),\n",
       " np.float64(1.9915389915389916),\n",
       " np.float64(1.9915609915609913),\n",
       " np.float64(1.9888659888659888),\n",
       " np.float64(1.9694619694619693),\n",
       " np.float64(1.0615610615610616),\n",
       " np.float64(1.2433872433872433),\n",
       " np.float64(1.6979306979306978),\n",
       " np.float64(1.0406700406700407),\n",
       " np.float64(1.2224962224962224),\n",
       " np.float64(1.677039677039677),\n",
       " np.float64(1.7679527679527678),\n",
       " np.float64(1.8588658588658586),\n",
       " np.float64(1.9497569497569498),\n",
       " np.float64(1.0197790197790197),\n",
       " np.float64(1.2716052716052717),\n",
       " np.float64(1.0898010898010897),\n",
       " np.float64(1.6352576352576351),\n",
       " np.float64(1.726170726170726),\n",
       " np.float64(1.8170618170618171),\n",
       " np.float64(1.907974907974908),\n",
       " np.float64(1.9988879988879988),\n",
       " np.float64(1.977996977996978),\n",
       " np.float64(1.22982322982323),\n",
       " np.float64(1.6843666843666845),\n",
       " np.float64(1.6843886843886842),\n",
       " np.float64(1.7752797752797753),\n",
       " np.float64(1.8661928661928662),\n",
       " np.float64(1.957105957105957),\n",
       " np.float64(1.208932208932209),\n",
       " np.float64(1.2998452998452998),\n",
       " np.float64(1.8453018453018453),\n",
       " np.float64(1.9362149362149361),\n",
       " np.float64(1.188041188041188),\n",
       " np.float64(1.278954278954279),\n",
       " np.float64(1.6425846425846427),\n",
       " np.float64(1.7334977334977335),\n",
       " np.float64(1.8244108244108244),\n",
       " np.float64(1.9153239153239152),\n",
       " np.float64(1.0762370762370763),\n",
       " np.float64(1.1671501671501672),\n",
       " np.float64(1.258063258063258),\n",
       " np.float64(1.8035198035198035),\n",
       " np.float64(1.8944328944328943),\n",
       " np.float64(1.9264929264929265),\n",
       " np.float64(1.0553460553460554),\n",
       " np.float64(1.2371722371722371),\n",
       " np.float64(1.6917156917156917),\n",
       " np.float64(1.7826287826287825),\n",
       " np.float64(1.8735418735418734),\n",
       " np.float64(1.9644549644549643),\n",
       " np.float64(1.0344550344550345),\n",
       " np.float64(1.2162812162812162),\n",
       " np.float64(1.6708246708246708),\n",
       " np.float64(1.7617377617377616),\n",
       " np.float64(1.1953901953901953),\n",
       " np.float64(1.2863032863032862),\n",
       " np.float64(1.6499336499336499),\n",
       " np.float64(1.7408467408467407),\n",
       " np.float64(1.8317598317598316),\n",
       " np.float64(1.9226729226729224),\n",
       " np.float64(1.239035239035239),\n",
       " np.float64(1.1744991744991744),\n",
       " np.float64(1.0626950626950626),\n",
       " np.float64(1.699064699064699),\n",
       " np.float64(1.7899777899777898),\n",
       " np.float64(1.880868880868881),\n",
       " np.float64(1.9717819717819718),\n",
       " np.float64(1.9685909685909686),\n",
       " np.float64(1.0418040418040417),\n",
       " np.float64(1.9297829297829296),\n",
       " np.float64(1.000077000077),\n",
       " np.float64(1.022797022797023),\n",
       " np.float64(1.0228080228080227),\n",
       " np.float64(1.0455280455280456),\n",
       " np.float64(1.0682590682590682),\n",
       " np.float64(1.090979090979091),\n",
       " np.float64(1.090990090990091),\n",
       " np.float64(1.1137101137101137),\n",
       " np.float64(1.1364411364411364),\n",
       " np.float64(1.181892181892182),\n",
       " np.float64(1.4754564754564754),\n",
       " np.float64(1.5663695663695663),\n",
       " np.float64(1.0209130209130208),\n",
       " np.float64(1.6572826572826571),\n",
       " np.float64(1.7481737481737483),\n",
       " np.float64(1.3636523636523636),\n",
       " np.float64(1.4545654545654545),\n",
       " np.float64(1.909108909108909),\n",
       " np.float64(1.160935160935161),\n",
       " np.float64(1.2518482518482519),\n",
       " np.float64(1.7063917063917065),\n",
       " np.float64(1.7973047973047973),\n",
       " np.float64(1.8882178882178882),\n",
       " np.float64(1.979130979130979),\n",
       " np.float64(1.8641198641198642),\n",
       " np.float64(1.230957230957231),\n",
       " np.float64(1.8673268673268673),\n",
       " np.float64(1.9582399582399581),\n",
       " np.float64(1.7865037865037863),\n",
       " np.float64(1.21006621006621),\n",
       " np.float64(1.300979300979301),\n",
       " np.float64(1.6646096646096646),\n",
       " np.float64(1.7555227555227555),\n",
       " np.float64(1.8464358464358464),\n",
       " np.float64(1.9373489373489372),\n",
       " np.float64(1.9803949803949803),\n",
       " np.float64(1.9524769524769523),\n",
       " np.float64(1.1891751891751892),\n",
       " np.float64(1.28008828008828),\n",
       " np.float64(1.7346317346317346),\n",
       " np.float64(1.8255448255448254),\n",
       " np.float64(1.9330729330729328),\n",
       " np.float64(1.0773710773710774),\n",
       " np.float64(1.1682841682841683),\n",
       " np.float64(1.2591972591972591),\n",
       " np.float64(1.7137407137407137),\n",
       " np.float64(1.8046538046538045),\n",
       " np.float64(1.8955668955668954),\n",
       " np.float64(1.9864799864799862),\n",
       " np.float64(1.0564800564800565),\n",
       " np.float64(1.2383062383062382),\n",
       " np.float64(1.6928496928496928),\n",
       " np.float64(1.7837627837627836),\n",
       " np.float64(1.0355890355890356),\n",
       " np.float64(1.2174152174152173),\n",
       " np.float64(1.6719586719586719),\n",
       " np.float64(1.7628717628717627),\n",
       " np.float64(1.8537848537848536),\n",
       " np.float64(1.9446759446759447),\n",
       " np.float64(1.651067651067651),\n",
       " np.float64(1.63017663017663),\n",
       " np.float64(1.721089721089721),\n",
       " np.float64(1.811980811980812),\n",
       " np.float64(1.8120028120028118),\n",
       " np.float64(1.902893902893903),\n",
       " np.float64(1.9938069938069938),\n",
       " np.float64(1.9945749945749944),\n",
       " np.float64(1.0638290638290637),\n",
       " np.float64(1.9729159729159729),\n",
       " np.float64(1.0429380429380428),\n",
       " np.float64(1.2247422247422248),\n",
       " np.float64(1.679307679307679),\n",
       " np.float64(1.7701987701987703),\n",
       " np.float64(1.861111861111861),\n",
       " np.float64(1.952024952024952),\n",
       " np.float64(1.724130724130724),\n",
       " np.float64(1.203851203851204),\n",
       " np.float64(1.2947642947642948),\n",
       " np.float64(1.931133931133931),\n",
       " np.float64(1.182960182960183),\n",
       " np.float64(1.2738732738732739),\n",
       " np.float64(1.6375036375036376),\n",
       " np.float64(1.7284167284167284),\n",
       " np.float64(1.8193298193298193),\n",
       " np.float64(1.9102429102429102),\n",
       " np.float64(1.162069162069162),\n",
       " np.float64(1.252982252982253),\n",
       " np.float64(1.7984387984387984),\n",
       " np.float64(1.8893518893518892),\n",
       " np.float64(1.0502650502650503),\n",
       " np.float64(1.232091232091232),\n",
       " np.float64(1.6866346866346866),\n",
       " np.float64(1.7775477775477775),\n",
       " np.float64(1.8684608684608683),\n",
       " np.float64(1.9593739593739592),\n",
       " np.float64(1.9978649978649976),\n",
       " np.float64(1.2112002112002112),\n",
       " np.float64(1.302113302113302),\n",
       " np.float64(1.6657436657436657),\n",
       " np.float64(1.7566567566567566),\n",
       " np.float64(1.8475698475698474),\n",
       " np.float64(1.1903091903091902),\n",
       " np.float64(1.281222281222281),\n",
       " np.float64(1.6448526448526448),\n",
       " np.float64(1.7357657357657357),\n",
       " np.float64(1.8266788266788265),\n",
       " np.float64(1.9175919175919174),\n",
       " np.float64(1.0785050785050785),\n",
       " np.float64(1.1694181694181693),\n",
       " np.float64(1.7148747148747148),\n",
       " np.float64(1.9322019322019321),\n",
       " np.float64(1.9127979127979127),\n",
       " np.float64(1.0576140576140576),\n",
       " np.float64(1.6939836939836939),\n",
       " np.float64(1.7848967848967847),\n",
       " np.float64(1.8757878757878759),\n",
       " np.float64(1.8758098758098756),\n",
       " np.float64(1.9667009667009667),\n",
       " np.float64(1.0367230367230367),\n",
       " np.float64(1.6617576617576617),\n",
       " np.float64(1.2885492885492886),\n",
       " np.float64(1.652201652201652),\n",
       " np.float64(1.743114743114743),\n",
       " np.float64(1.834005834005834),\n",
       " np.float64(1.924918924918925),\n",
       " np.float64(1.9949409949409949),\n",
       " np.float64(1.2467672467672468),\n",
       " np.float64(1.7013107013107014),\n",
       " np.float64(1.7922237922237922),\n",
       " np.float64(1.883136883136883),\n",
       " np.float64(1.974049974049974),\n",
       " np.float64(1.9742999742999743),\n",
       " np.float64(1.9548959548959548),\n",
       " np.float64(1.225876225876226),\n",
       " np.float64(1.8622458622458622),\n",
       " np.float64(1.953158953158953),\n",
       " np.float64(1.9160879160879158),\n",
       " np.float64(1.204985204985205),\n",
       " np.float64(1.2958982958982959),\n",
       " np.float64(1.6595286595286596),\n",
       " np.float64(1.7504417504417504),\n",
       " np.float64(1.8413548413548413),\n",
       " np.float64(1.9322679322679321),\n",
       " np.float64(1.184094184094184),\n",
       " np.float64(1.275007275007275),\n",
       " np.float64(1.7295507295507295),\n",
       " np.float64(1.8204638204638204),\n",
       " np.float64(1.9113769113769112),\n",
       " np.float64(1.0722900722900723),\n",
       " np.float64(1.1632031632031632),\n",
       " np.float64(1.254116254116254),\n",
       " np.float64(1.7086597086597086),\n",
       " np.float64(1.7995727995727995),\n",
       " np.float64(1.8904858904858903),\n",
       " np.float64(1.9813989813989812),\n",
       " np.float64(1.0513990513990514),\n",
       " np.float64(1.2332252332252331),\n",
       " np.float64(1.6877686877686877),\n",
       " np.float64(1.7786817786817786),\n",
       " np.float64(1.0305080305080305),\n",
       " np.float64(1.2123342123342122),\n",
       " np.float64(1.303247303247303),\n",
       " np.float64(1.6668776668776668),\n",
       " np.float64(1.7577907577907577),\n",
       " np.float64(1.8487038487038485),\n",
       " np.float64(1.9395949395949397),\n",
       " np.float64(1.9396169396169394),\n",
       " np.float64(1.9775899775899775),\n",
       " np.float64(1.1914431914431913),\n",
       " np.float64(1.645986645986646),\n",
       " np.float64(1.5626065626065624),\n",
       " np.float64(1.0682700682700683),\n",
       " np.float64(1.0000880000880001),\n",
       " np.float64(1.000099000099),\n",
       " np.float64(1.0228190228190228),\n",
       " np.float64(1.0455390455390456),\n",
       " np.float64(1.0455500455500455),\n",
       " np.float64(1.0682810682810682),\n",
       " np.float64(1.091001091001091),\n",
       " np.float64(1.1137211137211138),\n",
       " np.float64(1.1705521705521704),\n",
       " np.float64(1.4432694432694433),\n",
       " np.float64(1.5341825341825341),\n",
       " np.float64(1.625095625095625),\n",
       " np.float64(1.7160087160087159),\n",
       " np.float64(1.0587480587480587),\n",
       " np.float64(1.911926911926912),\n",
       " np.float64(1.0378570378570378),\n",
       " np.float64(1.2196612196612198),\n",
       " np.float64(1.3105743105743106),\n",
       " np.float64(1.674226674226674),\n",
       " np.float64(1.7651177651177652),\n",
       " np.float64(1.856030856030856),\n",
       " np.float64(1.946943946943947),\n",
       " np.float64(1.834310834310834),\n",
       " np.float64(1.2896832896832897),\n",
       " np.float64(1.926052926052926),\n",
       " ...}"
      ]
     },
     "execution_count": 8,
     "metadata": {},
     "output_type": "execute_result"
    }
   ],
   "source": [
    "# Generamos un conjunto de tamaño 1.000.000 de los racionales comprendidos entre 1 y 2\n",
    "import numpy as np\n",
    "\n",
    "set(np.linspace(1, 2, 1000000))"
   ]
  },
  {
   "cell_type": "code",
   "execution_count": 11,
   "id": "872e4660",
   "metadata": {},
   "outputs": [
    {
     "data": {
      "text/plain": [
       "1000"
      ]
     },
     "execution_count": 11,
     "metadata": {},
     "output_type": "execute_result"
    }
   ],
   "source": [
    "# Generamos números naturales\n",
    "N = set(list(range(0,1000)))\n",
    "len(N)"
   ]
  },
  {
   "cell_type": "code",
   "execution_count": 24,
   "id": "bb62feb6",
   "metadata": {},
   "outputs": [
    {
     "name": "stdout",
     "output_type": "stream",
     "text": [
      "{0, -2, -9, -8, -7, -6, -5, -4, -3, -1, -10}\n",
      "{0, -10, -9, -8, -7, -6, -5, -4, -3, -2, -1}\n",
      "True\n"
     ]
    }
   ],
   "source": [
    "# Generamos números negativos\n",
    "N1 = set(range(0, -11, -1))\n",
    "N2 = set(range(-10, 1))\n",
    "print(N1)\n",
    "print(N2)\n",
    "print(N1==N2)"
   ]
  },
  {
   "cell_type": "markdown",
   "id": "1d734fcb",
   "metadata": {},
   "source": [
    "## Apéndice. List vs set"
   ]
  },
  {
   "cell_type": "code",
   "execution_count": null,
   "id": "3b0217f0",
   "metadata": {},
   "outputs": [],
   "source": [
    "#Calculemos el tiempo que se tarda en buscar un elemento en una lista muy grande\n",
    "import timeit\n",
    "\n",
    "# Generamos la lista\n"
   ]
  },
  {
   "cell_type": "code",
   "execution_count": null,
   "id": "49dba0e0",
   "metadata": {},
   "outputs": [],
   "source": [
    "# Calculemos el tiempo que se tarda en buscar un elemento en un conjunto igual de grande\n",
    "# Generamos el conjunto\n"
   ]
  },
  {
   "cell_type": "code",
   "execution_count": null,
   "id": "075682e8",
   "metadata": {},
   "outputs": [],
   "source": [
    "# Probamos con un conjunto el doble de grande... si nos atrevemos\n",
    "# Generamos la lista\n"
   ]
  },
  {
   "cell_type": "code",
   "execution_count": null,
   "id": "6f12b74c",
   "metadata": {},
   "outputs": [],
   "source": [
    "# Generamos el conjunto\n"
   ]
  },
  {
   "cell_type": "markdown",
   "id": "be583849",
   "metadata": {},
   "source": [
    "## Ejercicios"
   ]
  },
  {
   "cell_type": "markdown",
   "id": "ddb3e747",
   "metadata": {},
   "source": [
    "### 1. Powersets\n",
    "\n",
    "El [powerset](https://en.wikipedia.org/wiki/Power_set) o conjunto de partes de un conjunto es otro conjunto que contiene todos los posibles subconjuntos. Por ejemplo, en el conjunto {'perro', 'gato', 'conejo'} tendremos los siguientes subconjuntos:\n",
    "\n",
    "{} \n",
    "{'perro'}\n",
    "{'perro', 'gato'}\n",
    "{'perro', 'gato', 'conejo'}\n",
    "{'perro', 'conejo'}\n",
    "{'gato'}\n",
    "{'gato', 'conejo'}\n",
    "{'conejo'}\n",
    "\n",
    "El conjunto vacío y el conjunto inicial forman siempre parte del powerset de un conjunto C. El cardinal del powerset es $2^n$, siendo n el número de elementos del conjunto.\n",
    "\n",
    "Vamos a implementar el powerset con Python.\n",
    "\n",
    "#### 1.1 Implementación iterativa\n",
    "\n",
    "Implementa una función para obtener el powerset de un conjunto dado de forma iterativa. También se puede hacer de forma recursiva, porque el powerset de {1, 2, 3} contiene al de {1, 2}."
   ]
  },
  {
   "cell_type": "code",
   "execution_count": 44,
   "id": "257b3683-9950-4825-9d58-c327033475b6",
   "metadata": {},
   "outputs": [
    {
     "name": "stdout",
     "output_type": "stream",
     "text": [
      "[[], ['conejo'], ['conejo', 'perro'], ['conejo', 'perro', 'gato'], ['conejo', 'gato'], ['perro'], ['perro', 'gato'], ['gato']]\n"
     ]
    }
   ],
   "source": [
    "def powerset(A):\n",
    "   # code here\n",
    "\n",
    "print(powerset({'perro', 'gato', 'conejo'}))\n",
    "# print(powerset({1,2,3}))\n",
    "# print(powerset({'coche','bici','avion', 'moto'}))"
   ]
  },
  {
   "cell_type": "markdown",
   "id": "9483d8ef",
   "metadata": {},
   "source": [
    "#### 1.2 Implementación usando itertools\n",
    "\n",
    "Implementa una función para obtener el powerset de un conjunto dado usando la librería `itertools`. En este caso, podemos dejar el resultado como tuplas, en lugar de sets.\n",
    "\n",
    "https://docs.python.org/3/library/itertools.html"
   ]
  },
  {
   "cell_type": "code",
   "execution_count": null,
   "id": "fb6d86fc",
   "metadata": {},
   "outputs": [],
   "source": [
    "import itertools as it\n",
    "\n",
    "def powerset_it(A):\n",
    "    ## TODO Añade la funcion\n",
    "\n",
    "for elemento in powerset_it({1,2,3}):\n",
    "    print(elemento)"
   ]
  }
 ],
 "metadata": {
  "kernelspec": {
   "display_name": "Python 3 (ipykernel)",
   "language": "python",
   "name": "python3"
  },
  "language_info": {
   "codemirror_mode": {
    "name": "ipython",
    "version": 3
   },
   "file_extension": ".py",
   "mimetype": "text/x-python",
   "name": "python",
   "nbconvert_exporter": "python",
   "pygments_lexer": "ipython3",
   "version": "3.12.0"
  }
 },
 "nbformat": 4,
 "nbformat_minor": 5
}
