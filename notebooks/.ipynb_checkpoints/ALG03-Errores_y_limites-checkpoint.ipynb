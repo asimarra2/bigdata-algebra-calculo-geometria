{
 "cells": [
  {
   "cell_type": "markdown",
   "id": "a825f362",
   "metadata": {},
   "source": [
    "<img src=\"images/keepcoding.png\" width=200 align=\"left\">"
   ]
  },
  {
   "cell_type": "markdown",
   "id": "4d213306",
   "metadata": {},
   "source": [
    "# Errores computacionales \n",
    "\n",
    "## 1. Introducción\n",
    "\n",
    "\n",
    "A menudo, cuando implementamos un algoritmo de datos, tenemos que tener en cuenta que hay varias fuentes de error que pueden afectar al error en la salida de nuestro programa:\n",
    "\n",
    "- Los errores de entrada: error de un instrumento de medida o de nuestra propia percepción\n",
    "- Los errores de almacenamiento: no podemos almacenar un número infinito de decimales\n",
    "- Los errores algorítmicos\n",
    "- Los errores de planteamiento o simplificaciones\n",
    "\n",
    "Las dos formas usuales de cuantificar un error son:\n",
    "\n",
    "- **Error absoluto**: que viene dado por la fórmula $\\lvert\\widetilde{z}-z\\rvert$ donde $\\widetilde{z}$ es la aproximación de la cantidad $z$.\n",
    "- **Error relativo**: que viene dado por la fórmula:\n",
    "$$\n",
    "\\frac{\\lvert\\widetilde{z}-z\\rvert}{\\lvert z\\rvert}\n",
    "$$\n",
    "\n",
    "Solemos usar el error relativo porque nos da una mejor idea de la importancia que tiene el error con respecto a la magnitud. \n",
    "\n",
    "Por ejemplo, pensemos que estamos midiendo un objeto pequeño que mide 0.007 cm (por ejemplo, indicado por el fabricante). Si lo hacemos con un instrumento cuyo mínimo es 0.250, no podremos medir nada más pequeño por lo que esa será nuestra aproximación."
   ]
  },
  {
   "cell_type": "code",
   "execution_count": null,
   "id": "f86f6718",
   "metadata": {},
   "outputs": [],
   "source": [
    "# Calculamos el error absoluto cuando z = 0.007 cm y su aproximación es 0.250 cm\n",
    "def error_absoluto(z_aprox, z):\n"
   ]
  },
  {
   "cell_type": "code",
   "execution_count": null,
   "id": "33c2df61",
   "metadata": {},
   "outputs": [],
   "source": [
    "# Calculamos el error relativo del ejemplo anterior\n",
    "\n",
    "def error_relativo(z_aprox, z):\n"
   ]
  },
  {
   "cell_type": "markdown",
   "id": "9b32833e",
   "metadata": {},
   "source": [
    "El resultado anterior nos indica que el error es casi 35 veces más grande que la magnitud (gigantesco). Se suele decir que el error relativo es del 3471.4% !!. Aunque a simple vista 0.25 cm parece un error pequeño, si estamos tratando con magnitudes como 0.007 cm es un error enorme. Usar el error relativo nos permite darnos cuenta de esto."
   ]
  },
  {
   "cell_type": "markdown",
   "id": "3f17401c",
   "metadata": {},
   "source": [
    "## 2. Errores de almacenamiento\n",
    "### 2.1 Definición e inconvenientes\n",
    "\n",
    "A la hora de almacenar los datos también se producen errores. Ya hemos visto ejemplos de conjuntos como los números racionales y los reales. En ambos, nos encontramos con elementos, como $\\pi$ y $1/3$ cuya representación decimal es infinita. \n",
    "\n",
    "Sin embargo, la capacidad de almacenamiento de los ordenadores es finita y por tanto solo se puede almacenar una cantidad limitada, por grande que sea. \n",
    "\n",
    "Esto significa que ni siquiera somos capaces de almacenar adecuadamente $\\pi$ o $1/3$. La alternativa real a este problema es que **cada número se representa con una cantidad máxima de cifras decimales**, lo que produce que solo se guarden de forma exacta los números que no excedan de ese máximo.\n",
    "\n",
    "Este hecho, a su vez, no solo produce un error inevitable a la hora de almacenar datos, sino que también implica que **hay una cantidad finita de números distintos que pueden almacenarse**. Estos números que pueden almacenarse se denominan números máquina. Expliquémoslo con un ejemplo:\n",
    "\n",
    "Supongamos que en nuestro ordenador primitivo solo podemos guardar los números con una cifra. Esto quiere decir, que no solo se tendrá que $\\pi=3$ (o sea, que $\\pi$ se guardaría como el número 3) sino que el conjunto de números que pueden almacenarse es $\\{0,1,2,3,4,5,6,7,8,9\\}$, y, el resto de números reales, se representará con alguno de ellos. Es decir, nuestro ordenador solo puede guardar diez valores distintos (el cardinal de ese conjunto).\n",
    "\n",
    "Lo mismo ocurriría si pudiéramos almacenar solo una cifra y una cifra decimal:"
   ]
  },
  {
   "cell_type": "code",
   "execution_count": null,
   "id": "f1eb536c",
   "metadata": {},
   "outputs": [],
   "source": [
    "# Construimos el conjunto de los números que tienen una cifra entera y una decimal\n"
   ]
  },
  {
   "cell_type": "code",
   "execution_count": null,
   "id": "7e3c3dac",
   "metadata": {},
   "outputs": [],
   "source": [
    "# Mostramos los números que se pueden almacenar\n",
    "from matplotlib import pyplot as plt\n",
    "\n",
    "\n",
    "# Inicializar figura\n",
    "plt.figure(figsize = (20, 0.75))\n",
    "# Dibujar la recta real\n",
    "plt.hlines(1, -0.25, 10.25, colors='black')\n",
    "# Dibujar números máquina\n",
    "plt.eventplot(numeros_maquina, colors='red', linelengths=0.5)\n",
    "# Ocultar el eje y\n",
    "ax = plt.gca()\n",
    "ax.get_yaxis().set_visible(False)\n",
    "plt.title(\"Números máquina con una cifra entera y una decimal\")\n",
    "plt.show()"
   ]
  },
  {
   "cell_type": "markdown",
   "id": "41fba3ef",
   "metadata": {},
   "source": [
    "Es posible que mientras trabajamos con nuestros datos, necesitemos almacenar un número que no pertenece al conjunto anterior. En ese caso, lo que podríamos hacer es aproximarlo por el valor inmediatamente anterior o posterior.\n",
    "\n",
    "También ocurre que, aunque estemos trabajando solo con números que pertenecen a nuestro conjunto (es decir, que solo tengan una cifra decimal), el resultado de una operación nos de fuera de ese conjunto. Por ejemplo, 5.5+0.1/4 nos da 5.525, que tiene más de una cifra decimal y ya no podríamos almacenar exactamente. Tendríamos que usar 5.5 de nuevo para almacenar este dato, lo cual dará lugar a más errores si seguimos operando, puesto que se irán propagando.\n",
    "\n",
    "Pensar que solo podemos almacenar una cifra decimal nos puede parecer irreal, pero el hecho es que por muchas cifras decimales que incluyamos, no vamos a poder llegar a la precisión infinita de la recta real, y en algún momento estaremos en esta misma situación, solo que con un número mayor de cifras decimales. Pero siempre vamos a poder realizar una operación que nos devuelva un resultado con más precisión de la que tenemos y que no vamos a poder almacenar."
   ]
  },
  {
   "cell_type": "code",
   "execution_count": null,
   "id": "34d4a1cc",
   "metadata": {},
   "outputs": [],
   "source": [
    "# Mostramos el ejemplo anterior gráficamente\n",
    "\n",
    "\n",
    "# Creamos la figura\n",
    "plt.figure(figsize=(20, 0.75))\n",
    "\n",
    "# Dibujamos la recta real\n",
    "plt.hlines(1, 5.25, 5.85, colors= 'black')\n",
    "\n",
    "# Dibujamos los números máquina\n",
    "plt.eventplot(subconjunto_num_maquina, colors='red', linelengths=0.5)\n",
    "\n",
    "# Ocultamos el eje y\n",
    "ax = plt.gca() # get current axes\n",
    "ax.get_yaxis().set_visible(False)\n",
    "\n",
    "# Dibujamos el resultado de la operación\n",
    "plt.title(\"Números máquina con una cifra entera y una decimal entre 5.3 y 5.9\")\n",
    "\n",
    "plt.show()"
   ]
  },
  {
   "cell_type": "markdown",
   "id": "bb0c7e4b",
   "metadata": {},
   "source": [
    "### 2.2 Representación binaria\n",
    "\n",
    "El **sistema binario** es un sistema de numeración en el que los números son representados utilizando únicamente dos cifras: 0 (cero) y 1 (uno). Es uno de los sistemas que se utilizan en las computadoras, debido a que estas trabajan internamente con dos niveles de voltaje (0 apagado, 1 conectado), por lo cual su sistema de numeración natural es el sistema binario. Llamamos bit a cada unidad en este sistema (un 0 o un 1)\n",
    "\n",
    "Podemos distinguir dos tipos de números decimales en coma flotante (float):\n",
    "- Precisión simple: utilizan 32 bits para almacenar el valor.\n",
    "- Doble precisión: utilizan 64 bits para almacenar el valor.\n",
    "\n",
    "Aunque estas son las principales, también tenemos la precisión media de 16 bits. Cuantos más bits usemos, más precisión tendremos a la hora de almacenar un número."
   ]
  },
  {
   "cell_type": "code",
   "execution_count": null,
   "id": "cadcaff3",
   "metadata": {},
   "outputs": [],
   "source": [
    "#Mostramos el mismo número (0.123456789121212121212) con distintas precisiones:\n",
    "import numpy as np\n",
    "\n"
   ]
  },
  {
   "cell_type": "markdown",
   "id": "1e8c06ef",
   "metadata": {},
   "source": [
    "Aunque normalmente no lo vamos a necesitar, también podemos acceder al número binario que se ha guardado internamente:"
   ]
  },
  {
   "cell_type": "code",
   "execution_count": null,
   "id": "47817740",
   "metadata": {},
   "outputs": [],
   "source": [
    "!pip install bitstring"
   ]
  },
  {
   "cell_type": "code",
   "execution_count": null,
   "id": "c7f2b25c",
   "metadata": {},
   "outputs": [],
   "source": [
    "# Mostramos el mismo número (en negativo y en positivo) en binario con las distintas precisiones:\n",
    "import bitstring\n"
   ]
  },
  {
   "cell_type": "markdown",
   "id": "29b300db",
   "metadata": {},
   "source": [
    "En el resultado anterior vemos que **el primer bit se corresponde con el signo del número**.\n",
    "\n",
    "Tampoco se observa la coma decimal en el número escrito en binario, esto es porque se utiliza **el formato estándar de representación** ([IEEE Storage Format](https://standards.ieee.org/ieee/754/6210/)), en el cual se representan los números como potencias:\n",
    "\n",
    "- Para el exponente se reservan los dígitos después del bit de signo (los 8 siguientes bits para precisión simple o los 11 siguientes para doble precisión)\n",
    "- El resto representan la mantisa o significado (los 23 últimos para precisión simple o los 52 últimos para doble precisión). La mantisa o significado son los dígitos significativos del número en notación científica.\n",
    "\n",
    "Sin embargo, debido a este formato, encontramos que el cero posee dos representaciones binarias posibles: el -0 y el +0\n",
    "\n",
    "Además, puede ocurrir que **un número con un número finito de cifras decimales posea un número infinito de cifras decimales en su representación binaria**. Por ejemplo, el número decimal 0.1 tiene como representación binaria $0.0\\overline{0011}$, lo cual significa que no se podrá almacenar internamente de manera exacta."
   ]
  },
  {
   "cell_type": "code",
   "execution_count": null,
   "id": "b17e771c",
   "metadata": {},
   "outputs": [],
   "source": [
    "# Aunque parece que 0.1 se guarda de forma exacta, vemos que no es así\n"
   ]
  },
  {
   "cell_type": "code",
   "execution_count": null,
   "id": "55731765",
   "metadata": {},
   "outputs": [],
   "source": [
    "# Vemos que no pasa lo mismo si el número tiene una representación binaria exacta\n"
   ]
  },
  {
   "cell_type": "code",
   "execution_count": null,
   "id": "dfc1a598",
   "metadata": {},
   "outputs": [],
   "source": [
    "# Comprobamos la suma 0.1+0.2\n"
   ]
  },
  {
   "cell_type": "markdown",
   "id": "1e382461",
   "metadata": {},
   "source": [
    "Por este tipo de cosas se dice que los números _float_ son una _leaky abstraction_. La mayor parte del tiempo nos podemos olvidar que estamos trabajando con ellos, pero a veces no podemos."
   ]
  },
  {
   "cell_type": "markdown",
   "id": "f797208d",
   "metadata": {},
   "source": [
    "### 2.3 Redondeos\n",
    "\n",
    "Como hemos visto, siempre habrá más números en la recta real (infinitos entre cada par de números) que los que podemos guardar en cualquier máquina, y usando cualquier lenguaje. Cuando se necesita trabajar con estos números no máquina que se encuentran entre dos números máquina, la estrategia es aproximarlos por números máquina cercanos, es decir, redondear.\n",
    "\n",
    "\n",
    "En coma flotante estándar, para cada número real están definidos cuatro tipos de rendodeo:\n",
    "- Redondeo a la derecha (o por exceso): se toma el número máquina más cercano a la derecha (mayor) del número real.\n",
    "- Redondeo a la izquierda (o por defecto): se toma el número máquina más cercano a la izquierda (menor) del número real.\n",
    "- Redondeo a cero: se toma el número máquina más cercano a la izquierda cuando el número real es positivo y a la derecha cuando es negativo, es decir, se elige entre izquierda y derecha en función del número máquina que se encuentra entre 0 y el número real.\n",
    "- Redondeo al más próximo: se eligen entre el número máquina que está más cerca del número real, en caso de que estén a igual distancia se toma el que tenga el bit 23 de la mantisa a 0.\n",
    "\n",
    "La opción más común es esta última, suele ser la opción por defecto en los ordenadores.\n"
   ]
  },
  {
   "cell_type": "code",
   "execution_count": null,
   "id": "936f2989",
   "metadata": {},
   "outputs": [],
   "source": []
  },
  {
   "cell_type": "code",
   "execution_count": null,
   "id": "14c93aa5",
   "metadata": {},
   "outputs": [],
   "source": []
  },
  {
   "cell_type": "code",
   "execution_count": null,
   "id": "e5e9ae56",
   "metadata": {},
   "outputs": [],
   "source": [
    "# Podemos añadir un segundo argumento para el número de cifras significativas\n"
   ]
  },
  {
   "cell_type": "code",
   "execution_count": null,
   "id": "ca4444ed",
   "metadata": {},
   "outputs": [],
   "source": []
  },
  {
   "cell_type": "code",
   "execution_count": null,
   "id": "e26b7fc1",
   "metadata": {},
   "outputs": [],
   "source": [
    "# Trunca a un número entero\n"
   ]
  },
  {
   "cell_type": "code",
   "execution_count": null,
   "id": "f4ee4edb",
   "metadata": {},
   "outputs": [],
   "source": [
    "# El redondeo tiene un impacto en la salida de los algoritmos\n"
   ]
  },
  {
   "cell_type": "markdown",
   "id": "ac8aec68",
   "metadata": {},
   "source": [
    "### 2.4 Desbordamiento\n",
    "\n",
    "El **desbordamiento** (en inglés, \"overflow\") ocurre cuando el resultado de una operación aritmética excede el rango o la capacidad de representación de los números en el sistema. En otras palabras, el valor resultante es demasiado grande (o, en el caso de números negativos, demasiado pequeño) para ser representado correctamente en el formato de datos disponible. Esto ocurre, de nuevo, porque solo podemos almacenar un número finito de números.\n",
    "\n",
    "Existen dos tipos comunes de desbordamiento:\n",
    "\n",
    "- Desbordamiento positivo: Este tipo de desbordamiento ocurre cuando el resultado de una operación aritmética es mayor que el valor máximo que puede ser representado en el formato de datos específico. Por ejemplo, si estamos trabajando con números enteros de 8 bits con signo, el valor máximo que podemos representar es 127. Si sumamos 100 + 50 en este formato, obtenemos 150, lo cual está más allá del rango permitido y causará un desbordamiento positivo.\n",
    "\n",
    "- Desbordamiento negativo: El desbordamiento negativo ocurre cuando el resultado de una operación es menor que el valor mínimo que puede ser representado en el formato de datos. Utilizando el mismo ejemplo de números enteros de 8 bits con signo, el valor mínimo que podemos representar es -128. Si restamos 150 - 300, el resultado es -150, lo cual está por debajo del rango permitido y causará un desbordamiento negativo.\n",
    "\n",
    "El desbordamiento es un problema importante en la programación y en el diseño de sistemas digitales, ya que puede llevar a resultados incorrectos y comportamientos impredecibles. Algunas de las consecuencias del desbordamiento pueden incluir:\n",
    "\n",
    "- Pérdida de información: Cuando ocurre un desbordamiento, los bits más significativos del resultado se \"desbordan\" o se descartan, lo que puede llevar a la pérdida de información importante en los cálculos.\n",
    "\n",
    "- Errores en el programa: Si no se maneja adecuadamente, un desbordamiento puede causar que un programa falle o produzca resultados incorrectos. \n",
    "\n",
    "- Vulnerabilidades de seguridad: En algunos casos, los desbordamientos pueden ser explotados por atacantes para corromper la memoria de un programa o ejecutar código malicioso.\n",
    "\n",
    "Para evitar el desbordamiento, es importante elegir el tipo de datos adecuado para representar números en una aplicación y realizar comprobaciones o ajustes necesarios en el código para prevenir resultados fuera de rango. También, en el caso de representaciones de punto flotante, es importante tener en cuenta los límites de precisión y el redondeo."
   ]
  },
  {
   "cell_type": "code",
   "execution_count": null,
   "id": "2f109098",
   "metadata": {},
   "outputs": [],
   "source": [
    "# Miramos cuál es el valor máximo y mínimo del sistema\n",
    "# Nos fijamos en los exponentes\n"
   ]
  },
  {
   "cell_type": "code",
   "execution_count": null,
   "id": "06e69325",
   "metadata": {},
   "outputs": [],
   "source": [
    "# Vemos qué valor le asigna si le damos un número mayor o menor:\n"
   ]
  },
  {
   "cell_type": "code",
   "execution_count": null,
   "id": "e48c1aba",
   "metadata": {},
   "outputs": [],
   "source": [
    "#Intentamos operar con estos números\n"
   ]
  },
  {
   "cell_type": "code",
   "execution_count": null,
   "id": "8591c6f6",
   "metadata": {},
   "outputs": [],
   "source": []
  },
  {
   "cell_type": "code",
   "execution_count": null,
   "id": "d7404039",
   "metadata": {},
   "outputs": [],
   "source": []
  },
  {
   "cell_type": "markdown",
   "id": "eed0992e",
   "metadata": {},
   "source": [
    "### 2.5 Propagación del error\n",
    "\n",
    "La propagación de los errores de redondeo ocurre debido a que, como hemos visto, los números en punto flotante son aproximaciones de los números reales, y estas aproximaciones pueden tener errores. A medida que se realizan más cálculos con estos números aproximados, los errores se acumulan y pueden llevar a resultados inexactos. Algunos de los factores que contribuyen a la propagación del error de redondeo incluyen la pérdida de cifras significativas y el redondeo.\n",
    "\n",
    "La propagación del error de redondeo se vuelve más evidente cuando se realizan cálculos más complejos o al aplicar algoritmos en ciencia de datos que involucran muchas operaciones. Por ejemplo, en cálculos estadísticos, la acumulación de errores de redondeo puede afectar la precisión de los resultados finales, lo que a su vez puede tener un impacto en la toma de decisiones basada en datos.\n",
    "\n",
    "Para minimizar la propagación del error de redondeo en algoritmos de ciencia de datos, es importante considerar el diseño del algoritmo, la elección de tipos de datos y representaciones numéricas, y, en algunos casos, el uso de técnicas de redondeo adecuadas. También se pueden utilizar bibliotecas y herramientas que proporcionen aritmética de alta precisión para reducir el impacto de la propagación del error de redondeo en cálculos críticos."
   ]
  },
  {
   "cell_type": "markdown",
   "id": "2d20b325",
   "metadata": {},
   "source": [
    "Veamos un ejemplo sencillo para ilustrar la propagación del error de redondeo:\n",
    "\n",
    "Supongamos que tenemos dos números en punto flotante, a y b, que son aproximaciones de los números reales.\n",
    "\n",
    "Si realizamos una simple operación de suma:\n",
    "\n",
    "c = a + b\n",
    "\n",
    "El resultado debería ser 0.3, ya que 0.1 + 0.2 es igual a 0.3 en matemáticas. Sin embargo, debido a la limitación de precisión en la representación de punto flotante, c podría no ser exactamente igual a 0.3. El error de redondeo introducido en a y b se propaga a c."
   ]
  },
  {
   "cell_type": "code",
   "execution_count": null,
   "id": "4ab48711",
   "metadata": {},
   "outputs": [],
   "source": [
    "# Representación en punto flotante de 1/10\n",
    "\n",
    "# Representación en punto flotante de 2/10\n"
   ]
  },
  {
   "cell_type": "code",
   "execution_count": null,
   "id": "fb5df1aa",
   "metadata": {},
   "outputs": [],
   "source": []
  },
  {
   "cell_type": "markdown",
   "id": "8932eea1",
   "metadata": {},
   "source": [
    "### 2.6 Estabilidad y condicionamiento\n",
    "\n",
    "En el subcampo matemático del análisis numérico, la **estabilidad numérica** es una propiedad de los algoritmos numéricos. Describe cómo los errores en los datos de entrada se propagan a través del algoritmo. En un método estable, los errores debidos a las aproximaciones se atenúan a medida que la computación procede. En un método inestable, cualquier error en el procesamiento se magnifica conforme el cálculo procede. Métodos inestables generan rápidamente anomalías y son inútiles para el procesamiento numérico.\n",
    "\n",
    "Un problema está **bien condicionado** si pequeñas variaciones en sus datos de entrada provocan pequeñas variaciones en la solución, y **mal condicionado** si las mismas condiciones provocan grandes variaciones en la solución.\n",
    "\n",
    "El **número de condición** de una función respecto de su argumento mide cuánto se modifica el valor de salida si se realiza un pequeño cambio en el valor de entrada. Es decir, cuánto cambia  y=f(x) si se modifica x. El número de condición se utiliza para medir cuán sensible resulta una función a cambios o errores en el valor de entrada, y cuál será el error en el valor de salida debido a este.\n",
    "\n",
    "Cuando estamos trabajando con **métodos iterativos** como los de machine learning, la estabilidad es muy importante porque vamos a realizar las mismas operaciones muchas veces."
   ]
  },
  {
   "cell_type": "code",
   "execution_count": null,
   "id": "b609814a",
   "metadata": {},
   "outputs": [],
   "source": [
    "import math\n",
    "\n",
    "# Número de entrada\n",
    "# Un número cercano a cero\n",
    "\n",
    "# Calcular la raíz cuadrada\n",
    "\n",
    "\n",
    "# Calcular una pequeña perturbación en el número de entrada\n",
    "\n",
    "# Calcular la raíz cuadrada de la versión perturbada\n",
    "\n",
    "# Calcular el error relativo en la solución\n"
   ]
  },
  {
   "cell_type": "code",
   "execution_count": null,
   "id": "8ab89f0f",
   "metadata": {},
   "outputs": [],
   "source": [
    "\n",
    "# Matrices de entrada\n",
    "\n",
    "\n",
    "\n",
    "# Resolución del sistema\n"
   ]
  },
  {
   "cell_type": "markdown",
   "id": "ec4387ee",
   "metadata": {},
   "source": [
    "<img src=\"images/Double-compound-pendulum.gif\" width=200 align=\"center\">"
   ]
  },
  {
   "cell_type": "markdown",
   "id": "7fbaaaac",
   "metadata": {},
   "source": [
    "## 3. En resumen, ¿qué podemos hacer?\n",
    "\n",
    "Lo más importante es analizar el problema que tenemos delante, puesto que es posible que no necesitemos una precisión mayor que la que tenemos. Una vez hecho este análisis, podemos aplicar algunas de estas formas de abordar el problema:\n",
    "\n",
    "- **Utilizar tipos de datos de alta precisión**: En muchos lenguajes de programación, podemos utilizar tipos de datos de alta precisión, como decimal en Python o BigDecimal en Java, en lugar de tipos de datos de punto flotante estándar. Estos tipos de datos ofrecen mayor precisión y reducen el impacto de los errores de redondeo, pero a menudo son más lentos en términos de rendimiento.\n",
    "\n",
    "- **Redondeo controlado**: En lugar de utilizar el redondeo predeterminado proporcionado por la máquina, podemos controlar el redondeo explícitamente en tus cálculos. Esto nos permite ajustar el redondeo según las necesidades de la aplicación, lo que puede ayudar a reducir errores acumulativos.\n",
    "\n",
    "- **Escalado de datos**: Escalar los datos antes de realizar cálculos puede ayudar a evitar errores de desbordamiento y subdesbordamiento. Por ejemplo, si estamos trabajando con números muy pequeños, podríamos escalarlos multiplicando por una constante para llevarlos a un rango más manejable.\n",
    "\n",
    "- **Evitar sustracción de números cercanos**: La sustracción de números cercanos puede llevar a errores de cancelación, donde los dígitos significativos se cancelan entre sí. En su lugar, podemos reformular loss cálculos para evitar la sustracción de números que son casi iguales.\n",
    "\n",
    "- **Utilizar bibliotecas de alta precisión**: Estas bibliotecas a menudo implementan algoritmos avanzados para minimizar errores y ofrecen mayor control sobre el redondeo y la precisión.\n",
    "\n",
    "- **Optimización de algoritmos**: Algunas veces, la optimización de algoritmos puede ayudar a reducir el impacto de los errores de redondeo. Al elegir algoritmos numéricos más estables y eficientes, puedes mejorar la precisión y el rendimiento de tus cálculos.\n",
    "\n",
    "- **Validación de resultados**: Siempre es importante validar los resultados y realizar pruebas de sensibilidad. \n",
    "\n",
    "Vemos algunos ejemplos de redondeo e igualdad de números:"
   ]
  },
  {
   "cell_type": "code",
   "execution_count": null,
   "id": "2843c392",
   "metadata": {},
   "outputs": [],
   "source": [
    "# Si redondeamos 0.1 y 0.2, no podemos igualar a 0.3\n"
   ]
  },
  {
   "cell_type": "code",
   "execution_count": null,
   "id": "b5a3beca",
   "metadata": {},
   "outputs": [],
   "source": [
    "# Sin embargo, podría servirnos si aproximamos los resultados de las operacioness\n"
   ]
  },
  {
   "cell_type": "code",
   "execution_count": null,
   "id": "d0be36eb",
   "metadata": {
    "scrolled": true
   },
   "outputs": [],
   "source": []
  },
  {
   "cell_type": "code",
   "execution_count": null,
   "id": "edd264a1",
   "metadata": {},
   "outputs": [],
   "source": []
  },
  {
   "cell_type": "code",
   "execution_count": null,
   "id": "48814afd",
   "metadata": {},
   "outputs": [],
   "source": [
    "# Para comparar números podemos usar la función isclose()\n"
   ]
  },
  {
   "cell_type": "code",
   "execution_count": null,
   "id": "0ca5c383",
   "metadata": {},
   "outputs": [],
   "source": [
    "# Tolerancia relativa de 1e-20\n"
   ]
  },
  {
   "cell_type": "markdown",
   "id": "3f3d0a75",
   "metadata": {},
   "source": [
    "En `numpy` existen alternativas a la función `isclose` de la librería math:"
   ]
  },
  {
   "cell_type": "code",
   "execution_count": null,
   "id": "e5cdc75a",
   "metadata": {},
   "outputs": [],
   "source": [
    "# El valor por defecto de la tolerancia relativa es de 1e-05  y de la absoluta 1e-08\n"
   ]
  },
  {
   "cell_type": "markdown",
   "id": "7e02d6bd",
   "metadata": {},
   "source": [
    "La libería `decimal` puede almacenar valores decimales con tanta precisión como necesites. Por defecto, garantiza la exactitud de 28 cifras significativas, pero es completamente editable. Se suele utilizar a la hora de trabajar con dinero o tipos de interés."
   ]
  },
  {
   "cell_type": "code",
   "execution_count": null,
   "id": "aacfb868",
   "metadata": {},
   "outputs": [],
   "source": [
    "#Evaluamos la suma 0.1 + 0.2\n",
    "from decimal import Decimal\n",
    "\n"
   ]
  },
  {
   "cell_type": "code",
   "execution_count": null,
   "id": "6b36b5cc",
   "metadata": {},
   "outputs": [],
   "source": [
    "#También te permite calcular la raíz cuadrada\n"
   ]
  },
  {
   "cell_type": "code",
   "execution_count": null,
   "id": "3ec093a1",
   "metadata": {},
   "outputs": [],
   "source": [
    "#Calculamos el cuadrado de la raíz de dos\n"
   ]
  },
  {
   "cell_type": "markdown",
   "id": "94864a25",
   "metadata": {},
   "source": [
    "La librería `fractions` permite almacenar números decimales de forma exacta:"
   ]
  },
  {
   "cell_type": "code",
   "execution_count": null,
   "id": "6c152047",
   "metadata": {},
   "outputs": [],
   "source": [
    "#Resolvemos el problema de 0.1 + 0.2 con Fraction\n"
   ]
  },
  {
   "cell_type": "code",
   "execution_count": null,
   "id": "80f5e638",
   "metadata": {},
   "outputs": [],
   "source": []
  },
  {
   "cell_type": "code",
   "execution_count": null,
   "id": "6967e31a",
   "metadata": {},
   "outputs": [],
   "source": [
    "# Simplifica automáticamente las fracciones\n"
   ]
  },
  {
   "cell_type": "code",
   "execution_count": null,
   "id": "76df2564",
   "metadata": {},
   "outputs": [],
   "source": [
    "#Incluso transforma números decimales\n"
   ]
  }
 ],
 "metadata": {
  "kernelspec": {
   "display_name": "venv",
   "language": "python",
   "name": "venv"
  },
  "language_info": {
   "codemirror_mode": {
    "name": "ipython",
    "version": 3
   },
   "file_extension": ".py",
   "mimetype": "text/x-python",
   "name": "python",
   "nbconvert_exporter": "python",
   "pygments_lexer": "ipython3",
   "version": "3.10.12"
  }
 },
 "nbformat": 4,
 "nbformat_minor": 5
}
