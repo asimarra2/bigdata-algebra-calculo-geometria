{
 "cells": [
  {
   "cell_type": "markdown",
   "id": "96358408",
   "metadata": {},
   "source": [
    "<img src=\"images/keepcoding.png\" width=200 align=\"left\">"
   ]
  },
  {
   "cell_type": "markdown",
   "id": "fe40bd50",
   "metadata": {},
   "source": [
    "# Vectores\n",
    "\n",
    "Imagina que estás jugando al billar. Es importante la fuerza con la que golpeas la bola, pero también la dirección en la que lo haces.\n",
    "\n",
    "<img src=\"./images/billar.jpg\" style=\"width: 250px;\"/>\n",
    "\n",
    "Los vectores en matemáticas son esas flechas que muestran cómo se mueve algo y con qué fuerza lo hace. Esto los diferencia de las magnitudes llamadas **escalares**, que se representan con un solo número. Veamos más ejemplos:\n",
    "\n",
    "- La temperatura de una habitación es una magnitud escalar, por ejemplo, 24 grados\n",
    "- El peso de una persona es un escalar, por ejemplo, 60kg\n",
    "- El viento sopla con una determinada magnitud y en una dirección determinada, es una magnitud vectorial, por ejemplo 40km/h dirección sur\n",
    "- La velocidad de un coche es una magnitud vectorial, por ejemplo, 100km/h dirección A Coruña"
   ]
  },
  {
   "cell_type": "markdown",
   "id": "e155ca07",
   "metadata": {},
   "source": [
    "## 1. Definición\n",
    "\n",
    "Un vector (real) de dimensión n es un ente matemático que viene representado por una tupla de números reales (que se llaman componentes del vector). \n",
    "\n",
    "<center>$v = (a_{1}, a_{2}, a_{3}, ... a_{n})$ donde $v \\in {R}^{n}$</center>\n",
    "\n",
    "Un vector también se puede ver desde el punto de vista de la geometría como vector geométrico. En este sentido, un vector es cualquier ente matemático que se puede representar mediante un segmento de recta orientado dentro del espacio euclidiano.\n",
    "\n",
    "Para definir un vector necesitamos:\n",
    "\n",
    "- Dirección, sentido, módulo y punto de aplicación\n",
    "\n",
    "o bien\n",
    "\n",
    "- Sus componentes $a_i$\n",
    "\n",
    "<img src=\"./images/vector.png\" alt=\"vector\" style=\"width: 500px;\"/>\n",
    "\n",
    "Vemos este vector en el espacio bidimensional:\n",
    "\n",
    "- Su módulo es la longitud de la flecha, que es un escalar. El módulo será mayor cuanto más grande sea la flecha\n",
    "- Su dirección viene representada por la recta roja. Lo podemos medir mediante un ángulo con un eje horizontal imaginario\n",
    "- Su sentido viene representado por la orientación de la flecha y hay dos posibles y opuestas para cada dirección\n",
    "- Si se trata de un vector fijo en el plano, podemos representar su origen con un punto. Por ejemplo, el vector que va de A a B será $\\vec{AB}$\n",
    "\n",
    "Podemos representar el vector en un plano cartesiano bidimensional usando dos ejes coordenados:\n",
    "\n",
    "<img src=\"./images/vector-coord.png\" alt=\"vector\" style=\"width: 500px;\"/>\n",
    "\n",
    "\n",
    "En este caso, además del módulo, dirección y sentido, vemos que el origen del vector se ha hecho coincidir con el origen de coordenadas y que podemos ver las componentes en cada uno de los ejes, por lo que $\\vec{v}= (v_x, v_y)$.\n",
    "\n",
    "En caso de estar en el espacio (tridimensional), necesitaríamos una componente más, y el dibujo también tendría una dimensión más. Sin embargo, la represntación con una flecha con módulo, dirección y sentido se mantiene.\n",
    "\n",
    "<img src=\"./images/vector-coord-3.png\" alt=\"vector\" style=\"width: 500px;\"/>\n",
    "\n",
    "Podemos distinguir entre vectores fijos y libres: los últimos no están aplicados en un punto determinado, mientras que los primeros sí.\n",
    "\n",
    "<div class=\"alert alert-block alert-success\"> Notación: los vectores suelen representarse como $\\vec{v}$ o con negrita y su módulo como $|v|$"
   ]
  },
  {
   "cell_type": "markdown",
   "id": "0db011de",
   "metadata": {},
   "source": [
    "## 2. Uso con python y operaciones elementales\n",
    "\n",
    "Utilizaremos los vectores en Python para almacenar información (numérica) de todo tipo. "
   ]
  },
  {
   "cell_type": "code",
   "execution_count": null,
   "id": "bdb7cebb",
   "metadata": {},
   "outputs": [],
   "source": [
    "!pip install numpy\n",
    "import numpy as np\n"
   ]
  },
  {
   "cell_type": "code",
   "execution_count": 6,
   "id": "85857b4c",
   "metadata": {},
   "outputs": [
    {
     "name": "stdout",
     "output_type": "stream",
     "text": [
      "[2 3 4 5 6 7]\n",
      "<class 'numpy.ndarray'>\n"
     ]
    }
   ],
   "source": [
    "# Creación de un vector con numpy\n",
    "v = np.array([2, 3, 4, 5, 6, 7])\n",
    "print(v)\n",
    "print(type(v))"
   ]
  },
  {
   "cell_type": "code",
   "execution_count": 7,
   "id": "87d7fc73",
   "metadata": {},
   "outputs": [
    {
     "data": {
      "text/plain": [
       "6"
      ]
     },
     "execution_count": 7,
     "metadata": {},
     "output_type": "execute_result"
    }
   ],
   "source": [
    "len(v)"
   ]
  },
  {
   "cell_type": "code",
   "execution_count": 8,
   "id": "e5bf2485",
   "metadata": {},
   "outputs": [
    {
     "data": {
      "text/plain": [
       "(6,)"
      ]
     },
     "execution_count": 8,
     "metadata": {},
     "output_type": "execute_result"
    }
   ],
   "source": [
    "# En el futuro vamos a poder guardar elementos multidimensionales, por lo que aprendemos a usar shape\n",
    "v.shape"
   ]
  },
  {
   "cell_type": "markdown",
   "id": "4661ef41",
   "metadata": {},
   "source": [
    "### 2.1 Suma y resta de vectores\n",
    "\n",
    "El **vector suma** está definido por:\n",
    "\n",
    "\n",
    "<center>$[u_{1}, u_{2}, ..., u_{n}] + [v_{1}, v_{2}, ..., v_{n}] = [u_{1}+v_{1}, u_{2}+v_{2}, ..., u_{n}+v_{n}]$</center>\n",
    "\n",
    "Para cualesquiera vectores **u**, **v**, **w**, se tiene:\n",
    "* Propiedad asociativa: $(u+v)+w=u+(v+w)$\n",
    "* Propiedad conmutativa: $u+v=v+u$\n"
   ]
  },
  {
   "cell_type": "code",
   "execution_count": 14,
   "id": "3c6a560b",
   "metadata": {},
   "outputs": [
    {
     "data": {
      "text/plain": [
       "array([8, 8, 4])"
      ]
     },
     "execution_count": 14,
     "metadata": {},
     "output_type": "execute_result"
    }
   ],
   "source": [
    "import numpy as np # !pip install numpy\n",
    "x_np = np.array([1, 4, 2])\n",
    "y_np = np.array([7, 4, 2])\n",
    "\n",
    "x_np + y_np"
   ]
  },
  {
   "cell_type": "markdown",
   "id": "9800f15f",
   "metadata": {},
   "source": [
    "Es importante no tratar las listas de python como si fuesen vectores, porque el operador suma lo que hará será concatenarlas."
   ]
  },
  {
   "cell_type": "code",
   "execution_count": 12,
   "id": "191c8c83",
   "metadata": {},
   "outputs": [
    {
     "data": {
      "text/plain": [
       "[1, 4, 2, 7, 4, 2]"
      ]
     },
     "execution_count": 12,
     "metadata": {},
     "output_type": "execute_result"
    }
   ],
   "source": [
    "# No podemos usar listas porque no nos sirven para hacer operaciones. Si quisieras hacerlas tendrias que hacer un loop y eso complicaria todo\n",
    "x_np = [1, 4, 2]\n",
    "y_np = [7, 4, 2]\n",
    "\n",
    "x_np + y_np"
   ]
  },
  {
   "cell_type": "markdown",
   "id": "f2f66490",
   "metadata": {},
   "source": [
    "De forma similar, el vector resta se define como:\n",
    "\n",
    "<center>$[u_{1}, u_{2}, ..., u_{n}] - [v_{1}, v_{2}, ..., v_{n}] = [u_{1}-v_{1}, u_{2}-v_{2}, ..., u_{n}-v_{n}]$</center>\n",
    "\n",
    "Gráficamente el vector **-u** es el vector **u** con el sentido contrario de la flecha, por lo que podemos ver la resta como **u** - **v** = **u** + **-v** y usar el método gráfico que hemos visto para la suma."
   ]
  },
  {
   "cell_type": "code",
   "execution_count": 16,
   "id": "f1d5bbd6",
   "metadata": {},
   "outputs": [
    {
     "data": {
      "text/plain": [
       "array([-6,  0,  0])"
      ]
     },
     "execution_count": 16,
     "metadata": {},
     "output_type": "execute_result"
    }
   ],
   "source": [
    "import numpy as np # !pip install numpy\n",
    "x_np = np.array([1, 4, 2])\n",
    "y_np = np.array([7, 4, 2])\n",
    "x_np - y_np"
   ]
  },
  {
   "cell_type": "code",
   "execution_count": 17,
   "id": "e3c43486-a205-426e-98b6-9249fcceb8c9",
   "metadata": {},
   "outputs": [
    {
     "data": {
      "text/plain": [
       "array([6, 0, 0])"
      ]
     },
     "execution_count": 17,
     "metadata": {},
     "output_type": "execute_result"
    }
   ],
   "source": [
    "import numpy as np # !pip install numpy\n",
    "x_np = np.array([1, 4, 2])\n",
    "y_np = np.array([7, 4, 2])\n",
    "y_np - x_np # Misma direccion del ejemplo anterior pero sentido contrario."
   ]
  },
  {
   "cell_type": "markdown",
   "id": "a2f6b889",
   "metadata": {},
   "source": [
    "Que una de las componentes sea negativa, gráficamente, solo quiere decir que la componente de ese eje va a ir en el sentido contrario.\n"
   ]
  },
  {
   "cell_type": "markdown",
   "id": "a7a30584",
   "metadata": {},
   "source": [
    "**IMPORTANTE**: No podemos sumar o restar **vectores de distinta dimensión**. Esto sería como intentar sumar una flecha en el plano con una en el espacio."
   ]
  },
  {
   "cell_type": "code",
   "execution_count": null,
   "id": "68e72f7e-7ee6-4f1c-8323-f2504a1dcbf9",
   "metadata": {},
   "outputs": [],
   "source": [
    "x_np = np.array([1, 4, 2])\n",
    "z_np = np.array([7, 4])\n",
    "\n",
    "x_np + z_np # Debe dar error porque no tienen la misma dimension"
   ]
  },
  {
   "cell_type": "markdown",
   "id": "f968f193",
   "metadata": {},
   "source": [
    "## 2.2 Producto de un escalar por un vector\n",
    "\n",
    "Dado un número $a$ y un vector $v$, la multiplicación viene definida por:\n",
    "<br>\n",
    "<center>$a \\cdot (v_{1}, v_{2}, ... v_{n}) = (a \\cdot v_{1}, a \\cdot v_{2}, ... a \\cdot v_{n})$</center>\n",
    "\n",
    "Dado un vector **v** y dos números cualesquiera $\\alpha$, $\\beta \\in \\mathbb{R}$, se tiene:\n",
    "* Propiedad asociativa: $\\alpha$($\\beta$**v**)=($\\alpha$$\\beta$)**v**  \n",
    "* Propiedad distributiva: $\\alpha$(**u**+**v**)=$\\alpha$**u**+ $\\alpha$**v**\n",
    "\n",
    "\n",
    "Con numpy podemos usar la multiplicación directamente, pero no es el caso si tratamos con listas."
   ]
  },
  {
   "cell_type": "code",
   "execution_count": 19,
   "id": "618af0ad",
   "metadata": {},
   "outputs": [
    {
     "data": {
      "text/plain": [
       "array([2, 8, 4])"
      ]
     },
     "execution_count": 19,
     "metadata": {},
     "output_type": "execute_result"
    }
   ],
   "source": [
    "x_np = np.array([1, 4, 2])\n",
    "2*x_np # para cambiar el tamaño de la flecha\n"
   ]
  },
  {
   "cell_type": "markdown",
   "id": "45af8d5f",
   "metadata": {},
   "source": [
    "El vector resultante de la multiplicación por un escalar (que recordemos no es más que un número) es otro vector con la misma dirección, pero cuyo módulo se ha multiplicado por el escalar. En caso de que sea un número negativo, se invertiría también el sentido del vector."
   ]
  },
  {
   "cell_type": "markdown",
   "id": "7c22de5a",
   "metadata": {},
   "source": [
    "## 2.3 Producto escalar o interior\n",
    "\n",
    "El producto escalar o interior entre dos vectores tiene como resultado un escalar (un número). De nuevo, necesitamos que los dos vectores tengan la misma dimensión, o lo que es lo mismo, el mismo número de componentes.\n",
    "\n",
    "Podemos imaginarlo como una manera de medir cuánto se parecen dos vectores o cuánto tienen en común en términos de dirección.\n",
    "\n",
    "Pensemos en dos flechas que representan dos vectores. El producto escalar sería como multiplicar la longitud de una de esas flechas por la proyección de la otra flecha sobre la primera. Si las flechas van en la misma dirección, el producto escalar es grande porque tienen mucho en común. Si están en direcciones diferentes o perpendiculares, el producto escalar es más pequeño o incluso puede ser cero porque hay menos similitud entre ellas.\n",
    "\n",
    "Por ejemplo, si estamos midiendo la fuerza que necesitas para empujar un objeto en la dirección exacta en la que queremos moverlo, el producto escalar de las fuerzas que aplicamos sería grande si empujas en la misma dirección que el movimiento y más pequeño si aplicamos la fuerza en una dirección diferente.\n",
    "\n",
    "\n",
    "Considerando dos vectores $\\overrightarrow{u}$ y $\\overrightarrow{v}$, el producto escalar viene definido por:\n",
    "\n",
    "\n",
    "<center>$\\overrightarrow{u} \\cdot \\overrightarrow{v} = \\sum_{i \\in D}\\overrightarrow{u}_{i} \\cdot \\overrightarrow{v}_{i} = u_{1} \\cdot v_{1} + u_{2} \\cdot v_{2} + ... u_{n} \\cdot v_{n}$</center>\n",
    "\n",
    "También puede escribirse de la siguiente forma:\n",
    "\n",
    "<center>$\\overrightarrow{u} \\cdot \\overrightarrow{v} = |\\overrightarrow{u}||\\overrightarrow{v}| \\cos \\theta $</center>\n",
    "\n",
    "Donde las barras indican el módulo de los vectores (la magnitud de la flecha, lo veremos más adelante!) y $\\theta$ es el ángulo que forman entre ellos (si los imaginamos como flechas).\n",
    "\n",
    "Las **propiedades algebraicas del producto escalar** son:  \n",
    "* **Propiedad conmutativa**: **u** · **v** = **v** · **u**  \n",
    "* **Homogeneidad**: (α u) · v = α (u · v)  \n",
    "* **Propiedad distributiva**: (v<sub>1</sub> + v<sub>2</sub>) · **x** = v<sub>1</sub> · **x** + v<sub>2</sub> · **x**  \n",
    "\n",
    "Existe un operador en numpy para el producto escalar:"
   ]
  },
  {
   "cell_type": "code",
   "execution_count": 30,
   "id": "e60bcd6c",
   "metadata": {},
   "outputs": [
    {
     "name": "stdout",
     "output_type": "stream",
     "text": [
      "32\n",
      "32\n"
     ]
    }
   ],
   "source": [
    "import numpy as np\n",
    "\n",
    "u = np.array([1, 2, 3])\n",
    "v = np.array([4, 5, 6])\n",
    "\n",
    "print(v@u) # atajo para hacer el producto escalar entre dos vectores\n",
    "print(np.dot(u, v)) # otra forma de hacerlo"
   ]
  },
  {
   "cell_type": "markdown",
   "id": "49d6efcf",
   "metadata": {},
   "source": [
    "¿Qué pasa si intentamos hacer el producto escalar con dos vectores de distinta dimensión?"
   ]
  },
  {
   "cell_type": "code",
   "execution_count": null,
   "id": "65e65c44",
   "metadata": {},
   "outputs": [],
   "source": [
    "import numpy as np\n",
    "\n",
    "u = np.array([1, 2, 3])\n",
    "v = np.array([4, 5])\n",
    "\n",
    "print(v@u) # Debe dar n error porque no tienen la misma dimension"
   ]
  },
  {
   "cell_type": "markdown",
   "id": "0c4b3859",
   "metadata": {},
   "source": [
    "**Ejercicio**: Calcular el producto escalar sin usar numpy"
   ]
  },
  {
   "cell_type": "code",
   "execution_count": 37,
   "id": "861dc476",
   "metadata": {},
   "outputs": [
    {
     "name": "stdout",
     "output_type": "stream",
     "text": [
      "66\n",
      "True\n"
     ]
    }
   ],
   "source": [
    "u = np.array([1, 2, 3, 4])\n",
    "v = np.array([7, 4, 5, 9])\n",
    "\n",
    "pe_cuv = sum(u*v for u,v in zip(u,v))\n",
    "print(pe_cuv)\n",
    "print(pe_cuv == v@u)"
   ]
  },
  {
   "cell_type": "code",
   "execution_count": null,
   "id": "defd54fb",
   "metadata": {},
   "outputs": [],
   "source": []
  },
  {
   "cell_type": "markdown",
   "id": "600f6200",
   "metadata": {},
   "source": [
    "### 2.3.1 Vectores ortogonales\n",
    "\n",
    "Dos vectores son ortogonales (geométricamente, perpendiculares) si y solo si su producto escalar es nulo. Si recordamos la fórmula del producto escalar, teníamos el coseno del ángulo que forman. Según la circunferencia trigonométrica, el coseno es 0 para un ángulo de 90 o 270.\n",
    "\n",
    "Por tanto, si dos vectores tienen magnitud no nula (vamos a ver en un momento lo que es esto con más detalle) y su producto escalar es 0, son perpendiculares."
   ]
  },
  {
   "cell_type": "code",
   "execution_count": 40,
   "id": "8bbd2b12",
   "metadata": {},
   "outputs": [
    {
     "name": "stdout",
     "output_type": "stream",
     "text": [
      "0\n"
     ]
    }
   ],
   "source": [
    "v1 = np.array([3, 4])\n",
    "v2 = np.array([-4, 3])\n",
    "\n",
    "print(v1 @ v2)"
   ]
  },
  {
   "cell_type": "markdown",
   "id": "9ac3b114",
   "metadata": {},
   "source": [
    "### 2.4 Norma de un vector"
   ]
  },
  {
   "cell_type": "markdown",
   "id": "3eb5bfdd",
   "metadata": {},
   "source": [
    "La norma de un vector es básicamente una medida de su tamaño o longitud, es decir, de la magnitud de la flecha. \n",
    "\n",
    "En términos simples, para nosotros va a ser como calcular la distancia desde el origen (el punto de partida) hasta el extremo del vector.\n",
    "\n",
    "Hay varios tipos de normas, y todas tienen que cumplir las siguientes propiedades:\n",
    "\n",
    "* $\\|v\\|$ es un número real no negativo.  \n",
    "* $\\|v\\|$ = 0 $\\leftrightarrow$ **v**=0.   \n",
    "* Para cualquier escalar $\\alpha$, $\\|\\alpha\\cdot v\\|$ = $| \\alpha | \\cdot$ $\\|v\\|$.  \n",
    "* $\\|u+v\\|$ ≤ $\\|u\\|$ + $\\|v\\|$ (desigualdad triangular)\n",
    "\n",
    "Algunas normas comúnmente utilizadas son:\n",
    "\n",
    "- Norma-1: $|x_1|+|x_2|+...+|x_n|$\n",
    "\n",
    "- Norma-2: $\\sqrt{|x_1|^2+|x_2|^2+...+|x_n|^2}$\n",
    "\n",
    "- Norma-infinito: $\\max(|x_1|, |x_2|,...,|x_n|)$\n",
    "\n",
    "Utilizaremos sobre todo la norma 2, también llamada norma euclídea. Es la raíz cuadrada del producto escalar del vector por sí mismo. \n",
    "\n",
    "<center>$||v|| =+ \\sqrt{v \\cdot v} = (\\sum_{i=1}^{n}x_{i}^2)^\\frac{1}{2}$</center>\n",
    "\n",
    "Por las propiedades del producto escalar, sabemos que va a ser un número positivo."
   ]
  },
  {
   "cell_type": "code",
   "execution_count": 41,
   "id": "7311940b",
   "metadata": {},
   "outputs": [
    {
     "data": {
      "text/plain": [
       "np.float64(5.477225575051661)"
      ]
     },
     "execution_count": 41,
     "metadata": {},
     "output_type": "execute_result"
    }
   ],
   "source": [
    "u_array = np.array([1, 2, 3, 4])\n",
    "v_array = np.array([7, 4, 5, 9])\n",
    "\n",
    "np.linalg.norm(u_array) # forma 1 de calcular la norma"
   ]
  },
  {
   "cell_type": "code",
   "execution_count": 45,
   "id": "2b33800e",
   "metadata": {},
   "outputs": [
    {
     "data": {
      "text/plain": [
       "np.float64(5.477225575051661)"
      ]
     },
     "execution_count": 45,
     "metadata": {},
     "output_type": "execute_result"
    }
   ],
   "source": [
    "np.sqrt(u_array@u_array)  # forma 2 de calcular la norma"
   ]
  },
  {
   "cell_type": "markdown",
   "id": "a0f3b869",
   "metadata": {},
   "source": [
    "Hay más formas de calcularla."
   ]
  },
  {
   "cell_type": "code",
   "execution_count": 46,
   "id": "ebdbaba8",
   "metadata": {},
   "outputs": [
    {
     "data": {
      "text/plain": [
       "np.float64(5.477225575051661)"
      ]
     },
     "execution_count": 46,
     "metadata": {},
     "output_type": "execute_result"
    }
   ],
   "source": [
    "np.sqrt(sum(u_array*u_array)) # forma 3 de calcular la norma"
   ]
  },
  {
   "cell_type": "code",
   "execution_count": null,
   "id": "7dae06b7",
   "metadata": {},
   "outputs": [],
   "source": []
  },
  {
   "cell_type": "markdown",
   "id": "8ced4106",
   "metadata": {},
   "source": [
    "### 3.1 Ejemplo: objeto en movimiento\n",
    "\n",
    "Vamos a imaginar un objeto en movimiento con una velocidad inicial y una aceleración constante. Vamos a calcular su posición en diferentes momentos del tiempo utilizando ecuaciones de movimiento, que sabemos que son:\n",
    "\n",
    "$\\vec{x} = \\vec{x_0} + \\vec{v_0}t + {{1}\\over{2}} \\vec{a} t² $\n",
    "\n",
    "Donde vamos a usar un sistema de 3 ejes cartesianos (x, y, z) y:\n",
    "\n",
    "- $\\vec{x}$ será la posición (vector!) en un instante de tiempo\n",
    "- $\\vec{x_0}$ será la posición inicial para t=0, que también es un vector (puesto que necesitamos saber las tres componentes)\n",
    "- $\\vec{v_0}$ es la velocidad inicial del objeto para t=0\n",
    "- $\\vec{a}$ es la aceleración del objeto, que vamos a tomar como una magnitud vectorial constante, es decir, que no depende del tiempo\n",
    "\n"
   ]
  },
  {
   "cell_type": "code",
   "execution_count": 66,
   "id": "68ff084c",
   "metadata": {},
   "outputs": [
    {
     "name": "stdout",
     "output_type": "stream",
     "text": [
      "Posicion final despues de:  2 segundos\n",
      "x:  7.0\n",
      "x:  7.6\n",
      "x:  6.0\n"
     ]
    }
   ],
   "source": [
    "import numpy as np\n",
    "\n",
    "# Datos iniciales\n",
    "x_0 = np.array([0,0,0])\n",
    "v_0 = np.array([3,4,2])\n",
    "a = np.array([0.5,-0.2,1])\n",
    "\n",
    "# Tiempo\n",
    "t = 2\n",
    "\n",
    "# Calcular la posición final utilizando las ecuaciones de movimiento\n",
    "final_position = x_0 + v_0 * t + 1/2*a*t**2\n",
    "\n",
    "print(\"Posicion final despues de: \", t, \"segundos\")\n",
    "print(\"x: \", final_position[0])\n",
    "print(\"x: \", final_position[1])\n",
    "print(\"x: \", final_position[2])"
   ]
  },
  {
   "cell_type": "markdown",
   "id": "cb3a257c",
   "metadata": {},
   "source": [
    "Podemos ver cómo cambia la posición final en función de la velocidad y posición iniciales."
   ]
  },
  {
   "cell_type": "markdown",
   "id": "922715f1",
   "metadata": {},
   "source": [
    "### 3.2 Ejemplo: procesamiento de lenguaje natural\n",
    "\n",
    "Además de múltiples ejemplos del mundo físico, los vectores tienen gran utilidad en el ámbito de PNL o procesamiento de lenguaje natural (NLP en inglés). \n",
    "\n",
    "El modelo más básico es la representación bag-of-words, que respresenta un texto como un conjunto no ordenado de palabras. No tiene en cuenta la relación entre las palabras, aunque sí que tiene en cuenta cuántas veces aparecen.\n",
    "\n",
    "Veamos un ejemplo. Primero vamos a crear una función para obtener el vocabulario de las oraciones, es decir, todas las palabras distintas que aparecen:"
   ]
  },
  {
   "cell_type": "code",
   "execution_count": 67,
   "id": "e8404b46",
   "metadata": {},
   "outputs": [],
   "source": [
    "import numpy as np\n",
    "\n",
    "# Función para obtener el vocabulario único de las oraciones\n",
    "def obtener_vocabulario(oraciones):\n",
    "    palabras = set()\n",
    "    for oracion in oraciones:\n",
    "        palabras.update(oracion.split())\n",
    "    return list(palabras)\n"
   ]
  },
  {
   "cell_type": "markdown",
   "id": "e20b52e4",
   "metadata": {},
   "source": [
    "Vamos a usar un par de oraciones de ejemplo:"
   ]
  },
  {
   "cell_type": "code",
   "execution_count": 97,
   "id": "0ebd7c89",
   "metadata": {
    "scrolled": true
   },
   "outputs": [
    {
     "name": "stdout",
     "output_type": "stream",
     "text": [
      "['perro', 'animales', 'Los', 'gustan', 'ladra', 'perros', 'Me', 'gatos', 'El', 'son', 'y', 'los']\n"
     ]
    }
   ],
   "source": [
    "# Ejemplo de oraciones\n",
    "oraciones_ejemplo = [\n",
    "    \"El perro ladra\",\n",
    "    \"Me gustan los perros\",\n",
    "    \"Los perros y los gatos son animales\",\n",
    "    \"Los perros y los perros son animales\"\n",
    "]\n",
    "\n",
    "# Obtener el vocabulario único de las oraciones\n",
    "print(obtener_vocabulario(oraciones_ejemplo))"
   ]
  },
  {
   "cell_type": "markdown",
   "id": "4a6c4488",
   "metadata": {},
   "source": [
    "El siguiente paso sería crear un vector para cada oración, en función del vocabulario que hemos generado:"
   ]
  },
  {
   "cell_type": "code",
   "execution_count": 98,
   "id": "f2ef737b",
   "metadata": {},
   "outputs": [
    {
     "name": "stdout",
     "output_type": "stream",
     "text": [
      "Vocabulario:  ['perro', 'animales', 'Los', 'gustan', 'ladra', 'perros', 'Me', 'gatos', 'El', 'son', 'y', 'los']\n",
      "Oracion 1:  [1. 0. 0. 0. 1. 0. 0. 0. 1. 0. 0. 0.]\n",
      "Oracion 2:  [0. 0. 0. 1. 0. 1. 1. 0. 0. 0. 0. 1.]\n",
      "Oracion 3:  [0. 1. 1. 0. 0. 1. 0. 1. 0. 1. 1. 1.]\n",
      "Oracion 4:  [0. 1. 1. 0. 0. 2. 0. 0. 0. 1. 1. 1.]\n"
     ]
    }
   ],
   "source": [
    "# Función para representar cada oración como un vector de frecuencia de palabras\n",
    "def representar_oraciones(oraciones, vocabulario): \n",
    "    # print(len(oraciones), len(vocabulario))\n",
    "    representaciones = np.zeros((len(oraciones), len(vocabulario)))\n",
    "    # print(representaciones)\n",
    "    for i, oracion in enumerate(oraciones):\n",
    "        for palabra in oracion.split():\n",
    "            if palabra in vocabulario:\n",
    "                index_palabra_vocabulario = vocabulario.index(palabra)\n",
    "                representaciones[i][index_palabra_vocabulario] += 1\n",
    "    return representaciones\n",
    "\n",
    "vocabulario = obtener_vocabulario(oraciones_ejemplo)\n",
    "# Representar las oraciones como vectores de frecuencia de palabras\n",
    "representaciones = representar_oraciones(oraciones_ejemplo, vocabulario)\n",
    "\n",
    "# Imprimir resultados\n",
    "print(\"Vocabulario: \", vocabulario)\n",
    "for i, vector in enumerate(representaciones):\n",
    "    print(f\"Oracion {i+1}: \", vector)"
   ]
  },
  {
   "cell_type": "markdown",
   "id": "0c4de385",
   "metadata": {},
   "source": [
    "Hay que tener en cuenta que normalmente en este tipo de representaciones se hace un tratamiento previo para quedarse con la raíz de la palabra, por ejemplo, \"perro\" y \"perros\" tendrían la misma raíz (esto se conoce como stemming). También se suelen quitar las palabras que no aportan significado, como \"el\", \"la\", \"de\", que se denominan \"stop words\". Existen librerías específicas que hacen este trabajo mucho más fácil, por ejemplo [nltk](https://www.nltk.org/)"
   ]
  },
  {
   "cell_type": "code",
   "execution_count": null,
   "id": "962003db",
   "metadata": {},
   "outputs": [],
   "source": [
    "!pip install nltk\n",
    "nltk.download('all')"
   ]
  },
  {
   "cell_type": "code",
   "execution_count": null,
   "id": "08307a4b",
   "metadata": {},
   "outputs": [],
   "source": [
    "import nltk\n",
    "from nltk.tokenize import word_tokenize\n",
    "tokens = word_tokenize(oraciones_ejemplo[0])"
   ]
  },
  {
   "cell_type": "code",
   "execution_count": null,
   "id": "3c07b707",
   "metadata": {},
   "outputs": [],
   "source": [
    "tokens"
   ]
  },
  {
   "cell_type": "markdown",
   "id": "ea39e76c",
   "metadata": {},
   "source": [
    "Este tipo de representación es muy útil, por ejemplo, podríamos crear un clasificador para determinar si un email es o no spam, usando una muestra conocida para entrenar. Como es de esperar, trabajar con vectores (números) nos permite usar muchos más modelos."
   ]
  }
 ],
 "metadata": {
  "kernelspec": {
   "display_name": "Python 3 (ipykernel)",
   "language": "python",
   "name": "python3"
  },
  "language_info": {
   "codemirror_mode": {
    "name": "ipython",
    "version": 3
   },
   "file_extension": ".py",
   "mimetype": "text/x-python",
   "name": "python",
   "nbconvert_exporter": "python",
   "pygments_lexer": "ipython3",
   "version": "3.12.0"
  }
 },
 "nbformat": 4,
 "nbformat_minor": 5
}
