{
 "cells": [
  {
   "cell_type": "markdown",
   "id": "12d63f95",
   "metadata": {},
   "source": [
    "<img src=\"images/keepcoding.png\" width=200 align=\"left\">"
   ]
  },
  {
   "cell_type": "markdown",
   "id": "70d01464",
   "metadata": {},
   "source": [
    "# Espacios vectoriales\n",
    "\n",
    "Aunque hemos empezado hablando de vectores porque su representación geométrica (como flechas) es bastante intuitiva, el concepto más básico sería el de espacio vectorial, que es el lugar donde \"viven\" los vectores. De hecho, podríamos definir un vector simplemente como un elemento de un espacio vectorial (una vez definamos el espacio vectorial :) ).\n",
    "\n",
    "Una característica central de los espacios vectoriales, que veremos a continuación, es su linealidad. Por este motivo se usan para modelar situaciones en las que hay una relación lineal entre los elementos. Por ejemplo, la codificación R(ed)G(reen)B(lue) para los [colores](https://www.rapidtables.com/web/color/RGB_Color.html) en informática.\n",
    "\n",
    "En esta codificación, tenemos que cada color se obtiene en función de tres variables, que son la \"cantidad\" de cada color básico que hay en el color que hemos elegido.\n",
    "\n",
    "Podemos ver estos tres colores básicos como tres ejes independientes, y el color seleccionado como un vector de tres componentes (x_rojo, x_verde, x_azul). Además, dos puntos muy cercanos van a ser parecidos, mientras que puntos lejanos van a ser distintos (relación lineal).\n",
    "\n",
    "<img src=\"images/espacio-vectorial.png\" width=200 align=\"center\">"
   ]
  },
  {
   "cell_type": "markdown",
   "id": "7e65b37a",
   "metadata": {},
   "source": [
    "## 1. Definición y estructura\n",
    "\n",
    "Como siempre, vamos a empezar con la definición matemática (que no hace falta saberse de memoria puesto que siempre podremos consultarla) y después veremos algunos ejemplos."
   ]
  },
  {
   "cell_type": "markdown",
   "id": "e0bfc11f",
   "metadata": {},
   "source": [
    "Un __espacio vectorial__ es un conjunto no vacío $V$ de objetos, llamados __vectores__, en el que se han definido dos operaciones: la __suma__ y el __producto por un escalar__ (número real) y con las siguientes propiedades: \n",
    "\n",
    "Para la __suma__:\n",
    "+ Propiedad asociativa: \n",
    "<center>$u + (v+w) = (u+v) + w \\;\\;\\;\\; \\forall u, v, w \\in V$</center>\n",
    "\n",
    "+ Propiedad conmutativa: \n",
    "<center>$u + v = v + u \\;\\;\\;\\; \\forall u, v \\in V$</center>\n",
    "\n",
    "+ Existencia del elemento neutro:\n",
    "<center>Existe $u \\in V$ tal que $u + 0 = 0 + u = u \\;\\;\\;\\; \\forall u \\in V  $</center>\n",
    "\n",
    "+ Existencia del elemento opuesto:\n",
    "<center>Existe $u \\in V$ tal que $u + (-u) = 0 \\;\\;\\;\\; \\forall u \\in V  $</center>\n",
    "\n",
    "Para el __producto por un escalar__:\n",
    "+ Propiedad asociativa:\n",
    "<center>$\\alpha \\cdot (\\beta \\cdot u) = (\\alpha\\beta) \\cdot u$</center>\n",
    "    \n",
    "+ Existencia del elemento neutro:\n",
    "<center>$1 \\cdot u = u \\;\\;\\;\\; \\forall u \\in V$</center>\n",
    "\n",
    "+ Propiedad distributiva del producto respecto la suma de vectores:\n",
    "<center>$\\lambda \\cdot (u+v) = \\lambda \\cdot u + \\lambda \\cdot v \\;\\;\\;\\; \\forall u,v \\in V \\;\\;\\; and \\;\\;\\; \\forall \\lambda \\in K$</center>\n",
    "\n",
    "+ Propiedad distributiva del producto respecto la suma de escalares: \n",
    "<center>$(\\lambda + \\mu) \\cdot u = \\lambda \\cdot v + \\mu \\cdot u \\;\\;\\;\\; \\forall u \\in V \\;\\;\\; and \\;\\;\\; \\forall\\lambda,\\mu \\in K$</center>"
   ]
  },
  {
   "cell_type": "markdown",
   "id": "a72545ae",
   "metadata": {},
   "source": [
    "### 1.2 Base de un espacio vectorial\n",
    "\n",
    "En un espacio vectorial, una **base** es un conjunto especial de vectores que tienen dos propiedades importantes: son linealmente independientes (no podemos construir uno de ellos a partir del resto usando sumas y multiplicaciones por escalares) y pueden generar cualquier vector dentro de ese espacio a través de combinaciones lineales (sumas, restas y multiplicaciones por escalares).\n",
    "\n",
    "Imagina una especie de \"sistema de coordenadas\" para un espacio vectorial. Una base es como un conjunto de direcciones fundamentales que pueden combinarse de diferentes maneras para alcanzar cualquier punto dentro de ese espacio. Siguiendo con el ejemplo de los colores, RGB son una base, porque son independientes y podemos generar todos los colores a partir de ellos.\n",
    "\n",
    "Si añadiésemos el color amarillo a la base, seguiríamos pudiendo generar todos los colores, pero ya no serían independientes puesto que sabemos que el amarillo es combinación del rojo y el verde.\n",
    "\n",
    "<img src=\"images/rgb.png\" width=200 align=\"center\">\n",
    "\n",
    "El número de elementos de la base es la **dimensión del espacio vectorial**. Como es de esperar, la dimensión de $\\mathbb{R}²$ es 2 y la del espacio $\\mathbb{R}³$ es tres. Por eso necesitamos dos o tres ejes respectivamente para representar los vectores como flechas, y dos o tres componentes cuando los representamos númericamente. Esta representación numérica no es más que la \"cantidad\" de cada elemento de la base que estamos cogiendo para nuestro vector.\n"
   ]
  },
  {
   "cell_type": "markdown",
   "id": "7e1f4531",
   "metadata": {},
   "source": [
    "## 3. Espacios vectoriales en Machine Learning\n",
    "\n",
    "Este tema está siendo muy teórico, pero vamos a ver que es de gran utilidad en los modelos de Machine Learning e IA que veréis a lo largo del bootcamp. \n",
    "\n",
    "- Representación de datos: Cada instancia de datos puede ser representada como un vector donde cada característica o atributo se convierte en una dimensión en el espacio vectorial. \n",
    "\n",
    "- Espacios de características: A veces, los datos originales pueden no ser óptimos para el aprendizaje automático. Se utilizan transformaciones para llevar estos datos a espacios vectoriales de mayor dimensión, donde los patrones pueden ser más fácilmente identificables o separables. Ejemplos comunes son los kernels en SVM o el uso de técnicas como PCA para reducir la dimensionalidad preservando la información relevante (**¡veréis todo esto más adelante!**).\n",
    "\n",
    "- Modelado y representación de modelos: Los modelos en machine learning pueden representarse matemáticamente en términos de espacios vectoriales. Los pesos en una red neuronal, por ejemplo, se pueden representar como vectores y matrices. \n",
    "\n",
    "- Análisis de similitud: En muchos algoritmos de machine learning, la noción de similitud entre vectores es fundamental. Se utilizan medidas de similitud (como la distancia euclidiana o la similitud del coseno) para comparar vectores y encontrar patrones en los datos, como en algoritmos de clustering o recomendación.\n",
    "\n",
    "- Procesamiento de lenguaje natural (NLP): En NLP, las palabras o frases se representan comúnmente como vectores numéricos en un espacio vectorial donde las palabras con significados similares están cercanas en el espacio vectorial. Esto permite a los modelos capturar relaciones semánticas y sintácticas entre palabras y textos.\n",
    "\n",
    "\n",
    "\n",
    "### 3.1 Ejemplo: análisis de similitud\n",
    "\n",
    "Pensamos en hacer un modelo para ayudarnos a elegir películas. Para eso, vamos a fijarnos en tres características:\n",
    "\n",
    "- La nota que tiene en [letterboxd](letterboxd.com)\n",
    "- El año de estreno\n",
    "- Los minutos de duración\n",
    "\n",
    "Vamos a elegir algunas películas y a convertirlas en vectores de nuestro espacio vectorial, de la forma (nota, año, minutos):\n",
    "\n",
    "- [The Whale](https://letterboxd.com/film/the-whale-2022/) : (3.6, 2022, 117)\n",
    "- [Harry Potter y la piedra filosofal](https://letterboxd.com/film/harry-potter-and-the-philosophers-stone/) : (3.7, 2001, 152)\n",
    "- [Star Wars](https://letterboxd.com/film/star-wars/) : (4.2, 1977, 121)\n",
    "\n",
    "Vamos primero a dibujar estos vectores:"
   ]
  },
  {
   "cell_type": "code",
   "execution_count": null,
   "id": "5c8ef78a",
   "metadata": {},
   "outputs": [],
   "source": []
  },
  {
   "cell_type": "code",
   "execution_count": null,
   "id": "0645d5ac",
   "metadata": {},
   "outputs": [],
   "source": [
    "y = [\"The Whale\", \"Harry Potter\", \"Star Wars\"]\n",
    "\n",
    "fig = plt.figure()\n",
    "ax = Axes3D(fig)\n",
    "fig.add_axes(ax)\n",
    "\n",
    "for i in range(len(X)):\n",
    "    ax.scatter(X[i, 0], \n",
    "               X[i, 1], \n",
    "               X[i, 2], \n",
    "               color='b')\n",
    "    \n",
    "    ax.text(X[i, 0], \n",
    "            X[i, 1],\n",
    "            X[i, 2], \n",
    "            f'{str(y[i])}', \n",
    "            size=20,\n",
    "            zorder=1, \n",
    "            color='k')\n",
    "    \n",
    "ax.set_xlabel('nota')\n",
    "ax.set_ylabel('año')\n",
    "ax.set_zlabel('minutos')\n",
    "plt.show()"
   ]
  },
  {
   "cell_type": "markdown",
   "id": "64c95e7e",
   "metadata": {},
   "source": [
    "Vamos ahora a usar `sklearn` para tener una idea de la similitud entre nuestros vectores."
   ]
  },
  {
   "cell_type": "code",
   "execution_count": null,
   "id": "92fa5fbc",
   "metadata": {},
   "outputs": [],
   "source": [
    "!pip install scikit-learn"
   ]
  },
  {
   "cell_type": "code",
   "execution_count": null,
   "id": "bed861cd",
   "metadata": {},
   "outputs": [],
   "source": [
    "from sklearn.metrics.pairwise import cosine_similarity\n",
    "from sklearn.preprocessing import StandardScaler\n",
    "\n"
   ]
  },
  {
   "cell_type": "markdown",
   "id": "32b3e270",
   "metadata": {},
   "source": [
    "Hemos utilizado la similitud del coseno, que habíamos visto de forma teórica en el tema anterior (para que veais que las matemáticas sí son útiles :) )\n",
    "\n",
    "El resultado que nos da es una matriz cuya diagonal está formada por unos puesto que la similitud de cada elemento consigo mismo será 1."
   ]
  },
  {
   "cell_type": "markdown",
   "id": "5b724983",
   "metadata": {},
   "source": [
    "En este ejemplo hemos elegido tres características para poder hacer una representación gráfica, pero os podéis imaginar que en un modelo real habrá cientos o miles (¡o más!) de caracterísicas. Estas características, variables, o features, no son más que los elementos de la base del espacio vectorial de características que hemos creado para cada problema concreto. "
   ]
  }
 ],
 "metadata": {
  "kernelspec": {
   "display_name": "Python 3 (ipykernel)",
   "language": "python",
   "name": "python3"
  },
  "language_info": {
   "codemirror_mode": {
    "name": "ipython",
    "version": 3
   },
   "file_extension": ".py",
   "mimetype": "text/x-python",
   "name": "python",
   "nbconvert_exporter": "python",
   "pygments_lexer": "ipython3",
   "version": "3.10.12"
  }
 },
 "nbformat": 4,
 "nbformat_minor": 5
}
