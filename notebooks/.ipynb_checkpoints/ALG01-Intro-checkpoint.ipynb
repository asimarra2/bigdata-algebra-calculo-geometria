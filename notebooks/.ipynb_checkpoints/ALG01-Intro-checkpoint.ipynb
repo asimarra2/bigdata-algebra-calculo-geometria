{
 "cells": [
  {
   "cell_type": "markdown",
   "id": "c541a3a9",
   "metadata": {},
   "source": [
    "<img src=\"./images/keepcoding.png\" >"
   ]
  },
  {
   "cell_type": "markdown",
   "id": "18b9c46b",
   "metadata": {},
   "source": [
    "# ¡Bienvenidos al módulo de Álgebra!"
   ]
  },
  {
   "cell_type": "markdown",
   "id": "fe4d4630",
   "metadata": {},
   "source": [
    "Instructora: Raquel Orallo \\\n",
    "Contacto: En clase o Discord \\\n",
    "https://linkedin.com/in/raquelorallo "
   ]
  },
  {
   "cell_type": "markdown",
   "id": "6a9f5835",
   "metadata": {},
   "source": [
    "# En este módulo veremos"
   ]
  },
  {
   "cell_type": "markdown",
   "id": "4557be17",
   "metadata": {},
   "source": [
    "<img src=\"./images/contenidos.png\" width=60%>"
   ]
  },
  {
   "cell_type": "markdown",
   "id": "e052c0ef",
   "metadata": {},
   "source": [
    "# Por qué es importante"
   ]
  },
  {
   "cell_type": "markdown",
   "id": "f19ae82b",
   "metadata": {},
   "source": [
    "- Entender los principios por debajo de los algoritmos de Machine Learning y Deep Learning\n",
    "- Mejorar nuestra intuición sobre los datos\n"
   ]
  },
  {
   "cell_type": "markdown",
   "id": "fb1892fc",
   "metadata": {},
   "source": [
    "# Herramientas\n",
    "\n",
    "- Clases teóricas\n",
    "- Librerías de Python: `math`, `sympy`, `numpy`, `matplotlib`, `scipy`\n",
    "- Necesitamos: `python`, `jupyter`\n",
    "\n",
    "<img src=\"./images/libraries.png\" width=70%>"
   ]
  }
 ],
 "metadata": {
  "kernelspec": {
   "display_name": "Python 3 (ipykernel)",
   "language": "python",
   "name": "python3"
  },
  "language_info": {
   "codemirror_mode": {
    "name": "ipython",
    "version": 3
   },
   "file_extension": ".py",
   "mimetype": "text/x-python",
   "name": "python",
   "nbconvert_exporter": "python",
   "pygments_lexer": "ipython3",
   "version": "3.10.12"
  }
 },
 "nbformat": 4,
 "nbformat_minor": 5
}
