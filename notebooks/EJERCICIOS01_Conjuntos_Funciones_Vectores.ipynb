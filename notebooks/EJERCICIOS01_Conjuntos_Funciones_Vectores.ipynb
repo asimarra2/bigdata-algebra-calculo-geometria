{
 "cells": [
  {
   "cell_type": "markdown",
   "id": "7034ef48",
   "metadata": {},
   "source": [
    "## Ejercicios de repaso del módulo de Matemáticas 101"
   ]
  },
  {
   "cell_type": "markdown",
   "id": "201db50c",
   "metadata": {},
   "source": [
    "### Ejercicio 1: Conjuntos disjuntos\n",
    "\n",
    "Implementa una función `son_disjuntos` que diga si dos conjuntos son disjuntos o no. Para ello, no puedes utilizar directamente `intersection` ni el operador `&`.\n",
    "\n",
    "Aplica la función a los siguientes conjuntos que tendrás que crear previamente en Python:\n",
    "\n",
    "- Los números pares y los números múltiplos de 5, desde el 0 hasta el 100\n",
    "- Las potencias de 2 y los múltiplos de 10, desde el 1 hasta el 1000"
   ]
  },
  {
   "cell_type": "code",
   "execution_count": 21,
   "id": "c8f28c98",
   "metadata": {},
   "outputs": [],
   "source": [
    "def son_disjuntos1(A,B):\n",
    "    return A.isdisjoint(B)\n",
    "\n",
    "def son_disjuntos2(A,B):\n",
    "    if len(A) > len(B):\n",
    "        A, B = B, A\n",
    "\n",
    "    for element in A:\n",
    "        if element in B:\n",
    "            return False\n",
    "    return True"
   ]
  },
  {
   "cell_type": "code",
   "execution_count": 22,
   "id": "6f3532e6",
   "metadata": {},
   "outputs": [
    {
     "name": "stdout",
     "output_type": "stream",
     "text": [
      "False\n",
      "False\n",
      "True\n",
      "True\n"
     ]
    }
   ],
   "source": [
    "Pares = {number for number in range(0, 100) if number % 2 == 0}\n",
    "Mult_5 = {number for number in range(0, 100) if number % 5 == 0}\n",
    "print(son_disjuntos1(Pares, Mult_5))\n",
    "print(son_disjuntos2(Pares, Mult_5))\n",
    "\n",
    "print(\"------\")\n",
    "\n",
    "potencias_de_2 = {2**i for i in range(11) if 2**i <= 1000}\n",
    "multiplos_de_10 = {i for i in range(1, 1001) if i % 10 == 0}\n",
    "print(son_disjuntos1(potencias_de_2, multiplos_de_10))\n",
    "print(son_disjuntos2(potencias_de_2, multiplos_de_10))"
   ]
  },
  {
   "cell_type": "markdown",
   "id": "c551148c",
   "metadata": {},
   "source": [
    "OJO! Pueden pasar cosas raras con las potencias de 2 debido a los errores de aproximación que ya hemos visto."
   ]
  },
  {
   "cell_type": "code",
   "execution_count": 1,
   "id": "985f5fff",
   "metadata": {},
   "outputs": [
    {
     "data": {
      "text/plain": [
       "False"
      ]
     },
     "execution_count": 1,
     "metadata": {},
     "output_type": "execute_result"
    }
   ],
   "source": [
    "import math \n",
    "\n",
    "math.log(2**29, 2).is_integer()"
   ]
  },
  {
   "cell_type": "code",
   "execution_count": 2,
   "id": "9cd6455e",
   "metadata": {},
   "outputs": [
    {
     "data": {
      "text/plain": [
       "True"
      ]
     },
     "execution_count": 2,
     "metadata": {},
     "output_type": "execute_result"
    }
   ],
   "source": [
    "math.log2(2**49-1).is_integer()"
   ]
  },
  {
   "cell_type": "code",
   "execution_count": null,
   "id": "40566985",
   "metadata": {},
   "outputs": [],
   "source": []
  },
  {
   "cell_type": "markdown",
   "id": "7a433182",
   "metadata": {},
   "source": [
    "### Ejercicio 2: Subconjuntos\n",
    "\n",
    "Implementa una función `es_subconjunto` que diga si dados dos subconjuntos uno de ellos es subconjunto de otro, y nos diga cuál. Para ello, no puedes utilizar directamente `issubset` ni el operador `<=`.\n",
    "\n",
    "Aplica la función a los siguientes conjuntos que tendrás que crear previamente en Python:\n",
    "\n",
    "- Los posibles resultados combinados de lanzar un dado y una moneda y los de lanzar dos monedas\n",
    "- Los cuadrados perfectos de dos cifras y los números pares de dos cifras"
   ]
  },
  {
   "cell_type": "code",
   "execution_count": 31,
   "id": "ab863b5d",
   "metadata": {},
   "outputs": [
    {
     "name": "stdout",
     "output_type": "stream",
     "text": [
      "True\n",
      "True\n",
      "False\n",
      "------\n",
      "True\n",
      "True\n",
      "False\n"
     ]
    }
   ],
   "source": [
    "def es_subconjunto1(A,B):\n",
    "    return B.issuperset(A)\n",
    "\n",
    "def es_subconjunto2(A,B):\n",
    "    # if len(A) == 0 or len(B) == 0:\n",
    "    #     return False\n",
    "    \n",
    "    for element in A:\n",
    "        if element not in B:\n",
    "            return False\n",
    "    return True\n",
    "\n",
    "print(es_subconjunto1({1,2}, {1,2,3}))\n",
    "print(es_subconjunto1(set(), {1,2,3,4}))\n",
    "print(es_subconjunto1({0,1}, {1,2,3,4}))\n",
    "print(\"------\")\n",
    "print(es_subconjunto2({1,2}, {1,2,3}))\n",
    "print(es_subconjunto2(set(), {1,2,3,4}))\n",
    "print(es_subconjunto2({0,1}, {1,2,3,4}))"
   ]
  },
  {
   "cell_type": "code",
   "execution_count": 57,
   "id": "4fa35c48",
   "metadata": {},
   "outputs": [
    {
     "name": "stdout",
     "output_type": "stream",
     "text": [
      "False\n"
     ]
    }
   ],
   "source": [
    "# Lanzar un dado y una moneda\n",
    "conjunto_1 = (list(range(1, 7)))*2\n",
    "conjunto_2 = {'Cara', 'Sello'}\n",
    "\n",
    "print(es_subconjunto1(conjunto_1, conjunto_2))"
   ]
  },
  {
   "cell_type": "code",
   "execution_count": 58,
   "id": "bc0d73c0",
   "metadata": {},
   "outputs": [
    {
     "name": "stdout",
     "output_type": "stream",
     "text": [
      "True\n"
     ]
    }
   ],
   "source": [
    "# Lanzar dos monedas distintas\n",
    "conjunto_1 = {'Cara', 'Sello'}\n",
    "conjunto_2 = {'Cara', 'Sello'}\n",
    "\n",
    "print(es_subconjunto1(conjunto_1, conjunto_2))"
   ]
  },
  {
   "cell_type": "code",
   "execution_count": 67,
   "id": "586cdcf3",
   "metadata": {},
   "outputs": [
    {
     "name": "stdout",
     "output_type": "stream",
     "text": [
      "set()\n",
      "True\n"
     ]
    }
   ],
   "source": [
    "# Cuadrados perfectos\n",
    "cuadrados_perfectos = {i**2 for i in range(10, 32) if i**2 < 100}\n",
    "\n",
    "# Números pares\n",
    "Pares = {number for number in range(10, 100) if number % 2 == 0}\n",
    "print(cuadrados_perfectos)\n",
    "\n",
    "print(es_subconjunto1(cuadrados_perfectos, Pares))"
   ]
  },
  {
   "cell_type": "code",
   "execution_count": null,
   "id": "71c36cc5",
   "metadata": {},
   "outputs": [],
   "source": []
  },
  {
   "cell_type": "markdown",
   "id": "64589df0",
   "metadata": {},
   "source": [
    "### Ejercicio 4: \n",
    "\n",
    "Implementa un código que haga la representación gráfica de una función de una variable en un dominio, por ejemplo, la función 3*x + 7.\n",
    "Nota: utiliza [matplotlib](https://matplotlib.org/)."
   ]
  },
  {
   "cell_type": "code",
   "execution_count": null,
   "id": "ca2aa489",
   "metadata": {},
   "outputs": [],
   "source": [
    "import matplotlib.pyplot as plt\n",
    "import numpy as np \n"
   ]
  },
  {
   "cell_type": "markdown",
   "id": "4a91404f",
   "metadata": {},
   "source": [
    "### Ejercicio 5: Vectores en el plano\n",
    "\n",
    "Imagina que sobre un objeto se aplican dos fuerzas en distintas direcciones, por ejemplo, dos personas tirando de una caja con dos cuerdas. La primera fuerza tiene una magnitud 10N y está en dirección Norte. La segunda fuerza tiene una magnitud 5 y está en dirección Este. ¿Cuál es la fuerza resultante? ¿Qué pasaría si la segunda fuerza estuviera en dirección Noreste?"
   ]
  },
  {
   "cell_type": "code",
   "execution_count": null,
   "id": "e5c3a6e6",
   "metadata": {},
   "outputs": [],
   "source": []
  },
  {
   "cell_type": "code",
   "execution_count": null,
   "id": "374685f3",
   "metadata": {},
   "outputs": [],
   "source": [
    "# Ahora el vector está en la dirección de la diagonal, para esto tenemos que multiplicar la magnitud \n",
    "# por un vector de norma 1 en esa dirección\n"
   ]
  },
  {
   "cell_type": "code",
   "execution_count": null,
   "id": "8dbf8549-0a12-49d5-ac7b-510c127ff4f0",
   "metadata": {},
   "outputs": [],
   "source": []
  },
  {
   "cell_type": "markdown",
   "id": "178ded52",
   "metadata": {},
   "source": [
    "### Ejercicio 6: Aplicación del producto escalar\n",
    "\n",
    "Queremos conocer el consumo de luz en nuestro home office, para lo cual usamos un medidor y anotamos el consumo de nuestros dispositivos por hora:\n",
    "\n",
    "- PC: 200W\n",
    "- Pantalla: 100W\n",
    "- Luces: 20W\n",
    "\n",
    "Usamos el PC y el monitor durante 8h al día, pero las luces solo durante hora y media. ¿Cómo podemos saber el consumo total?\n"
   ]
  },
  {
   "cell_type": "code",
   "execution_count": null,
   "id": "291fda96",
   "metadata": {},
   "outputs": [],
   "source": []
  }
 ],
 "metadata": {
  "kernelspec": {
   "display_name": "Python 3 (ipykernel)",
   "language": "python",
   "name": "python3"
  },
  "language_info": {
   "codemirror_mode": {
    "name": "ipython",
    "version": 3
   },
   "file_extension": ".py",
   "mimetype": "text/x-python",
   "name": "python",
   "nbconvert_exporter": "python",
   "pygments_lexer": "ipython3",
   "version": "3.12.0"
  }
 },
 "nbformat": 4,
 "nbformat_minor": 5
}
